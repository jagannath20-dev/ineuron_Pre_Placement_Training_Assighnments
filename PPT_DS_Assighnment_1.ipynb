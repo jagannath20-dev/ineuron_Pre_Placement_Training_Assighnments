{
  "nbformat": 4,
  "nbformat_minor": 0,
  "metadata": {
    "colab": {
      "provenance": []
    },
    "kernelspec": {
      "name": "python3",
      "display_name": "Python 3"
    },
    "language_info": {
      "name": "python"
    }
  },
  "cells": [
    {
      "cell_type": "markdown",
      "source": [
        "1. Write a Python program to reverse a string without using any built-in string reversal functions."
      ],
      "metadata": {
        "id": "IHOcvr9VVWJz"
      }
    },
    {
      "cell_type": "code",
      "execution_count": null,
      "metadata": {
        "colab": {
          "base_uri": "https://localhost:8080/"
        },
        "id": "aUWodrc3VQQy",
        "outputId": "6c0c37a2-066e-4e99-90ba-e87aeb9c5b69"
      },
      "outputs": [
        {
          "output_type": "stream",
          "name": "stdout",
          "text": [
            "Enter a string: Jagannath\n",
            "Reversed string: htannagaJ\n"
          ]
        }
      ],
      "source": [
        "def reverse_string(input_str):\n",
        "    reversed_str = \"\"\n",
        "    for i in range(len(input_str)-1, -1, -1):\n",
        "        reversed_str += input_str[i]\n",
        "    return reversed_str\n",
        "\n",
        "### Driver Code\n",
        "input_string = input(\"Enter a string: \")\n",
        "reversed_string = reverse_string(input_string)\n",
        "print(\"Reversed string:\", reversed_string)"
      ]
    },
    {
      "cell_type": "markdown",
      "source": [
        "2. Implement a function to check if a given string is a palindrome."
      ],
      "metadata": {
        "id": "KlNQRAqsV8kJ"
      }
    },
    {
      "cell_type": "code",
      "source": [
        "def is_palindrome(str1):\n",
        "  # Convert the string to lowercase\n",
        "  str1 = str1.lower()\n",
        "  # Remove any spaces from the string\n",
        "  str1 = str1.replace(\" \",\"\")\n",
        "  # To Reverse the Stringg\n",
        "  reverse_Str = str1[::-1]\n",
        "  return str1 == reverse_Str\n",
        "\n",
        "### Driver Code\n",
        "print(\"************************** Test Case 1 **************************\")\n",
        "inp_str = input(\"Enter a string : \")\n",
        "if is_palindrome(inp_str):\n",
        "  print(\"The string is Palindrome\")\n",
        "else:\n",
        "  print(\"The string is not an Palindrome\")\n",
        "print(\"************************** Test Case 2 **************************\")\n",
        "inp_str1 = input(\"Enter a string : \")\n",
        "if is_palindrome(inp_str1):\n",
        "  print(\"The string is Palindrome\")\n",
        "else:\n",
        "  print(\"The string is not an Palindrome\")"
      ],
      "metadata": {
        "colab": {
          "base_uri": "https://localhost:8080/"
        },
        "id": "myF6B1jaVgsm",
        "outputId": "497c719a-2eab-450b-e3e8-b0f66adfb7f0"
      },
      "execution_count": null,
      "outputs": [
        {
          "output_type": "stream",
          "name": "stdout",
          "text": [
            "************************** Test Case 1 **************************\n",
            "Enter a string : Devarakonda\n",
            "The string is not an Palindrome\n",
            "************************** Test Case 2 **************************\n",
            "Enter a string : bab\n",
            "The string is Palindrome\n"
          ]
        }
      ]
    },
    {
      "cell_type": "markdown",
      "source": [
        "3. Write a program to find the largest element in a given list."
      ],
      "metadata": {
        "id": "TOR7d3igX_SJ"
      }
    },
    {
      "cell_type": "code",
      "source": [
        "def max_ele(list1):\n",
        "  if len(list1) == 0:\n",
        "    return None\n",
        "  max_ele = list1[0]  # Assuming the first element is largest element\n",
        "\n",
        "  for element in list1:\n",
        "    if element > max_ele:\n",
        "      max_ele = element\n",
        "  return max_ele\n",
        "\n",
        "### Driver Code\n",
        "input_list = input(\"Enter a list of numbers separated by spaces: \").split()\n",
        "input_list = [int(num) for num in input_list]  # Convert the input string to a list of integers\n",
        "\n",
        "largest_element = max_ele(input_list)\n",
        "print(\"The largest element is:\", largest_element)"
      ],
      "metadata": {
        "colab": {
          "base_uri": "https://localhost:8080/"
        },
        "id": "2aE9M5C5XXdF",
        "outputId": "b1d95f6a-ae51-4acb-eb03-6d9ef7a4140e"
      },
      "execution_count": null,
      "outputs": [
        {
          "output_type": "stream",
          "name": "stdout",
          "text": [
            "Enter a list of numbers separated by spaces: 1 2 4 5 7 9 22 11\n",
            "The largest element is: 22\n"
          ]
        }
      ]
    },
    {
      "cell_type": "markdown",
      "source": [
        "4. Implement a function to count the occurrence of each element in a list."
      ],
      "metadata": {
        "id": "05YJYMIChf0P"
      }
    },
    {
      "cell_type": "code",
      "source": [
        "def count_occurance_ele(list):\n",
        "  occurance_count = {}\n",
        "  for ele in list:\n",
        "    if ele in occurance_count:\n",
        "      occurance_count[ele] += 1\n",
        "    else:\n",
        "      occurance_count[ele] = 1\n",
        "  return occurance_count\n",
        "\n",
        "### Driver Code\n",
        "input_list = input(\"Enter a list of elements separated by spaces: \").split()\n",
        "\n",
        "occurrence_dict = count_occurance_ele(input_list)\n",
        "print(\"Occurrences:\")\n",
        "for element, count in occurrence_dict.items():\n",
        "    print(element, \":\", count)"
      ],
      "metadata": {
        "colab": {
          "base_uri": "https://localhost:8080/"
        },
        "id": "nmD50WPUY8w2",
        "outputId": "30b55287-3cd2-4437-ce76-f3cff5cd8361"
      },
      "execution_count": null,
      "outputs": [
        {
          "output_type": "stream",
          "name": "stdout",
          "text": [
            "Enter a list of elements separated by spaces: 1 2 4 6 2 7 1 6 2 4 2\n",
            "Occurrences:\n",
            "1 : 2\n",
            "2 : 4\n",
            "4 : 2\n",
            "6 : 2\n",
            "7 : 1\n"
          ]
        }
      ]
    },
    {
      "cell_type": "markdown",
      "source": [
        "5. Write a Python program to find the second largest number in a list."
      ],
      "metadata": {
        "id": "SFh33AuMjUDb"
      }
    },
    {
      "cell_type": "code",
      "source": [
        "def second_largest_ele(list1):\n",
        "  if len(list1) < 2:\n",
        "    return None\n",
        "  largest = max(list1[0], list1[1])  # Initialize the largest and second largest elements\n",
        "  second_largest = min(list1[0],list1[1])\n",
        "  for num in list1[2:]:\n",
        "    if num > largest:\n",
        "      second_largest = largest\n",
        "      largest = num\n",
        "    elif num > second_largest:\n",
        "      second_largest = num\n",
        "  return second_largest\n",
        "\n",
        "### Driver Code\n",
        "input_list = input(\"Enter a list of numbers separated by spaces: \").split()\n",
        "input_list = [int(num) for num in input_list]  # Convert the input string to a list of integers\n",
        "\n",
        "second_largest_num = second_largest_ele(input_list)\n",
        "if second_largest_num is not None:\n",
        "    print(\"The second largest number is:\", second_largest_num)\n",
        "else:\n",
        "    print(\"There is no second largest number in the list.\")"
      ],
      "metadata": {
        "colab": {
          "base_uri": "https://localhost:8080/"
        },
        "id": "Ys6n9S5ui1b6",
        "outputId": "1938b91d-2d52-4dfa-8025-1b04bbf9cb93"
      },
      "execution_count": null,
      "outputs": [
        {
          "output_type": "stream",
          "name": "stdout",
          "text": [
            "Enter a list of numbers separated by spaces: 1 2 5  3 8 6 9 12 15\n",
            "The second largest number is: 12\n"
          ]
        }
      ]
    },
    {
      "cell_type": "markdown",
      "source": [
        "6. Implement a function to remove duplicate elements from a list."
      ],
      "metadata": {
        "id": "kq-Iag2DlT_-"
      }
    },
    {
      "cell_type": "code",
      "source": [
        "def remove_duplicate(list1):\n",
        "  unique_list = []\n",
        "  for ele in list1:\n",
        "    if ele not in unique_list:\n",
        "      unique_list.append(ele)\n",
        "  return unique_list\n",
        "### Driver Code\n",
        "input_list = input(\"Enter a list of elements separated by spaces: \").split()\n",
        "input_list = [int(num) for num in input_list]  # Convert the input string to a list of integers\n",
        "\n",
        "unique_list = remove_duplicate(input_list)\n",
        "print(\"List with duplicates removed:\", unique_list)"
      ],
      "metadata": {
        "colab": {
          "base_uri": "https://localhost:8080/"
        },
        "id": "ZaLEG8bOk7ih",
        "outputId": "2c6a7abf-e58a-48d9-fde2-dfd54de2aa92"
      },
      "execution_count": null,
      "outputs": [
        {
          "output_type": "stream",
          "name": "stdout",
          "text": [
            "Enter a list of elements separated by spaces: 1 2 4 5 2 7 5 2 7 4 9 7\n",
            "List with duplicates removed: [1, 2, 4, 5, 7, 9]\n"
          ]
        }
      ]
    },
    {
      "cell_type": "markdown",
      "source": [
        "Time Complesxity : O(n)\n",
        "\n",
        "Space Complesxity : O(n)"
      ],
      "metadata": {
        "id": "N4eIbehJtVhC"
      }
    },
    {
      "cell_type": "code",
      "source": [
        "def remove_duplicates(lst):\n",
        "    occurrence_count = {}\n",
        "    unique_list = []\n",
        "\n",
        "    for element in lst:\n",
        "        if element not in occurrence_count:\n",
        "            occurrence_count[element] = True\n",
        "            unique_list.append(element)\n",
        "\n",
        "    return unique_list\n",
        "\n",
        "# Test the function\n",
        "input_list = input(\"Enter a list of elements separated by spaces: \").split()\n",
        "input_list = [int(num) for num in input_list]  # Convert the input string to a list of integers\n",
        "\n",
        "unique_list = remove_duplicates(input_list)\n",
        "print(\"List with duplicates removed:\", unique_list)\n"
      ],
      "metadata": {
        "colab": {
          "base_uri": "https://localhost:8080/"
        },
        "id": "BNQJUEzVszqo",
        "outputId": "8be9e488-7167-4b6c-e0de-b1e5cfc5b258"
      },
      "execution_count": null,
      "outputs": [
        {
          "output_type": "stream",
          "name": "stdout",
          "text": [
            "Enter a list of elements separated by spaces: 1 2 4 5 2 7 5 2 7 4 9 7\n",
            "List with duplicates removed: [1, 2, 4, 5, 7, 9]\n"
          ]
        }
      ]
    },
    {
      "cell_type": "markdown",
      "source": [
        "Time Complesxity : O(n)\n",
        "\n",
        "Space Complesxity : O(n)"
      ],
      "metadata": {
        "id": "_yJP8ucZtr8M"
      }
    },
    {
      "cell_type": "markdown",
      "source": [
        "8. Implement a function to check if a given number is prime."
      ],
      "metadata": {
        "id": "sjiMwLu4ulcD"
      }
    },
    {
      "cell_type": "code",
      "source": [
        "import math\n",
        "def is_prime(n):\n",
        "  if n <= 1:\n",
        "    return False\n",
        "  for i in range(2,int(math.sqrt(n))+1):\n",
        "    if n % i == 0:\n",
        "      return False\n",
        "  return True\n",
        "### Driver Code\n",
        "num = int(input(\"Enter a number: \"))\n",
        "\n",
        "if is_prime(num):\n",
        "    print(num, \"is a prime number.\")\n",
        "else:\n",
        "    print(num, \"is not a prime number.\")"
      ],
      "metadata": {
        "colab": {
          "base_uri": "https://localhost:8080/"
        },
        "id": "O51y0HjHtERF",
        "outputId": "b88415c0-673d-464e-ae22-211c7357ac9f"
      },
      "execution_count": null,
      "outputs": [
        {
          "output_type": "stream",
          "name": "stdout",
          "text": [
            "Enter a number: 17\n",
            "17 is a prime number.\n"
          ]
        }
      ]
    },
    {
      "cell_type": "markdown",
      "source": [
        "9. Write a Python program to sort a list of integers in ascending order."
      ],
      "metadata": {
        "id": "0d6rWvvhRQgO"
      }
    },
    {
      "cell_type": "code",
      "source": [
        "def ascending_sort(nums):\n",
        "    nums.sort()\n",
        "\n",
        "### Driver Code\n",
        "input_list = input(\"Enter a list of integers separated by spaces: \").split()\n",
        "input_list = [int(num) for num in input_list]  # Convert the input string to a list of integers\n",
        "\n",
        "ascending_sort(input_list)\n",
        "print(\"Sorted list in ascending order:\", input_list)"
      ],
      "metadata": {
        "id": "PFZktrGx0_-p",
        "colab": {
          "base_uri": "https://localhost:8080/"
        },
        "outputId": "77e3f8f0-8907-45c1-f63d-6fd0d20b184e"
      },
      "execution_count": 1,
      "outputs": [
        {
          "output_type": "stream",
          "name": "stdout",
          "text": [
            "Enter a list of integers separated by spaces: 1 6 2 9 4 8 3\n",
            "Sorted list in ascending order: [1, 2, 3, 4, 6, 8, 9]\n"
          ]
        }
      ]
    },
    {
      "cell_type": "markdown",
      "source": [
        "10. Implement a function to find the sum of all numbers in a list."
      ],
      "metadata": {
        "id": "_J7C3cmXRlVE"
      }
    },
    {
      "cell_type": "code",
      "source": [
        "def sum_of_numbers(nums):\n",
        "    total = 0\n",
        "    for num in nums:\n",
        "        total += num\n",
        "    return total\n",
        "\n",
        "### Driver Code\n",
        "input_list = input(\"Enter a list of numbers separated by spaces: \").split()\n",
        "input_list = [int(num) for num in input_list]  # Convert the input string to a list of integers\n",
        "\n",
        "sum_of_all_numbers = sum_of_numbers(input_list)\n",
        "print(\"Sum of all numbers:\", sum_of_all_numbers)"
      ],
      "metadata": {
        "colab": {
          "base_uri": "https://localhost:8080/"
        },
        "id": "nkbc2IflRaEZ",
        "outputId": "63245295-6098-4244-e48d-c1976b45f837"
      },
      "execution_count": 2,
      "outputs": [
        {
          "output_type": "stream",
          "name": "stdout",
          "text": [
            "Enter a list of numbers separated by spaces: 1 6 2 9 4 8 3\n",
            "Sum of all numbers: 33\n"
          ]
        }
      ]
    },
    {
      "cell_type": "markdown",
      "source": [
        "11. Write a program to find the common elements between two lists."
      ],
      "metadata": {
        "id": "28XeGFdhR1JD"
      }
    },
    {
      "cell_type": "code",
      "source": [
        "def find_common_elements(list1, list2):\n",
        "    common_elements = []\n",
        "    for element in list1:\n",
        "        if element in list2:\n",
        "            common_elements.append(element)\n",
        "    return common_elements\n",
        "\n",
        "### Driver Code\n",
        "input_list1 = input(\"Enter elements for the first list separated by spaces: \").split()\n",
        "input_list1 = [int(num) for num in input_list1]  # Convert the input string to a list of integers\n",
        "\n",
        "input_list2 = input(\"Enter elements for the second list separated by spaces: \").split()\n",
        "input_list2 = [int(num) for num in input_list2]  # Convert the input string to a list of integers\n",
        "\n",
        "common_elements = find_common_elements(input_list1, input_list2)\n",
        "print(\"Common elements:\", common_elements)"
      ],
      "metadata": {
        "colab": {
          "base_uri": "https://localhost:8080/"
        },
        "id": "K4-5gf4ZRqUl",
        "outputId": "8688b4da-531f-473c-820c-1981496c756f"
      },
      "execution_count": 3,
      "outputs": [
        {
          "output_type": "stream",
          "name": "stdout",
          "text": [
            "Enter elements for the first list separated by spaces: 1 6 2 9 4 8 3\n",
            "Enter elements for the second list separated by spaces: 1 2 4 5 2 7 5 2 7 4 9 7\n",
            "Common elements: [1, 2, 9, 4]\n"
          ]
        }
      ]
    },
    {
      "cell_type": "markdown",
      "source": [
        "12. Implement a function to check if a given string is an anagram of another string."
      ],
      "metadata": {
        "id": "wfR4M3sLSVD7"
      }
    },
    {
      "cell_type": "code",
      "source": [
        "def is_anagram(str1, str2):\n",
        "    # Remove whitespace and convert to lowercase\n",
        "    str1 = str1.replace(\" \", \"\").lower()\n",
        "    str2 = str2.replace(\" \", \"\").lower()\n",
        "\n",
        "    # Check if the sorted strings are equal\n",
        "    return sorted(str1) == sorted(str2)\n",
        "\n",
        "### Driver Code\n",
        "string1 = input(\"Enter the first string: \")\n",
        "string2 = input(\"Enter the second string: \")\n",
        "\n",
        "if is_anagram(string1, string2):\n",
        "    print(\"The strings are anagrams.\")\n",
        "else:\n",
        "    print(\"The strings are not anagrams.\")"
      ],
      "metadata": {
        "colab": {
          "base_uri": "https://localhost:8080/"
        },
        "id": "whFUI1HPSHig",
        "outputId": "19f11a8d-dace-4bcd-9214-48db9d8251cc"
      },
      "execution_count": 4,
      "outputs": [
        {
          "output_type": "stream",
          "name": "stdout",
          "text": [
            "Enter the first string: Jagannath\n",
            "Enter the second string: Devarakonda\n",
            "The strings are not anagrams.\n"
          ]
        }
      ]
    },
    {
      "cell_type": "markdown",
      "source": [
        "13. Write a Python program to generate all permutations of a given string."
      ],
      "metadata": {
        "id": "5jqVxX1RSoKv"
      }
    },
    {
      "cell_type": "code",
      "source": [
        "def generate_permutations(string):\n",
        "    # Base case: if the string has only one character, return it as a single-element list\n",
        "    if len(string) == 1:\n",
        "        return [string]\n",
        "\n",
        "    # Recursive case: generate permutations by selecting each character as the first character\n",
        "    permutations = []\n",
        "    for i in range(len(string)):\n",
        "        char = string[i]\n",
        "        remaining_chars = string[:i] + string[i+1:]\n",
        "        sub_permutations = generate_permutations(remaining_chars)\n",
        "        for perm in sub_permutations:\n",
        "            permutations.append(char + perm)\n",
        "\n",
        "    return permutations\n",
        "\n",
        "### Driver Code\n",
        "input_string = input(\"Enter a string: \")\n",
        "\n",
        "all_permutations = generate_permutations(input_string)\n",
        "print(\"All permutations:\")\n",
        "for perm in all_permutations:\n",
        "    print(perm)"
      ],
      "metadata": {
        "colab": {
          "base_uri": "https://localhost:8080/"
        },
        "id": "3ZZ5NNIaScWI",
        "outputId": "7920e306-2760-4552-8dd7-62bb286d0db1"
      },
      "execution_count": 6,
      "outputs": [
        {
          "output_type": "stream",
          "name": "stdout",
          "text": [
            "Enter a string: Ram\n",
            "All permutations:\n",
            "Ram\n",
            "Rma\n",
            "aRm\n",
            "amR\n",
            "mRa\n",
            "maR\n"
          ]
        }
      ]
    },
    {
      "cell_type": "markdown",
      "source": [
        "14. Implement a function to calculate the Fibonacci sequence up to a given number of terms."
      ],
      "metadata": {
        "id": "-kmeYdOUS_YN"
      }
    },
    {
      "cell_type": "code",
      "source": [
        "def fibonacci_sequence(n):\n",
        "    # Initialize the sequence with the first two terms\n",
        "    sequence = [0, 1]\n",
        "\n",
        "    # Generate subsequent terms\n",
        "    for i in range(2, n):\n",
        "        next_term = sequence[i-1] + sequence[i-2]\n",
        "        sequence.append(next_term)\n",
        "\n",
        "    return sequence\n",
        "\n",
        "### Driver Code\n",
        "num_terms = int(input(\"Enter the number of terms: \"))\n",
        "\n",
        "fib_sequence = fibonacci_sequence(num_terms)\n",
        "print(\"Fibonacci sequence:\")\n",
        "for term in fib_sequence:\n",
        "    print(term, end=\" \")"
      ],
      "metadata": {
        "colab": {
          "base_uri": "https://localhost:8080/"
        },
        "id": "nUCvhGlkStUb",
        "outputId": "4c307081-6251-4cf4-dbcd-da95fd121058"
      },
      "execution_count": 10,
      "outputs": [
        {
          "output_type": "stream",
          "name": "stdout",
          "text": [
            "Enter the number of terms: 10\n",
            "Fibonacci sequence:\n",
            "0 1 1 2 3 5 8 13 21 34 "
          ]
        }
      ]
    },
    {
      "cell_type": "markdown",
      "source": [
        "15. Write a program to find the median of a list of numbers."
      ],
      "metadata": {
        "id": "XUxIxjPGTb9y"
      }
    },
    {
      "cell_type": "code",
      "source": [
        "def find_median(numbers):\n",
        "    sorted_numbers = sorted(numbers)\n",
        "    length = len(sorted_numbers)\n",
        "\n",
        "    if length % 2 == 0:\n",
        "        # List has even number of elements\n",
        "        mid1 = sorted_numbers[length // 2 - 1]\n",
        "        mid2 = sorted_numbers[length // 2]\n",
        "        median = (mid1 + mid2) / 2\n",
        "    else:\n",
        "        # List has odd number of elements\n",
        "        median = sorted_numbers[length // 2]\n",
        "\n",
        "    return median\n",
        "\n",
        "### Driver Code\n",
        "input_list = input(\"Enter a list of numbers separated by spaces: \").split()\n",
        "input_list = [float(num) for num in input_list]  # Convert the input string to a list of floats\n",
        "\n",
        "median = find_median(input_list)\n",
        "print(\"Median:\", median)"
      ],
      "metadata": {
        "colab": {
          "base_uri": "https://localhost:8080/"
        },
        "id": "Px3C_0tvTFAX",
        "outputId": "39165f01-aaab-4148-a778-643032524359"
      },
      "execution_count": 11,
      "outputs": [
        {
          "output_type": "stream",
          "name": "stdout",
          "text": [
            "Enter a list of numbers separated by spaces: 1 3 5 7 9 11 13 15 16 2 5 22\n",
            "Median: 8.0\n"
          ]
        }
      ]
    },
    {
      "cell_type": "markdown",
      "source": [
        "16. Implement a function to check if a given list is sorted in non-decreasing order."
      ],
      "metadata": {
        "id": "o9TLyrVBTuCQ"
      }
    },
    {
      "cell_type": "code",
      "source": [
        "def is_sorted(nums):\n",
        "    for i in range(1, len(nums)):\n",
        "        if nums[i] < nums[i-1]:\n",
        "            return False\n",
        "    return True\n",
        "\n",
        "## Driver Code\n",
        "input_list = input(\"Enter a list of numbers separated by spaces: \").split()\n",
        "input_list = [float(num) for num in input_list]  # Convert the input string to a list of floats\n",
        "\n",
        "if is_sorted(input_list):\n",
        "    print(\"The list is sorted in non-decreasing order.\")\n",
        "else:\n",
        "    print(\"The list is not sorted in non-decreasing order.\")"
      ],
      "metadata": {
        "colab": {
          "base_uri": "https://localhost:8080/"
        },
        "id": "SR-Ce531TjXi",
        "outputId": "2bef2198-41d5-4609-961a-f4a6f9c7a580"
      },
      "execution_count": 12,
      "outputs": [
        {
          "output_type": "stream",
          "name": "stdout",
          "text": [
            "Enter a list of numbers separated by spaces: 1 3 5 7 9 11 13 15\n",
            "The list is sorted in non-decreasing order.\n"
          ]
        }
      ]
    },
    {
      "cell_type": "markdown",
      "source": [
        "17. Write a Python program to find the intersection of two lists."
      ],
      "metadata": {
        "id": "y5fQRN8NT-Rh"
      }
    },
    {
      "cell_type": "code",
      "source": [
        "def find_intersection(list1, list2):\n",
        "    set1 = set(list1)\n",
        "    set2 = set(list2)\n",
        "    intersection = set1.intersection(set2)\n",
        "    return list(intersection)\n",
        "\n",
        "### DRIVER CODE\n",
        "input_list1 = input(\"Enter elements for the first list separated by spaces: \").split()\n",
        "input_list2 = input(\"Enter elements for the second list separated by spaces: \").split()\n",
        "input_list1 = [int(num) for num in input_list1]\n",
        "input_list2 = [int(num) for num in input_list2]\n",
        "intersection = find_intersection(input_list1, input_list2)\n",
        "print(\"Intersection of the lists:\", intersection)"
      ],
      "metadata": {
        "colab": {
          "base_uri": "https://localhost:8080/"
        },
        "id": "YyT3l3o8T2u8",
        "outputId": "a3d23092-0a69-4894-8889-598a5e460923"
      },
      "execution_count": 16,
      "outputs": [
        {
          "output_type": "stream",
          "name": "stdout",
          "text": [
            "Enter elements for the first list separated by spaces: 1 3 5 7 9 11 12 13\n",
            "Enter elements for the second list separated by spaces: 2 4 8 12 14\n",
            "Intersection of the lists: [12]\n"
          ]
        }
      ]
    },
    {
      "cell_type": "markdown",
      "source": [
        "18. Implement a function to find the maximum subarray sum in a given list."
      ],
      "metadata": {
        "id": "D7UArS7dZwpi"
      }
    },
    {
      "cell_type": "code",
      "source": [
        "def max_subarray_sum(nums):\n",
        "    max_sum = float('-inf')\n",
        "    current_sum = 0\n",
        "\n",
        "    for num in nums:\n",
        "        current_sum = max(num, current_sum + num)\n",
        "        max_sum = max(max_sum, current_sum)\n",
        "\n",
        "    return max_sum\n",
        "\n",
        "### Driver Code\n",
        "input_list = input(\"Enter a list of numbers separated by spaces: \").split()\n",
        "input_list = [int(num) for num in input_list]  # Convert the input string to a list of integers\n",
        "\n",
        "max_sum = max_subarray_sum(input_list)\n",
        "print(\"Maximum subarray sum:\", max_sum)"
      ],
      "metadata": {
        "colab": {
          "base_uri": "https://localhost:8080/"
        },
        "id": "p-HKUJvHUC35",
        "outputId": "9047bd79-4209-42d3-c4ab-16948ed7ca14"
      },
      "execution_count": 17,
      "outputs": [
        {
          "output_type": "stream",
          "name": "stdout",
          "text": [
            "Enter a list of numbers separated by spaces: 1 2 3 6 8 9 11 15\n",
            "Maximum subarray sum: 55\n"
          ]
        }
      ]
    },
    {
      "cell_type": "markdown",
      "source": [
        "19. Write a program to remove all vowels from a given string."
      ],
      "metadata": {
        "id": "SqqP9OeSZ-7I"
      }
    },
    {
      "cell_type": "code",
      "source": [
        "def remove_vowels(string):\n",
        "    vowels = ['a', 'e', 'i', 'o', 'u', 'A', 'E', 'I', 'O', 'U']\n",
        "    result = \"\"\n",
        "\n",
        "    for char in string:\n",
        "        if char not in vowels:\n",
        "            result += char\n",
        "\n",
        "    return result\n",
        "\n",
        "### Driver Code\n",
        "input_string = input(\"Enter a string: \")\n",
        "\n",
        "string_without_vowels = remove_vowels(input_string)\n",
        "print(\"String without vowels:\", string_without_vowels)"
      ],
      "metadata": {
        "colab": {
          "base_uri": "https://localhost:8080/"
        },
        "id": "8caoNtyyZ0Qv",
        "outputId": "dc5fa63c-510b-4f61-86b5-c92c1692029b"
      },
      "execution_count": 19,
      "outputs": [
        {
          "output_type": "stream",
          "name": "stdout",
          "text": [
            "Enter a string: Jagannath Devarakonda\n",
            "String without vowels: Jgnnth Dvrknd\n"
          ]
        }
      ]
    },
    {
      "cell_type": "markdown",
      "source": [
        "20. Implement a function to reverse the order of words in a given sentence."
      ],
      "metadata": {
        "id": "QG3vU3n0aUlt"
      }
    },
    {
      "cell_type": "code",
      "source": [
        "def reverse_words(sentence):\n",
        "    words = sentence.split()\n",
        "    reversed_sentence = ' '.join(reversed(words))\n",
        "    return reversed_sentence\n",
        "\n",
        "### Driver Code\n",
        "input_sentence = input(\"Enter a sentence: \")\n",
        "\n",
        "reversed_sentence = reverse_words(input_sentence)\n",
        "print(\"Reversed sentence:\", reversed_sentence)"
      ],
      "metadata": {
        "colab": {
          "base_uri": "https://localhost:8080/"
        },
        "id": "5cX7HIq3aCFK",
        "outputId": "ac91cbb0-3e21-4d6a-e98e-a8148e97e5e7"
      },
      "execution_count": 20,
      "outputs": [
        {
          "output_type": "stream",
          "name": "stdout",
          "text": [
            "Enter a sentence: My name is Jagannath Devarakonda\n",
            "Reversed sentence: Devarakonda Jagannath is name My\n"
          ]
        }
      ]
    },
    {
      "cell_type": "markdown",
      "source": [
        "21. Write a Python program to check if two strings are anagrams of each other."
      ],
      "metadata": {
        "id": "rUtzZrlmai4e"
      }
    },
    {
      "cell_type": "code",
      "source": [
        "def are_anagrams(str1, str2):\n",
        "    # Remove whitespace and convert to lowercase\n",
        "    str1 = str1.replace(\" \", \"\").lower()\n",
        "    str2 = str2.replace(\" \", \"\").lower()\n",
        "\n",
        "    # Check if the sorted strings are equal\n",
        "    return sorted(str1) == sorted(str2)\n",
        "\n",
        "### Driver Code\n",
        "string1 = input(\"Enter the first string: \")\n",
        "string2 = input(\"Enter the second string: \")\n",
        "\n",
        "if are_anagrams(string1, string2):\n",
        "    print(\"The strings are anagrams.\")\n",
        "else:\n",
        "    print(\"The strings are not anagrams.\")"
      ],
      "metadata": {
        "colab": {
          "base_uri": "https://localhost:8080/"
        },
        "id": "zE2G2erQaY5H",
        "outputId": "ca6301a1-abc4-44e7-f4ca-0f9e0c5058e0"
      },
      "execution_count": 21,
      "outputs": [
        {
          "output_type": "stream",
          "name": "stdout",
          "text": [
            "Enter the first string: Jagannath\n",
            "Enter the second string: Devarakonda\n",
            "The strings are not anagrams.\n"
          ]
        }
      ]
    },
    {
      "cell_type": "markdown",
      "source": [
        "22. Implement a function to find the first non-repeating character in a string."
      ],
      "metadata": {
        "id": "jkAZ8evQauGo"
      }
    },
    {
      "cell_type": "code",
      "source": [
        "def find_first_non_repeating_char(string):\n",
        "    char_count = {}\n",
        "\n",
        "    # Count the occurrences of each character\n",
        "    for char in string:\n",
        "        char_count[char] = char_count.get(char, 0) + 1\n",
        "\n",
        "    # Find the first non-repeating character\n",
        "    for char in string:\n",
        "        if char_count[char] == 1:\n",
        "            return char\n",
        "\n",
        "    # If no non-repeating character is found, return None\n",
        "    return None\n",
        "\n",
        "### Driver Code\n",
        "input_string = input(\"Enter a string: \")\n",
        "\n",
        "first_non_repeating_char = find_first_non_repeating_char(input_string)\n",
        "if first_non_repeating_char:\n",
        "    print(\"First non-repeating character:\", first_non_repeating_char)\n",
        "else:\n",
        "    print(\"No non-repeating character found.\")"
      ],
      "metadata": {
        "colab": {
          "base_uri": "https://localhost:8080/"
        },
        "id": "mAJ3aEtValM-",
        "outputId": "4e639ae2-38f6-4b4c-df07-e1393c4d929c"
      },
      "execution_count": 23,
      "outputs": [
        {
          "output_type": "stream",
          "name": "stdout",
          "text": [
            "Enter a string: Jagannath\n",
            "First non-repeating character: J\n"
          ]
        }
      ]
    },
    {
      "cell_type": "markdown",
      "source": [
        "23. Write a program to find the prime factors of a given number."
      ],
      "metadata": {
        "id": "BCt0s8CDbGFZ"
      }
    },
    {
      "cell_type": "code",
      "source": [
        "def find_prime_factors(n):\n",
        "    prime_factors = []\n",
        "    factor = 2\n",
        "\n",
        "    while factor * factor <= n:\n",
        "        if n % factor == 0:\n",
        "            prime_factors.append(factor)\n",
        "            n //= factor\n",
        "        else:\n",
        "            factor += 1\n",
        "\n",
        "    if n > 1:\n",
        "        prime_factors.append(n)\n",
        "\n",
        "    return prime_factors\n",
        "\n",
        "### Driver Code\n",
        "num = int(input(\"Enter a number: \"))\n",
        "\n",
        "prime_factors = find_prime_factors(num)\n",
        "print(\"Prime factors:\", prime_factors)"
      ],
      "metadata": {
        "colab": {
          "base_uri": "https://localhost:8080/"
        },
        "id": "4RJ5z-sBa0Qi",
        "outputId": "3a2e5f08-27e2-4064-b37a-ce39c6decd9e"
      },
      "execution_count": 26,
      "outputs": [
        {
          "output_type": "stream",
          "name": "stdout",
          "text": [
            "Enter a number: 57\n",
            "Prime factors: [3, 19]\n"
          ]
        }
      ]
    },
    {
      "cell_type": "markdown",
      "source": [
        "24. Implement a function to check if a given number is a power of two."
      ],
      "metadata": {
        "id": "sOc9l9qTccVC"
      }
    },
    {
      "cell_type": "code",
      "source": [
        "def is_power_of_two(n):\n",
        "    if n <= 0:\n",
        "        return False\n",
        "    return (n & (n - 1)) == 0\n",
        "\n",
        "### Driver Code\n",
        "num = int(input(\"Enter a number: \"))\n",
        "\n",
        "if is_power_of_two(num):\n",
        "    print(\"The number is a power of two.\")\n",
        "else:\n",
        "    print(\"The number is not a power of two.\")"
      ],
      "metadata": {
        "colab": {
          "base_uri": "https://localhost:8080/"
        },
        "id": "0AFvbVzpbMVP",
        "outputId": "f4436c32-f584-45ca-fe54-12a8a05cd773"
      },
      "execution_count": 27,
      "outputs": [
        {
          "output_type": "stream",
          "name": "stdout",
          "text": [
            "Enter a number: 64\n",
            "The number is a power of two.\n"
          ]
        }
      ]
    },
    {
      "cell_type": "markdown",
      "source": [
        "25. Write a Python program to merge two sorted lists into a single sorted list."
      ],
      "metadata": {
        "id": "1sTkD_Mxcnge"
      }
    },
    {
      "cell_type": "code",
      "source": [
        "def merge_sorted_lists(list1, list2):\n",
        "    merged_list = []\n",
        "    i = j = 0\n",
        "\n",
        "    while i < len(list1) and j < len(list2):\n",
        "        if list1[i] <= list2[j]:\n",
        "            merged_list.append(list1[i])\n",
        "            i += 1\n",
        "        else:\n",
        "            merged_list.append(list2[j])\n",
        "            j += 1\n",
        "\n",
        "    # Append the remaining elements of the lists, if any\n",
        "    merged_list.extend(list1[i:])\n",
        "    merged_list.extend(list2[j:])\n",
        "\n",
        "    return merged_list\n",
        "\n",
        "### Driver Code\n",
        "input_list1 = input(\"Enter elements for the first sorted list separated by spaces: \").split()\n",
        "input_list1 = [int(num) for num in input_list1]  # Convert the input string to a list of integers\n",
        "\n",
        "input_list2 = input(\"Enter elements for the second sorted list separated by spaces: \").split()\n",
        "input_list2 = [int(num) for num in input_list2]  # Convert the input string to a list of integers\n",
        "\n",
        "merged_list = merge_sorted_lists(input_list1, input_list2)\n",
        "print(\"Merged sorted list:\", merged_list)"
      ],
      "metadata": {
        "colab": {
          "base_uri": "https://localhost:8080/"
        },
        "id": "JdELvVjTcfnH",
        "outputId": "138d374b-abe6-41dc-b2d8-396874cad786"
      },
      "execution_count": 28,
      "outputs": [
        {
          "output_type": "stream",
          "name": "stdout",
          "text": [
            "Enter elements for the first sorted list separated by spaces: 1  3 5 7 9 11 13\n",
            "Enter elements for the second sorted list separated by spaces: 2 3 4 7 9 12 14\n",
            "Merged sorted list: [1, 2, 3, 3, 4, 5, 7, 7, 9, 9, 11, 12, 13, 14]\n"
          ]
        }
      ]
    },
    {
      "cell_type": "markdown",
      "source": [
        "26. Implement a function to find the mode of a list of numbers."
      ],
      "metadata": {
        "id": "5JpGF6qgczyx"
      }
    },
    {
      "cell_type": "code",
      "source": [
        "def find_mode(numbers):\n",
        "    frequency = {}\n",
        "    mode = []\n",
        "    max_frequency = 0\n",
        "\n",
        "    # Count the frequency of each number\n",
        "    for num in numbers:\n",
        "        frequency[num] = frequency.get(num, 0) + 1\n",
        "\n",
        "    # Find the maximum frequency\n",
        "    for num, freq in frequency.items():\n",
        "        if freq > max_frequency:\n",
        "            max_frequency = freq\n",
        "\n",
        "    # Find all numbers with the maximum frequency\n",
        "    for num, freq in frequency.items():\n",
        "        if freq == max_frequency:\n",
        "            mode.append(num)\n",
        "\n",
        "    return mode\n",
        "\n",
        "### DRIVER CODE\n",
        "input_list = input(\"Enter a list of numbers separated by spaces: \").split()\n",
        "input_list = [int(num) for num in input_list]  # Convert the input string to a list of integers\n",
        "\n",
        "mode_list = find_mode(input_list)\n",
        "print(\"Mode(s):\", mode_list)"
      ],
      "metadata": {
        "colab": {
          "base_uri": "https://localhost:8080/"
        },
        "id": "uM5WoQlrcspb",
        "outputId": "0b5a6b0f-686f-46dc-b7a7-c2fa4745f274"
      },
      "execution_count": 29,
      "outputs": [
        {
          "output_type": "stream",
          "name": "stdout",
          "text": [
            "Enter a list of numbers separated by spaces: 2 4 5 6 7 8 2 5 2 5 6 2\n",
            "Mode(s): [2]\n"
          ]
        }
      ]
    },
    {
      "cell_type": "markdown",
      "source": [
        "27. Write a program to find the greatest common divisor (GCD) of two numbers."
      ],
      "metadata": {
        "id": "riLxy4-2dBQY"
      }
    },
    {
      "cell_type": "code",
      "source": [
        "def gcd(a, b):\n",
        "    while b != 0:\n",
        "        a, b = b, a % b\n",
        "    return a\n",
        "\n",
        "### Driver Code\n",
        "num1 = int(input(\"Enter the first number: \"))\n",
        "num2 = int(input(\"Enter the second number: \"))\n",
        "\n",
        "gcd_value = gcd(num1, num2)\n",
        "print(\"Greatest Common Divisor (GCD):\", gcd_value)"
      ],
      "metadata": {
        "colab": {
          "base_uri": "https://localhost:8080/"
        },
        "id": "KPfmDr9Oc6M1",
        "outputId": "e5169c5f-df04-41c0-a826-a89aca92969d"
      },
      "execution_count": 32,
      "outputs": [
        {
          "output_type": "stream",
          "name": "stdout",
          "text": [
            "Enter the first number: 16\n",
            "Enter the second number: 2\n",
            "Greatest Common Divisor (GCD): 2\n"
          ]
        }
      ]
    },
    {
      "cell_type": "markdown",
      "source": [
        "28. Implement a function to calculate the square root of a given number."
      ],
      "metadata": {
        "id": "75Zdyp_rdVWw"
      }
    },
    {
      "cell_type": "code",
      "source": [
        "def square_root(n):\n",
        "    if n < 0:\n",
        "        raise ValueError(\"Cannot calculate square root of a negative number.\")\n",
        "\n",
        "    if n == 0 or n == 1:\n",
        "        return n\n",
        "\n",
        "    # Initial guess for the square root\n",
        "    guess = n / 2\n",
        "\n",
        "    # Iterate until desired precision is achieved\n",
        "    while True:\n",
        "        new_guess = (guess + n / guess) / 2\n",
        "\n",
        "        # Check if the new guess is close enough to the previous guess\n",
        "        if abs(new_guess - guess) < 1e-8:\n",
        "            return new_guess\n",
        "\n",
        "        guess = new_guess\n",
        "\n",
        "### Driver Code\n",
        "num = float(input(\"Enter a number: \"))\n",
        "\n",
        "try:\n",
        "    sqrt = square_root(num)\n",
        "    print(\"Square root:\", sqrt)\n",
        "except ValueError as e:\n",
        "    print(\"Error:\", str(e))"
      ],
      "metadata": {
        "colab": {
          "base_uri": "https://localhost:8080/"
        },
        "id": "UlyRklTOdKj2",
        "outputId": "45b9b3cb-b267-4a05-8d0e-162ed491dbf3"
      },
      "execution_count": 33,
      "outputs": [
        {
          "output_type": "stream",
          "name": "stdout",
          "text": [
            "Enter a number: 1024\n",
            "Square root: 32.0\n"
          ]
        }
      ]
    },
    {
      "cell_type": "markdown",
      "source": [
        "29. Write a Python program to check if a given string is a valid palindrome ignoring non-alphanumeric characters."
      ],
      "metadata": {
        "id": "CmOSgxS1dmX8"
      }
    },
    {
      "cell_type": "code",
      "source": [
        "import re\n",
        "\n",
        "def is_valid_palindrome(string):\n",
        "    # Remove non-alphanumeric characters and convert to lowercase\n",
        "    cleaned_string = re.sub(r'[^a-zA-Z0-9]', '', string.lower())\n",
        "\n",
        "    # Check if the cleaned string is a palindrome\n",
        "    return cleaned_string == cleaned_string[::-1]\n",
        "\n",
        "### Driver Code\n",
        "input_string = input(\"Enter a string: \")\n",
        "\n",
        "if is_valid_palindrome(input_string):\n",
        "    print(\"The string is a valid palindrome.\")\n",
        "else:\n",
        "    print(\"The string is not a valid palindrome.\")"
      ],
      "metadata": {
        "colab": {
          "base_uri": "https://localhost:8080/"
        },
        "id": "Y1D-3kr6dZxG",
        "outputId": "2d3dc227-442f-4191-d64b-ecb84ee6daac"
      },
      "execution_count": 34,
      "outputs": [
        {
          "output_type": "stream",
          "name": "stdout",
          "text": [
            "Enter a string: bab\n",
            "The string is a valid palindrome.\n"
          ]
        }
      ]
    },
    {
      "cell_type": "markdown",
      "source": [
        "30. Implement a function to find the minimum element in a rotated sorted list."
      ],
      "metadata": {
        "id": "aM7mqP_0dyhm"
      }
    },
    {
      "cell_type": "code",
      "source": [
        "def find_minimum(nums):\n",
        "    left = 0\n",
        "    right = len(nums) - 1\n",
        "\n",
        "    # If the list is not rotated, return the first element\n",
        "    if nums[left] < nums[right]:\n",
        "        return nums[left]\n",
        "\n",
        "    # Perform binary search to find the minimum element\n",
        "    while left < right:\n",
        "        mid = (left + right) // 2\n",
        "\n",
        "        # If the mid element is greater than the right element, the minimum lies in the right half\n",
        "        if nums[mid] > nums[right]:\n",
        "            left = mid + 1\n",
        "        # If the mid element is less than the right element, the minimum lies in the left half (including the mid element)\n",
        "        elif nums[mid] < nums[right]:\n",
        "            right = mid\n",
        "        # If the mid element is equal to the right element, move the right pointer towards the left\n",
        "        else:\n",
        "            right -= 1\n",
        "\n",
        "    return nums[left]\n",
        "\n",
        "### Driver Code\n",
        "input_list = input(\"Enter a rotated sorted list of numbers separated by spaces: \").split()\n",
        "input_list = [int(num) for num in input_list]  # Convert the input string to a list of integers\n",
        "\n",
        "minimum = find_minimum(input_list)\n",
        "print(\"Minimum element:\", minimum)"
      ],
      "metadata": {
        "colab": {
          "base_uri": "https://localhost:8080/"
        },
        "id": "nVSImKCSdozO",
        "outputId": "be0a9773-785b-4354-ae65-d6975eda9d6f"
      },
      "execution_count": 36,
      "outputs": [
        {
          "output_type": "stream",
          "name": "stdout",
          "text": [
            "Enter a rotated sorted list of numbers separated by spaces: 3 4 5 6 7 8 1 2\n",
            "Minimum element: 1\n"
          ]
        }
      ]
    },
    {
      "cell_type": "markdown",
      "source": [
        "31. Write a program to find the sum of all even numbers in a list."
      ],
      "metadata": {
        "id": "TPRJZPHbeDsd"
      }
    },
    {
      "cell_type": "code",
      "source": [
        "def sum_even_numbers(numbers):\n",
        "    sum_even = 0\n",
        "\n",
        "    for num in numbers:\n",
        "        if num % 2 == 0:\n",
        "            sum_even += num\n",
        "\n",
        "    return sum_even\n",
        "\n",
        "### Driver Code\n",
        "input_list = input(\"Enter a list of numbers separated by spaces: \").split()\n",
        "input_list = [int(num) for num in input_list]  # Convert the input string to a list of integers\n",
        "\n",
        "sum_even = sum_even_numbers(input_list)\n",
        "print(\"Sum of even numbers:\", sum_even)\n"
      ],
      "metadata": {
        "colab": {
          "base_uri": "https://localhost:8080/"
        },
        "id": "F3ntAm4fd17n",
        "outputId": "8bbc263e-289b-4830-a4d7-7119120fecce"
      },
      "execution_count": 37,
      "outputs": [
        {
          "output_type": "stream",
          "name": "stdout",
          "text": [
            "Enter a list of numbers separated by spaces: 1 2 3 4 5 6 7 8\n",
            "Sum of even numbers: 20\n"
          ]
        }
      ]
    },
    {
      "cell_type": "markdown",
      "source": [
        "32. Implement a function to calculate the power of a number using recursion."
      ],
      "metadata": {
        "id": "IEFhCMaZeTKw"
      }
    },
    {
      "cell_type": "code",
      "source": [
        "def power(base, exponent):\n",
        "    if exponent == 0:\n",
        "        return 1\n",
        "    elif exponent > 0:\n",
        "        return base * power(base, exponent - 1)\n",
        "    else:\n",
        "        return 1 / power(base, -exponent)\n",
        "\n",
        "### Driver Code\n",
        "base = float(input(\"Enter the base: \"))\n",
        "exponent = int(input(\"Enter the exponent: \"))\n",
        "\n",
        "result = power(base, exponent)\n",
        "print(\"Result:\", result)"
      ],
      "metadata": {
        "colab": {
          "base_uri": "https://localhost:8080/"
        },
        "id": "6W6mSRJKeJGz",
        "outputId": "c05c0e3f-dbfe-45c3-a694-f5554ec7dbfe"
      },
      "execution_count": 40,
      "outputs": [
        {
          "output_type": "stream",
          "name": "stdout",
          "text": [
            "Enter the base: 12\n",
            "Enter the exponent: 2\n",
            "Result: 144.0\n"
          ]
        }
      ]
    },
    {
      "cell_type": "markdown",
      "source": [
        "33. Write a Python program to remove duplicates from a list while preserving the order."
      ],
      "metadata": {
        "id": "pxxmJWRSepKM"
      }
    },
    {
      "cell_type": "code",
      "source": [
        "def remove_duplicates_preserve_order(lst):\n",
        "    unique_list = []\n",
        "    seen_elements = set()\n",
        "\n",
        "    for element in lst:\n",
        "        if element not in seen_elements:\n",
        "            seen_elements.add(element)\n",
        "            unique_list.append(element)\n",
        "\n",
        "    return unique_list\n",
        "\n",
        "### Driver Code\n",
        "input_list = input(\"Enter a list of elements separated by spaces: \").split()\n",
        "input_list = [int(num) for num in input_list]  # Convert the input string to a list of integers\n",
        "\n",
        "unique_list = remove_duplicates_preserve_order(input_list)\n",
        "print(\"List with duplicates removed:\", unique_list)"
      ],
      "metadata": {
        "colab": {
          "base_uri": "https://localhost:8080/"
        },
        "id": "S2UKxM1NeWLL",
        "outputId": "3ce43d7d-a6c5-4f3b-98e7-d55c0cd2b742"
      },
      "execution_count": 42,
      "outputs": [
        {
          "output_type": "stream",
          "name": "stdout",
          "text": [
            "Enter a list of elements separated by spaces: 1 2 3 5 2 6 8 2 5 9 12 2\n",
            "List with duplicates removed: [1, 2, 3, 5, 6, 8, 9, 12]\n"
          ]
        }
      ]
    },
    {
      "cell_type": "markdown",
      "source": [
        "34. Implement a function to find the longest common prefix among a list of strings."
      ],
      "metadata": {
        "id": "D62peMKve7GC"
      }
    },
    {
      "cell_type": "code",
      "source": [
        "def longest_common_prefix(strings):\n",
        "    if not strings:\n",
        "        return \"\"\n",
        "\n",
        "    prefix = strings[0]\n",
        "\n",
        "    for string in strings[1:]:\n",
        "        while not string.startswith(prefix):\n",
        "            prefix = prefix[:-1]\n",
        "            if not prefix:\n",
        "                return \"\"\n",
        "\n",
        "    return prefix\n",
        "\n",
        "### Driver Code\n",
        "input_list = input(\"Enter a list of strings separated by spaces: \").split()\n",
        "\n",
        "common_prefix = longest_common_prefix(input_list)\n",
        "print(\"Longest common prefix:\", common_prefix)"
      ],
      "metadata": {
        "colab": {
          "base_uri": "https://localhost:8080/"
        },
        "id": "iR3QYKfdetRi",
        "outputId": "73b1d26f-8390-4311-d9ca-35b91b9df910"
      },
      "execution_count": 43,
      "outputs": [
        {
          "output_type": "stream",
          "name": "stdout",
          "text": [
            "Enter a list of strings separated by spaces: apple apricot application\n",
            "Longest common prefix: ap\n"
          ]
        }
      ]
    },
    {
      "cell_type": "markdown",
      "source": [
        "35. Write a program to check if a given number is a perfect square."
      ],
      "metadata": {
        "id": "WVjyK8cnfPpb"
      }
    },
    {
      "cell_type": "code",
      "source": [
        "def is_perfect_square(num):\n",
        "    if num < 0:\n",
        "        return False\n",
        "\n",
        "    sqrt = int(num ** 0.5)\n",
        "\n",
        "    return sqrt * sqrt == num\n",
        "\n",
        "### Driver Code\n",
        "num = int(input(\"Enter a number: \"))\n",
        "\n",
        "if is_perfect_square(num):\n",
        "    print(\"The number is a perfect square.\")\n",
        "else:\n",
        "    print(\"The number is not a perfect square.\")"
      ],
      "metadata": {
        "colab": {
          "base_uri": "https://localhost:8080/"
        },
        "id": "VOUkwQVvfJqi",
        "outputId": "cc9c9201-86f4-4195-e6a6-8a57f8afa81d"
      },
      "execution_count": 44,
      "outputs": [
        {
          "output_type": "stream",
          "name": "stdout",
          "text": [
            "Enter a number: 64\n",
            "The number is a perfect square.\n"
          ]
        }
      ]
    },
    {
      "cell_type": "markdown",
      "source": [
        "36. Implement a function to calculate the product of all elements in a list."
      ],
      "metadata": {
        "id": "qqjdnrz8iJI8"
      }
    },
    {
      "cell_type": "code",
      "source": [
        "def calculate_product(numbers):\n",
        "    product = 1\n",
        "\n",
        "    for num in numbers:\n",
        "        product *= num\n",
        "\n",
        "    return product\n",
        "\n",
        "### Driver Code\n",
        "input_list = input(\"Enter a list of numbers separated by spaces: \").split()\n",
        "input_list = [int(num) for num in input_list]  # Convert the input string to a list of integers\n",
        "\n",
        "product = calculate_product(input_list)\n",
        "print(\"Product of all elements:\", product)"
      ],
      "metadata": {
        "colab": {
          "base_uri": "https://localhost:8080/"
        },
        "id": "aopBZfbBfygS",
        "outputId": "b34bd276-80d9-4305-c21b-d7e2de165dd4"
      },
      "execution_count": 45,
      "outputs": [
        {
          "output_type": "stream",
          "name": "stdout",
          "text": [
            "Enter a list of numbers separated by spaces: 1 2 3 4 5 6 7\n",
            "Product of all elements: 5040\n"
          ]
        }
      ]
    },
    {
      "cell_type": "markdown",
      "source": [
        "37. Write a Python program to reverse the order of words in a sentence while preserving the word order."
      ],
      "metadata": {
        "id": "paJwlU1gifxL"
      }
    },
    {
      "cell_type": "code",
      "source": [
        "def reverse_sentence(sentence):\n",
        "    words = sentence.split()\n",
        "    reversed_words = words[::-1]\n",
        "    reversed_sentence = \" \".join(reversed_words)\n",
        "    return reversed_sentence\n",
        "\n",
        "### Driver Code\n",
        "input_sentence = input(\"Enter a sentence: \")\n",
        "\n",
        "reversed_sentence = reverse_sentence(input_sentence)\n",
        "print(\"Reversed sentence:\", reversed_sentence)"
      ],
      "metadata": {
        "colab": {
          "base_uri": "https://localhost:8080/"
        },
        "id": "XrVcm_sLiPNg",
        "outputId": "bf8959ae-9075-41be-9e8d-f780adddeaaf"
      },
      "execution_count": 46,
      "outputs": [
        {
          "output_type": "stream",
          "name": "stdout",
          "text": [
            "Enter a sentence: \"Hello, how are you?\"\n",
            "Reversed sentence: you?\" are how \"Hello,\n"
          ]
        }
      ]
    },
    {
      "cell_type": "markdown",
      "source": [
        "38. Implement a function to find the missing number in a given list of consecutive numbers."
      ],
      "metadata": {
        "id": "YwV3a5JAix1P"
      }
    },
    {
      "cell_type": "code",
      "source": [
        "def find_missing_number(numbers):\n",
        "    n = len(numbers) + 1\n",
        "    total_sum = (n * (n + 1)) // 2\n",
        "    actual_sum = sum(numbers)\n",
        "    missing_number = total_sum - actual_sum\n",
        "    return missing_number\n",
        "\n",
        "### Driver Code\n",
        "input_list = input(\"Enter a list of consecutive numbers separated by spaces: \").split()\n",
        "input_list = [int(num) for num in input_list]  # Convert the input string to a list of integers\n",
        "\n",
        "missing_number = find_missing_number(input_list)\n",
        "print(\"Missing number:\", missing_number)"
      ],
      "metadata": {
        "colab": {
          "base_uri": "https://localhost:8080/"
        },
        "id": "Csah5w8Hiopb",
        "outputId": "e5e440ac-a0a4-47ba-d48f-ace116da5276"
      },
      "execution_count": 48,
      "outputs": [
        {
          "output_type": "stream",
          "name": "stdout",
          "text": [
            "Enter a list of consecutive numbers separated by spaces: 1 2 3 4 5 7\n",
            "Missing number: 6\n"
          ]
        }
      ]
    },
    {
      "cell_type": "markdown",
      "source": [
        "39. Write a program to find the sum of digits of a given number."
      ],
      "metadata": {
        "id": "pyiHfSTmjJrR"
      }
    },
    {
      "cell_type": "code",
      "source": [
        "def sum_of_digits(number):\n",
        "    sum_digits = 0\n",
        "\n",
        "    while number > 0:\n",
        "        digit = number % 10\n",
        "        sum_digits += digit\n",
        "        number //= 10\n",
        "\n",
        "    return sum_digits\n",
        "\n",
        "### Driver Code\n",
        "num = int(input(\"Enter a number: \"))\n",
        "\n",
        "sum_digits = sum_of_digits(num)\n",
        "print(\"Sum of digits:\", sum_digits)"
      ],
      "metadata": {
        "colab": {
          "base_uri": "https://localhost:8080/"
        },
        "id": "oWfEdb_-jBDk",
        "outputId": "381ecdea-cbd7-4f57-f665-f4d09069a822"
      },
      "execution_count": 49,
      "outputs": [
        {
          "output_type": "stream",
          "name": "stdout",
          "text": [
            "Enter a number: 123\n",
            "Sum of digits: 6\n"
          ]
        }
      ]
    },
    {
      "cell_type": "markdown",
      "source": [
        "40. Implement a function to check if a given string is a valid palindrome considering case sensitivity."
      ],
      "metadata": {
        "id": "1AZH5TnQjXJ4"
      }
    },
    {
      "cell_type": "code",
      "source": [
        "def is_valid_palindrome(string):\n",
        "    # Remove non-alphanumeric characters\n",
        "    cleaned_string = ''.join(char.lower() for char in string if char.isalnum())\n",
        "\n",
        "    # Check if the cleaned string is equal to its reversed version\n",
        "    return cleaned_string == cleaned_string[::-1]\n",
        "\n",
        "### Driver Code\n",
        "input_string = input(\"Enter a string: \")\n",
        "\n",
        "if is_valid_palindrome(input_string):\n",
        "    print(\"The string is a valid palindrome.\")\n",
        "else:\n",
        "    print(\"The string is not a valid palindrome.\")"
      ],
      "metadata": {
        "colab": {
          "base_uri": "https://localhost:8080/"
        },
        "id": "dpUiPdphjP-Z",
        "outputId": "67eb3af5-dc7b-4727-bd11-f38fc580e4bd"
      },
      "execution_count": 50,
      "outputs": [
        {
          "output_type": "stream",
          "name": "stdout",
          "text": [
            "Enter a string: BOB\n",
            "The string is a valid palindrome.\n"
          ]
        }
      ]
    },
    {
      "cell_type": "markdown",
      "source": [
        "41. Write a Python program to find the smallest missing positive integer in a list."
      ],
      "metadata": {
        "id": "Rdx1eHn6jyFX"
      }
    },
    {
      "cell_type": "code",
      "source": [
        "def find_smallest_missing_positive(nums):\n",
        "    n = len(nums)\n",
        "\n",
        "    # Move each positive number to its correct index\n",
        "    for i in range(n):\n",
        "        while 1 <= nums[i] <= n and nums[i] != nums[nums[i] - 1]:\n",
        "            nums[nums[i] - 1], nums[i] = nums[i], nums[nums[i] - 1]\n",
        "\n",
        "    # Find the first missing positive integer\n",
        "    for i in range(n):\n",
        "        if nums[i] != i + 1:\n",
        "            return i + 1\n",
        "\n",
        "    # If all positive integers from 1 to n are present, return n + 1\n",
        "    return n + 1\n",
        "\n",
        "### Driver Code\n",
        "input_list = input(\"Enter a list of integers separated by spaces: \").split()\n",
        "input_list = [int(num) for num in input_list]  # Convert the input string to a list of integers\n",
        "\n",
        "smallest_missing = find_smallest_missing_positive(input_list)\n",
        "print(\"Smallest missing positive integer:\", smallest_missing)"
      ],
      "metadata": {
        "colab": {
          "base_uri": "https://localhost:8080/"
        },
        "id": "0GotXA9sjcBv",
        "outputId": "b9371b71-ca09-44fa-e3d9-3b5a47091c07"
      },
      "execution_count": 51,
      "outputs": [
        {
          "output_type": "stream",
          "name": "stdout",
          "text": [
            "Enter a list of integers separated by spaces:  3 1 -5 2 4\n",
            "Smallest missing positive integer: 5\n"
          ]
        }
      ]
    },
    {
      "cell_type": "markdown",
      "source": [
        "42. Implement a function to find the longest palindrome substring in a given string."
      ],
      "metadata": {
        "id": "uS7JFYWSkIlD"
      }
    },
    {
      "cell_type": "code",
      "source": [
        "def longest_palindrome_substring(string):\n",
        "    n = len(string)\n",
        "    longest_palindrome = \"\"\n",
        "\n",
        "    # Helper function to expand around a center\n",
        "    def expand_around_center(left, right):\n",
        "        while left >= 0 and right < n and string[left] == string[right]:\n",
        "            left -= 1\n",
        "            right += 1\n",
        "        return string[left+1:right]\n",
        "\n",
        "    # Iterate through each character as a potential center of a palindrome\n",
        "    for i in range(n):\n",
        "        # Check for odd length palindromes\n",
        "        odd_palindrome = expand_around_center(i, i)\n",
        "        if len(odd_palindrome) > len(longest_palindrome):\n",
        "            longest_palindrome = odd_palindrome\n",
        "\n",
        "        # Check for even length palindromes\n",
        "        even_palindrome = expand_around_center(i, i + 1)\n",
        "        if len(even_palindrome) > len(longest_palindrome):\n",
        "            longest_palindrome = even_palindrome\n",
        "\n",
        "    return longest_palindrome\n",
        "\n",
        "### Driver Code\n",
        "input_string = input(\"Enter a string: \")\n",
        "\n",
        "result = longest_palindrome_substring(input_string)\n",
        "print(\"Longest palindrome substring:\", result)"
      ],
      "metadata": {
        "colab": {
          "base_uri": "https://localhost:8080/"
        },
        "id": "bZ3KF5Y6kCrI",
        "outputId": "e1976abb-82ba-4b0d-d623-4cab8aebcaa3"
      },
      "execution_count": 52,
      "outputs": [
        {
          "output_type": "stream",
          "name": "stdout",
          "text": [
            "Enter a string: \"babad\"\n",
            "Longest palindrome substring: bab\n"
          ]
        }
      ]
    },
    {
      "cell_type": "markdown",
      "source": [
        "43. Write a program to find the number of occurrences of a given element in a list."
      ],
      "metadata": {
        "id": "hJ5cExypkZwY"
      }
    },
    {
      "cell_type": "code",
      "source": [
        "def count_occurrences(lst, element):\n",
        "    count = 0\n",
        "\n",
        "    for item in lst:\n",
        "        if item == element:\n",
        "            count += 1\n",
        "\n",
        "    return count\n",
        "\n",
        "### Driver Code\n",
        "input_list = input(\"Enter a list of elements separated by spaces: \").split()\n",
        "element = input(\"Enter the element to count occurrences: \")\n",
        "\n",
        "occurrences = count_occurrences(input_list, element)\n",
        "print(\"Number of occurrences:\", occurrences)\n"
      ],
      "metadata": {
        "colab": {
          "base_uri": "https://localhost:8080/"
        },
        "id": "dqlb1OTykTLP",
        "outputId": "ccbd3af2-58cc-4b6b-a3f7-7ee628ff2663"
      },
      "execution_count": 53,
      "outputs": [
        {
          "output_type": "stream",
          "name": "stdout",
          "text": [
            "Enter a list of elements separated by spaces: 1 2 3 2 4 2 5\n",
            "Enter the element to count occurrences: 2\n",
            "Number of occurrences: 3\n"
          ]
        }
      ]
    },
    {
      "cell_type": "markdown",
      "source": [
        "44. Implement a function to check if a given number is a perfect number."
      ],
      "metadata": {
        "id": "hIxRImlUkp13"
      }
    },
    {
      "cell_type": "code",
      "source": [
        "def is_perfect_number(number):\n",
        "    if number <= 0:\n",
        "        return False\n",
        "\n",
        "    divisor_sum = sum(i for i in range(1, number) if number % i == 0)\n",
        "    return divisor_sum == number\n",
        "\n",
        "### Driver Code\n",
        "num = int(input(\"Enter a number: \"))\n",
        "\n",
        "if is_perfect_number(num):\n",
        "    print(\"The number is a perfect number.\")\n",
        "else:\n",
        "    print(\"The number is not a perfect number.\")\n"
      ],
      "metadata": {
        "colab": {
          "base_uri": "https://localhost:8080/"
        },
        "id": "F3J_T-8ekh_L",
        "outputId": "a39e3094-da78-4908-d9cf-fd631f05a503"
      },
      "execution_count": 54,
      "outputs": [
        {
          "output_type": "stream",
          "name": "stdout",
          "text": [
            "Enter a number: 64\n",
            "The number is not a perfect number.\n"
          ]
        }
      ]
    },
    {
      "cell_type": "markdown",
      "source": [
        "45. Write a Python program to remove all duplicates from a string."
      ],
      "metadata": {
        "id": "TXLH7U1dk102"
      }
    },
    {
      "cell_type": "code",
      "source": [
        "def remove_duplicates(string):\n",
        "    unique_chars = \"\"\n",
        "    for char in string:\n",
        "        if char not in unique_chars:\n",
        "            unique_chars += char\n",
        "    return unique_chars\n",
        "\n",
        "## Driver Code\n",
        "input_string = input(\"Enter a string: \")\n",
        "\n",
        "result = remove_duplicates(input_string)\n",
        "print(\"String with duplicates removed:\", result)"
      ],
      "metadata": {
        "colab": {
          "base_uri": "https://localhost:8080/"
        },
        "id": "6yqbZDNWks5d",
        "outputId": "3e941ef3-c823-4515-c666-47d00ea1fb62"
      },
      "execution_count": 55,
      "outputs": [
        {
          "output_type": "stream",
          "name": "stdout",
          "text": [
            "Enter a string: Jagannath\n",
            "String with duplicates removed: Jagnth\n"
          ]
        }
      ]
    },
    {
      "cell_type": "markdown",
      "source": [
        "46. Implement a function to find the first missing positive"
      ],
      "metadata": {
        "id": "OsACy_4kk-wP"
      }
    },
    {
      "cell_type": "code",
      "source": [
        "def find_first_missing_positive(nums):\n",
        "    n = len(nums)\n",
        "\n",
        "    # Move each positive number to its correct index\n",
        "    for i in range(n):\n",
        "        while 1 <= nums[i] <= n and nums[i] != nums[nums[i] - 1]:\n",
        "            nums[nums[i] - 1], nums[i] = nums[i], nums[nums[i] - 1]\n",
        "\n",
        "    # Find the first missing positive integer\n",
        "    for i in range(n):\n",
        "        if nums[i] != i + 1:\n",
        "            return i + 1\n",
        "\n",
        "    # If all positive integers from 1 to n are present, return n + 1\n",
        "    return n + 1\n",
        "\n",
        "input_list = input(\"Enter a list of integers separated by spaces: \").split()\n",
        "input_list = [int(num) for num in input_list]  # Convert the input string to a list of integers\n",
        "\n",
        "first_missing = find_first_missing_positive(input_list)\n",
        "print(\"First missing positive integer:\", first_missing)"
      ],
      "metadata": {
        "colab": {
          "base_uri": "https://localhost:8080/"
        },
        "id": "do6BAzLlk4D3",
        "outputId": "9ee7e354-7d4f-4d7b-f512-f1c6b54f0016"
      },
      "execution_count": 56,
      "outputs": [
        {
          "output_type": "stream",
          "name": "stdout",
          "text": [
            "Enter a list of integers separated by spaces: 3 4 -1 1\n",
            "First missing positive integer: 2\n"
          ]
        }
      ]
    },
    {
      "cell_type": "code",
      "source": [],
      "metadata": {
        "id": "kIMz4dUdlB0L"
      },
      "execution_count": null,
      "outputs": []
    }
  ]
}