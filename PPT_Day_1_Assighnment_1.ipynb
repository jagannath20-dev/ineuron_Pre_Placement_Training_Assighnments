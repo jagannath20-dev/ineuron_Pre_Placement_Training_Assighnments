{
  "nbformat": 4,
  "nbformat_minor": 0,
  "metadata": {
    "colab": {
      "provenance": []
    },
    "kernelspec": {
      "name": "python3",
      "display_name": "Python 3"
    },
    "language_info": {
      "name": "python"
    }
  },
  "cells": [
    {
      "cell_type": "markdown",
      "source": [
        "💡 **Q1.** Given an array of integers nums and an integer target, return indices of the two numbers such that they add up to target.\n",
        "\n",
        "You may assume that each input would have exactly one solution, and you may not use the same element twice.\n",
        "\n",
        "You can return the answer in any order.\n",
        "\n",
        "**Example:**\n",
        "Input: nums = [2,7,11,15], target = 9\n",
        "Output0 [0,1]\n",
        "\n",
        "**Explanation:** Because nums[0] + nums[1] == 9, we return [0, 1]"
      ],
      "metadata": {
        "id": "9dzYRcGR1gSV"
      }
    },
    {
      "cell_type": "markdown",
      "source": [
        "Brute Force Approach"
      ],
      "metadata": {
        "id": "V72AU5Jq0fIR"
      }
    },
    {
      "cell_type": "code",
      "execution_count": null,
      "metadata": {
        "id": "onyYwj9Jrmuq",
        "colab": {
          "base_uri": "https://localhost:8080/"
        },
        "outputId": "ca398d1f-6511-4d90-d932-3948c712157f"
      },
      "outputs": [
        {
          "output_type": "stream",
          "name": "stdout",
          "text": [
            "****************************************** Test Case 1 *******************************************************\n",
            "[0, 1]\n",
            "****************************************** Test Case 3 *******************************************************\n",
            "[1, 4]\n"
          ]
        }
      ],
      "source": [
        "def find_sub_array(arr,target):\n",
        "  n = len(arr)\n",
        "  i = 0\n",
        "  j = 1\n",
        "  list1 =[]\n",
        "  for i in range(0,n):\n",
        "    for j in range(i+1,n-1):\n",
        "      if arr[i]+arr[j] == target:\n",
        "        list1.append(i)\n",
        "        list1.append(j)\n",
        "  return list1\n",
        "  \n",
        "\n",
        "### Driver Code\n",
        "print(\"****************************************** Test Case 1 *******************************************************\")\n",
        "nums = [2,7,11,15]\n",
        "target1 = 9\n",
        "res = find_sub_array(nums,target1)\n",
        "print(res)\n",
        "print(\"****************************************** Test Case 3 *******************************************************\")\n",
        "nums1 = [4,12,13,21,45,22]\n",
        "target2 = 57\n",
        "res2 = find_sub_array(nums1,target2)\n",
        "print(res2)"
      ]
    },
    {
      "cell_type": "markdown",
      "source": [
        "Time Complexity of Brute Force Approach is : O(nˆ2)"
      ],
      "metadata": {
        "id": "ESuD9Roe54r6"
      }
    },
    {
      "cell_type": "markdown",
      "source": [
        "Optimised Approach : "
      ],
      "metadata": {
        "id": "8nUkF4hN6CUr"
      }
    },
    {
      "cell_type": "code",
      "source": [
        "def find_sub_array_with_indices(nums, target):\n",
        "    num_map = {}  # Dictionary to store numbers and their indices\n",
        "    \n",
        "    for i, num in enumerate(nums):\n",
        "        complement = target - num\n",
        "        \n",
        "        if complement in num_map:\n",
        "            # Found the two numbers that add up to the target\n",
        "            return [num_map[complement], i]\n",
        "        \n",
        "        # Store the current number in the dictionary\n",
        "        num_map[num] = i\n",
        "    \n",
        "    #If no solution found\n",
        "    return []\n",
        "\n",
        "\n",
        "### Driver Code\n",
        "print(\"****************************************** Test Case 1 *******************************************************\")\n",
        "nums = [2,7,11,15]\n",
        "target1 = 9\n",
        "res = find_sub_array_with_indices(nums,target1)\n",
        "print(res)\n",
        "print(\"****************************************** Test Case 3 *******************************************************\")\n",
        "nums1 = [4,12,13,21,45,22]\n",
        "target2 = 57\n",
        "res2 = find_sub_array_with_indices(nums1,target2)\n",
        "print(res2)"
      ],
      "metadata": {
        "colab": {
          "base_uri": "https://localhost:8080/"
        },
        "id": "dL2Si2L47dFE",
        "outputId": "0da5e3a1-4226-4266-ea2a-6ad369a67890"
      },
      "execution_count": null,
      "outputs": [
        {
          "output_type": "stream",
          "name": "stdout",
          "text": [
            "****************************************** Test Case 1 *******************************************************\n",
            "[0, 1]\n",
            "****************************************** Test Case 3 *******************************************************\n",
            "[1, 4]\n"
          ]
        }
      ]
    },
    {
      "cell_type": "markdown",
      "source": [
        "Time Complexity : O(n)"
      ],
      "metadata": {
        "id": "xY64dLABKupd"
      }
    },
    {
      "cell_type": "markdown",
      "source": [
        "💡 **Q2.** Given an integer array nums and an integer val, remove all occurrences of val in nums in-place. The order of the elements may be changed. Then return the number of elements in nums which are not equal to val.\n",
        "\n",
        "Consider the number of elements in nums which are not equal to val be k, to get accepted, you need to do the following things:\n",
        "\n",
        "- Change the array nums such that the first k elements of nums contain the elements which are not equal to val. The remaining elements of nums are not important as well as the size of nums.\n",
        "- Return k.\n",
        "\n",
        "**Example :**\n",
        "Input: nums = [3,2,2,3], val = 3\n",
        "Output: 2, nums = [2,2,_*,_*]\n",
        "\n",
        "**Explanation:** Your function should return k = 2, with the first two elements of nums being 2. It does not matter what you leave beyond the returned k (hence they are underscores)"
      ],
      "metadata": {
        "id": "NpiAiB2sK4pO"
      }
    },
    {
      "cell_type": "markdown",
      "source": [
        "Optimised Approach"
      ],
      "metadata": {
        "id": "6N2gM7QQLN0V"
      }
    },
    {
      "cell_type": "code",
      "source": [
        "def remove_val_in_array(arr,val):\n",
        "  i = 0\n",
        "  count = 0\n",
        "  n = len(arr)\n",
        "  while i < n :\n",
        "    if arr[i] == val:\n",
        "      count +=1\n",
        "      # Move the last element to the current position\n",
        "      arr[i] = arr[n-1]\n",
        "      n -=1\n",
        "    else:\n",
        "      i +=1\n",
        "  print(\"Original Array: \", arr)\n",
        "  print(\"Modified Array after removing the val Elements in array :\", arr[:n])\n",
        "  print(\"Count of integer val Elements in array:\", count)\n",
        "### Driver Code\n",
        "print(\"****************************************** Test Case 1 *******************************************************\")\n",
        "nums1 = [3,2,2,3]\n",
        "val1 = 3\n",
        "res1 = remove_val_in_array(nums1,val1)\n",
        "print(res1)\n",
        "print(\"****************************************** Test Case 2 *******************************************************\")\n",
        "nums2 = [4,6,2,3,1,7,4,7,5]\n",
        "val2 = 7\n",
        "res2 = remove_val_in_array(nums2,val2)\n",
        "print(res2)"
      ],
      "metadata": {
        "colab": {
          "base_uri": "https://localhost:8080/"
        },
        "id": "_KcvTECVKuFB",
        "outputId": "777b8f65-cb68-4a02-db7a-8f2343aa65de"
      },
      "execution_count": null,
      "outputs": [
        {
          "output_type": "stream",
          "name": "stdout",
          "text": [
            "****************************************** Test Case 1 *******************************************************\n",
            "Original Array:  [2, 2, 2, 3]\n",
            "Modified Array after removing the val Elements in array : [2, 2]\n",
            "Count of integer val Elements in array: 2\n",
            "None\n",
            "****************************************** Test Case 2 *******************************************************\n",
            "Original Array:  [4, 6, 2, 3, 1, 5, 4, 7, 5]\n",
            "Modified Array after removing the val Elements in array : [4, 6, 2, 3, 1, 5, 4]\n",
            "Count of integer val Elements in array: 2\n",
            "None\n"
          ]
        }
      ]
    },
    {
      "cell_type": "markdown",
      "source": [
        "Time Complexity : O(n)"
      ],
      "metadata": {
        "id": "G_dcNQPBXaCJ"
      }
    },
    {
      "cell_type": "markdown",
      "source": [
        "<aside>\n",
        "💡 **Q3.** Given a sorted array of distinct integers and a target value, return the index if the target is found. If not, return the index where it would be if it were inserted in order.\n",
        "\n",
        "You must write an algorithm with O(log n) runtime complexity.\n",
        "\n",
        "**Example 1:**\n",
        "Input: nums = [1,3,5,6], target = 5\n",
        "\n",
        "Output: 2\n",
        "\n",
        "</aside>"
      ],
      "metadata": {
        "id": "WEGprBpdc2aH"
      }
    },
    {
      "cell_type": "markdown",
      "source": [
        "Brute Force Approach "
      ],
      "metadata": {
        "id": "YRF63aURmfBd"
      }
    },
    {
      "cell_type": "markdown",
      "source": [
        "Hence the operation we need to do here is searching operation in the array to find the target value is found in array.\n",
        "\n",
        "First we use Linear Seaching operation\n",
        "\n"
      ],
      "metadata": {
        "id": "eF8giis9miiX"
      }
    },
    {
      "cell_type": "code",
      "source": [
        "def index_of_target(arr,target):\n",
        "  for i in range(0, len(arr)):\n",
        "    if arr[i] >= target:\n",
        "       return i\n",
        "### Driver Code\n",
        "print(\"****************************************** Test Case 1 *******************************************************\")\n",
        "nums1 = [1,3,5,6]\n",
        "target1 = 5\n",
        "res1 = index_of_target(nums1,target1)\n",
        "print(res1)\n",
        "print(\"****************************************** Test Case 2 *******************************************************\")\n",
        "nums2 = [1,2,3,5,6,8,12]\n",
        "target2 = 10\n",
        "res2 = index_of_target(nums2,target2)\n",
        "print(res2)"
      ],
      "metadata": {
        "colab": {
          "base_uri": "https://localhost:8080/"
        },
        "id": "Pt7hgXQ4brkI",
        "outputId": "af56f088-f98b-4709-f1f6-84e57435222e"
      },
      "execution_count": null,
      "outputs": [
        {
          "output_type": "stream",
          "name": "stdout",
          "text": [
            "****************************************** Test Case 1 *******************************************************\n",
            "2\n",
            "****************************************** Test Case 2 *******************************************************\n",
            "6\n"
          ]
        }
      ]
    },
    {
      "cell_type": "markdown",
      "source": [
        "In the above approach we are iterating the array only once. Thus the time complexity is O(n)."
      ],
      "metadata": {
        "id": "_CBBYWf9njk_"
      }
    },
    {
      "cell_type": "markdown",
      "source": [
        "The time complexity for the above Linear search or Brute Force Approach is \n",
        "\n",
        "Time Complexity : O(n) "
      ],
      "metadata": {
        "id": "LSk9UMdMnM5O"
      }
    },
    {
      "cell_type": "markdown",
      "source": [
        "Since the array is sorted array we use binary searching algorithm to reduce the time complexity."
      ],
      "metadata": {
        "id": "UNZ44-hSmpTT"
      }
    },
    {
      "cell_type": "markdown",
      "source": [
        "Optimesed Approach : Binary Search Algorithm"
      ],
      "metadata": {
        "id": "OLkjzpbUn1-Y"
      }
    },
    {
      "cell_type": "code",
      "source": [
        "def index_of_target(arr, target):\n",
        "    left = 0\n",
        "    right = len(arr) - 1\n",
        "\n",
        "    while left <= right:\n",
        "        mid = left + (right - left) // 2\n",
        "\n",
        "        if arr[mid] == target:\n",
        "          return mid\n",
        "\n",
        "        elif arr[mid] < target:\n",
        "            left = mid + 1 \n",
        "        elif arr[mid] > target:\n",
        "            right = mid - 1\n",
        "\n",
        "    return -1\n",
        "### Driver Code\n",
        "nums1 = [1,3,5,6]\n",
        "target1 = 5\n",
        "res1 = index_of_target(nums1,target1)\n",
        "print(res1)"
      ],
      "metadata": {
        "colab": {
          "base_uri": "https://localhost:8080/"
        },
        "id": "uggDQT05ktRS",
        "outputId": "1ee84f65-baeb-41c9-c253-51a009edc9fa"
      },
      "execution_count": null,
      "outputs": [
        {
          "output_type": "stream",
          "name": "stdout",
          "text": [
            "2\n"
          ]
        }
      ]
    },
    {
      "cell_type": "code",
      "source": [
        "def search_insert_position(nums, target):\n",
        "    left = 0\n",
        "    right = len(nums) - 1\n",
        "\n",
        "    while left <= right:\n",
        "        mid = left + (right - left) // 2\n",
        "\n",
        "        if nums[mid] == target:\n",
        "            return mid\n",
        "        elif nums[mid] < target:\n",
        "            left = mid + 1\n",
        "        else:\n",
        "            right = mid - 1\n",
        "\n",
        "    # If the target value is not found, return the index where it would be if it were inserted in order.\n",
        "    return left if nums[left] < target else right + 1\n",
        "\n",
        "\n",
        "print(\"****************************************** Test Case 1 *******************************************************\")\n",
        "nums1 = [1,3,5,6]\n",
        "target1 = 5\n",
        "res1 = search_insert_position(nums1,target1)\n",
        "print(res1)\n",
        "print(\"****************************************** Test Case 2 *******************************************************\")\n",
        "nums2 = [1,2,3,5,6,8,12]\n",
        "target2 = 10\n",
        "res2 = search_insert_position(nums2,target2)\n",
        "print(res2)"
      ],
      "metadata": {
        "colab": {
          "base_uri": "https://localhost:8080/"
        },
        "id": "dXmgf0703iif",
        "outputId": "1e081f5b-4f10-4e18-b902-15b21db16272"
      },
      "execution_count": null,
      "outputs": [
        {
          "output_type": "stream",
          "name": "stdout",
          "text": [
            "****************************************** Test Case 1 *******************************************************\n",
            "2\n",
            "****************************************** Test Case 2 *******************************************************\n",
            "6\n"
          ]
        }
      ]
    },
    {
      "cell_type": "markdown",
      "source": [
        "Time Complexity : O(logn)"
      ],
      "metadata": {
        "id": "C0wUgxK04fUs"
      }
    },
    {
      "cell_type": "markdown",
      "source": [
        "<aside>\n",
        "💡 **Q4.** You are given a large integer represented as an integer array digits, where each digits[i] is the ith digit of the integer. The digits are ordered from most significant to least significant in left-to-right order. The large integer does not contain any leading 0's.\n",
        "\n",
        "Increment the large integer by one and return the resulting array of digits.\n",
        "\n",
        "**Example 1:**\n",
        "Input: digits = [1,2,3]\n",
        "Output: [1,2,4]\n",
        "\n",
        "**Explanation:** The array represents the integer 123.\n",
        "\n",
        "Incrementing by one gives 123 + 1 = 124.\n",
        "Thus, the result should be [1,2,4].\n",
        "\n",
        "</aside>"
      ],
      "metadata": {
        "id": "44bp5ODq5vtF"
      }
    },
    {
      "cell_type": "code",
      "source": [
        "def increment_array(arr):\n",
        "    n = len(arr)\n",
        "    r = n - 1\n",
        "    carry = 1  # Initialize carry to 1 for incrementing the last digit\n",
        "\n",
        "    for i in range(r, -1, -1):\n",
        "        total = arr[i] + carry\n",
        "        arr[i] = total % 10  # Update the current digit\n",
        "\n",
        "        if total < 10:\n",
        "            carry = 0  # No carry, exit the loop\n",
        "            break\n",
        "        else:\n",
        "            carry = 1  # Carry occurred, continue to the next digit\n",
        "\n",
        "    if carry == 1:  # If carry is still 1 after traversing all digits, append 1 to the front\n",
        "        arr.insert(0, 1)\n",
        "\n",
        "    return arr\n",
        "\n",
        "\n",
        "# Driver Code\n",
        "digits = [1, 2, 3]\n",
        "res = increment_array(digits)\n",
        "print(res)"
      ],
      "metadata": {
        "colab": {
          "base_uri": "https://localhost:8080/"
        },
        "id": "2ab-3ipNMCoM",
        "outputId": "83ae2301-b550-40cd-d26c-9ce2f578811c"
      },
      "execution_count": null,
      "outputs": [
        {
          "output_type": "stream",
          "name": "stdout",
          "text": [
            "[1, 2, 4]\n"
          ]
        }
      ]
    },
    {
      "cell_type": "markdown",
      "source": [
        "Time Complexity of this Approach is : O(n)"
      ],
      "metadata": {
        "id": "XmqHtojQki47"
      }
    },
    {
      "cell_type": "markdown",
      "source": [
        "<aside>\n",
        "💡 **Q5.** You are given two integer arrays nums1 and nums2, sorted in non-decreasing order, and two integers m and n, representing the number of elements in nums1 and nums2 respectively.\n",
        "\n",
        "Merge nums1 and nums2 into a single array sorted in non-decreasing order.\n",
        "\n",
        "The final sorted array should not be returned by the function, but instead be stored inside the array nums1. To accommodate this, nums1 has a length of m + n, where the first m elements denote the elements that should be merged, and the last n elements are set to 0 and should be ignored. nums2 has a length of n.\n",
        "\n",
        "**Example 1:**\n",
        "Input: nums1 = [1,2,3,0,0,0], m = 3, nums2 = [2,5,6], n = 3\n",
        "Output: [1,2,2,3,5,6]\n",
        "\n",
        "**Explanation:** The arrays we are merging are [1,2,3] and [2,5,6].\n",
        "The result of the merge is [1,2,2,3,5,6] with the underlined elements coming from nums1.\n",
        "\n",
        "</aside>"
      ],
      "metadata": {
        "id": "6giESGLxlog4"
      }
    },
    {
      "cell_type": "code",
      "source": [
        "def merge_sort(arr1,d,arr2,e):\n",
        "  # Create a copy of nums1 to store the merged result\n",
        "  arr1_copy = arr1[:m]\n",
        "\n",
        "  # Pointers for nums1_copy, nums2, and the merged result\n",
        "  p1 = 0\n",
        "  p2 = 0\n",
        "  p = 0\n",
        "  # Compare elements from nums1_copy and nums2 and place the smaller element in the merged result\n",
        "  while p1 < m and p2 < n:\n",
        "    if arr1_copy[p1] <= arr2[p2]:\n",
        "      arr1[p] = arr1_copy[p1]\n",
        "      p1 += 1\n",
        "    else:\n",
        "      arr1[p] = arr2[p2]\n",
        "      p2 += 1\n",
        "    p += 1\n",
        "  # If there are remaining elements in nums1_copy, place them in the merged result\n",
        "  while p1 < m:\n",
        "        arr1[p] = arr1_copy[p1]\n",
        "        p1 += 1\n",
        "        p += 1\n",
        "\n",
        "    # If there are remaining elements in nums2, place them in the merged result\n",
        "  while p2 < n:\n",
        "        arr1[p] = arr2[p2]\n",
        "        p2 += 1\n",
        "        p += 1\n",
        "\n",
        "\n",
        "  return arr1\n",
        "  \n",
        "### Driver Code\n",
        "nums1 = [1,2,3,0,0,0]\n",
        "m = 3\n",
        "nums2 = [2,5,6]\n",
        "n = 3\n",
        "res = merge_sort(nums1,m,nums2,n)\n",
        "print(res)"
      ],
      "metadata": {
        "id": "HlyliJKMQzfC",
        "colab": {
          "base_uri": "https://localhost:8080/"
        },
        "outputId": "be679960-7d06-42eb-df80-84e8e8a1c941"
      },
      "execution_count": null,
      "outputs": [
        {
          "output_type": "stream",
          "name": "stdout",
          "text": [
            "[1, 2, 2, 3, 5, 6]\n"
          ]
        }
      ]
    },
    {
      "cell_type": "markdown",
      "source": [
        "Time Complexity : O(m+n)"
      ],
      "metadata": {
        "id": "fhB8AHEq3oTd"
      }
    },
    {
      "cell_type": "markdown",
      "source": [
        "<aside>\n",
        "💡 **Q6.** Given an integer array nums, return true if any value appears at least twice in the array, and return false if every element is distinct.\n",
        "\n",
        "**Example 1:**\n",
        "Input: nums = [1,2,3,1]\n",
        "\n",
        "Output: true\n",
        "\n",
        "</aside>"
      ],
      "metadata": {
        "id": "aRlu-3u14C1H"
      }
    },
    {
      "cell_type": "code",
      "source": [
        "def containsDuplicate(nums):\n",
        "    seen = set()\n",
        "    for num in nums:\n",
        "        if num in seen:\n",
        "            return True\n",
        "        seen.add(num)\n",
        "    return False\n",
        "###Driver Code\n",
        "nums = [1, 2, 3, 1]\n",
        "result = containsDuplicate(nums)\n",
        "print(result) \n"
      ],
      "metadata": {
        "colab": {
          "base_uri": "https://localhost:8080/"
        },
        "id": "e7ve-K5Z2PN2",
        "outputId": "67b793ef-6668-4ddc-bccf-5ce9b589401e"
      },
      "execution_count": null,
      "outputs": [
        {
          "output_type": "stream",
          "name": "stdout",
          "text": [
            "True\n"
          ]
        }
      ]
    },
    {
      "cell_type": "markdown",
      "source": [
        "<aside>\n",
        "💡 **Q7.** Given an integer array nums, move all 0's to the end of it while maintaining the relative order of the nonzero elements.\n",
        "\n",
        "Note that you must do this in-place without making a copy of the array.\n",
        "\n",
        "**Example 1:**\n",
        "Input: nums = [0,1,0,3,12]\n",
        "Output: [1,3,12,0,0]\n",
        "\n",
        "</aside>"
      ],
      "metadata": {
        "id": "dIEEKoRi6vP_"
      }
    },
    {
      "cell_type": "code",
      "source": [
        "def move_zeros(nums):\n",
        "    n = len(nums)\n",
        "    zero_count = 0\n",
        "\n",
        "    # Count the number of zeros and move non-zero elements to the left side of the array\n",
        "    for i in range(n):\n",
        "        if nums[i] == 0:\n",
        "            zero_count += 1\n",
        "        else:\n",
        "            nums[i - zero_count] = nums[i]\n",
        "\n",
        "    # Fill the remaining elements with zeros\n",
        "    for i in range(n - zero_count, n):\n",
        "        nums[i] = 0\n",
        "\n",
        "# Driver code\n",
        "nums = [0, 1, 0, 3, 12]\n",
        "move_zeros(nums)\n",
        "print(nums)"
      ],
      "metadata": {
        "colab": {
          "base_uri": "https://localhost:8080/"
        },
        "id": "SgXCfXDXE61a",
        "outputId": "9e42a847-fa79-48f7-ca5a-7a1fad3538e6"
      },
      "execution_count": null,
      "outputs": [
        {
          "output_type": "stream",
          "name": "stdout",
          "text": [
            "[1, 3, 12, 0, 0]\n"
          ]
        }
      ]
    },
    {
      "cell_type": "markdown",
      "source": [
        "<aside>\n",
        "💡 **Q8.** You have a set of integers s, which originally contains all the numbers from 1 to n. Unfortunately, due to some error, one of the numbers in s got duplicated to another number in the set, which results in repetition of one number and loss of another number.\n",
        "\n",
        "You are given an integer array nums representing the data status of this set after the error.\n",
        "\n",
        "Find the number that occurs twice and the number that is missing and return them in the form of an array.\n",
        "\n",
        "**Example 1:**\n",
        "Input: nums = [1,2,2,4]\n",
        "Output: [2,3]\n",
        "\n",
        "</aside>"
      ],
      "metadata": {
        "id": "EHWVt0JrJWRR"
      }
    },
    {
      "cell_type": "code",
      "source": [
        "def findErrorNums(nums):\n",
        "    n = len(nums)\n",
        "    duplicate = -1\n",
        "    missing = -1\n",
        "\n",
        "    # Find the duplicate number\n",
        "    for num in nums:\n",
        "        if nums[abs(num) - 1] < 0:\n",
        "            duplicate = abs(num)\n",
        "        else:\n",
        "            nums[abs(num) - 1] *= -1\n",
        "\n",
        "    # Find the missing number\n",
        "    for i in range(n):\n",
        "        if nums[i] > 0:\n",
        "            missing = i + 1\n",
        "            break\n",
        "\n",
        "    return [duplicate, missing]\n",
        "### Driver Code\n",
        "nums = [1,2,3,4]\n",
        "res = findErrorNums(nums)\n",
        "print(res)"
      ],
      "metadata": {
        "id": "pSWqPt2oHnEH",
        "colab": {
          "base_uri": "https://localhost:8080/"
        },
        "outputId": "1f0e80d4-999b-4207-cabe-a5215991950a"
      },
      "execution_count": 3,
      "outputs": [
        {
          "output_type": "stream",
          "name": "stdout",
          "text": [
            "[2, 3]\n"
          ]
        }
      ]
    }
  ]
}