{
  "nbformat": 4,
  "nbformat_minor": 0,
  "metadata": {
    "colab": {
      "provenance": []
    },
    "kernelspec": {
      "name": "python3",
      "display_name": "Python 3"
    },
    "language_info": {
      "name": "python"
    }
  },
  "cells": [
    {
      "cell_type": "markdown",
      "source": [
        "Question 1\n",
        "Given an integer array nums of length n and an integer target, find three integers\n",
        "in nums such that the sum is closest to the target.\n",
        "Return the sum of the three integers.\n",
        "\n",
        "You may assume that each input would have exactly one solution.\n",
        "\n",
        "Example 1:\n",
        "Input: nums = [-1,2,1,-4], target = 1\n",
        "Output: 2\n",
        "\n",
        "Explanation: The sum that is closest to the target is 2. (-1 + 2 + 1 = 2).\n"
      ],
      "metadata": {
        "id": "dUVaks4XGFLQ"
      }
    },
    {
      "cell_type": "markdown",
      "source": [
        "Brute Force Approach"
      ],
      "metadata": {
        "id": "89FerJ5ObXi-"
      }
    },
    {
      "cell_type": "code",
      "source": [
        "def threeSumClosest(arr, target):\n",
        "    arr.sort()\n",
        "    n = len(arr)\n",
        "    closestSum = float('inf')\n",
        "    for i in range(0,len(arr)):\n",
        "      for j in range(i+1,len(arr)):\n",
        "        for k in range(j+1,len(arr)):\n",
        "          if arr[i] + arr[j] + arr[k] == target:\n",
        "            return target\n",
        "          else:\n",
        "            current_sum = arr[i] + arr[j] + arr[k]\n",
        "            if abs(current_sum - target) < abs(closestSum -target):\n",
        "              closestSum = current_sum\n",
        "\n",
        "    return closestSum\n",
        "\n",
        "### Driver Code\n",
        "nums1 = [-1,2,1,-4]\n",
        "target1 = 1\n",
        "res = threeSumClosest(nums1,target1)\n",
        "print(res)"
      ],
      "metadata": {
        "id": "-oswZS0Obads",
        "colab": {
          "base_uri": "https://localhost:8080/"
        },
        "outputId": "55d68c9f-bf88-48f8-fa20-6a4aa02192f1"
      },
      "execution_count": null,
      "outputs": [
        {
          "output_type": "stream",
          "name": "stdout",
          "text": [
            "2\n"
          ]
        }
      ]
    },
    {
      "cell_type": "markdown",
      "source": [
        "Optimised Approach"
      ],
      "metadata": {
        "id": "jkl9IfUMGxJb"
      }
    },
    {
      "cell_type": "markdown",
      "source": [
        "Algorithm :   \n",
        "\n",
        "Step 1 :- Sort the array in non-decreasing order\n",
        "\n",
        "Step 2 :- Initialize the variable closest sum to the positive infinity to \n",
        "          store the closest sum which is near to the target.\n",
        "\n",
        "Step 3 :- Iterate through the array from index 0 to the n-3, where n is the \n",
        "          length of the array.\n",
        "\n",
        "          a.Initialize the two pointers technique. Initialize the left and right variables.\n",
        "\n",
        "          b.Set left to i+1, right to n-1\n",
        "\n",
        "          c.while left is less than right do the following things,\n",
        "\n",
        "             1.Compute the current sum by adding arr[i],arr[left] and \n",
        "                arr [right].\n",
        "\n",
        "             2. If the absolute difference between the current sum and  \n",
        "                target  is smaller than the absolute difference between the\n",
        "                cloasestsum and target then update the current sum to the closest sum.\n",
        "             3. If the current sum is greater than the closest sum then \n",
        "                increment the 'left' pointer.\n",
        "             4. If the current sum is less than the closest sum then \n",
        "                increment the 'right' pointer.\n",
        "             5. If the current sum is equal to the target sum then return \n",
        "                target as a result.\n",
        "                \n",
        "Step 4 :- After the iteration return the cloasest sum as a result.\n",
        "              "
      ],
      "metadata": {
        "id": "UBYo0XUrTVbM"
      }
    },
    {
      "cell_type": "code",
      "source": [
        "def threeSumClosest(nums, target):\n",
        "    nums.sort()\n",
        "    n = len(nums)\n",
        "    closestSum = float('inf')\n",
        "\n",
        "    for i in range(n - 2):\n",
        "        left = i + 1\n",
        "        right = n - 1\n",
        "\n",
        "        while left < right:\n",
        "            currentSum = nums[i] + nums[left] + nums[right]\n",
        "            if currentSum == target:\n",
        "                return target\n",
        "\n",
        "            if abs(currentSum - target) < abs(closestSum - target):\n",
        "                closestSum = currentSum\n",
        "\n",
        "            if currentSum < target:\n",
        "                left += 1\n",
        "            else:\n",
        "                right -= 1\n",
        "\n",
        "    return closestSum\n",
        "\n",
        "### Driver Code\n",
        "nums1 = [-1,2,1,-4]\n",
        "target1 = 1\n",
        "res = threeSumClosest(nums1,target1)\n",
        "print(res)"
      ],
      "metadata": {
        "colab": {
          "base_uri": "https://localhost:8080/"
        },
        "id": "XQ-Ysr3OX7Rm",
        "outputId": "271a091a-eb26-4976-9ea7-42cce8a683ef"
      },
      "execution_count": null,
      "outputs": [
        {
          "output_type": "stream",
          "name": "stdout",
          "text": [
            "2\n"
          ]
        }
      ]
    },
    {
      "cell_type": "markdown",
      "source": [
        "Time Complexity : O(nˆ2)"
      ],
      "metadata": {
        "id": "1VDwUywFX9y_"
      }
    },
    {
      "cell_type": "markdown",
      "source": [
        "Question 2\n",
        "Given an array nums of n integers, return an array of all the unique quadruplets\n",
        "[nums[a], nums[b], nums[c], nums[d]] such that:\n",
        "           ● 0 <= a, b, c, d < n\n",
        "           ● a, b, c, and d are distinct.\n",
        "           ● nums[a] + nums[b] + nums[c] + nums[d] == target\n",
        "\n",
        "You may return the answer in any order.\n",
        "\n",
        "Example 1:\n",
        "Input: nums = [1,0,-1,0,-2,2], target = 0\n",
        "Output: [[-2,-1,1,2],[-2,0,0,2],[-1,0,0,1]]"
      ],
      "metadata": {
        "id": "ZK34yjVMW3e4"
      }
    },
    {
      "cell_type": "code",
      "source": [
        "def find_quadruplets(arr,target):\n",
        "  arr.sort()\n",
        "  n = len(arr)\n",
        "  list1 = []\n",
        "  closest_sum = float('inf')\n",
        "  for i in range(n-2):\n",
        "    for j in range(i+1,n-2):\n",
        "      left = j + 1\n",
        "      right = n - 1\n",
        "      while left < right:\n",
        "        current_sum = arr[i] + arr[j] + arr[left] + arr[right]\n",
        "        if current_sum == target:\n",
        "          list1.append([arr[i],arr[j],arr[left],arr[right]])\n",
        "          left += 1\n",
        "          right -= 1\n",
        "        elif current_sum < target:\n",
        "          left += 1\n",
        "        else:\n",
        "          right -= 1\n",
        "        \n",
        "  return list1\n",
        "###Driver Code\n",
        "nums = [1,0,-1,0,-2,2]\n",
        "target1 = 0\n",
        "res = find_quadruplets(nums,target1)\n",
        "print(res)"
      ],
      "metadata": {
        "colab": {
          "base_uri": "https://localhost:8080/"
        },
        "id": "H2lz_KrbWAvj",
        "outputId": "af28525a-f349-4c36-ff49-2102152ab511"
      },
      "execution_count": null,
      "outputs": [
        {
          "output_type": "stream",
          "name": "stdout",
          "text": [
            "[[-2, -1, 1, 2], [-2, 0, 0, 2], [-1, 0, 0, 1]]\n"
          ]
        }
      ]
    },
    {
      "cell_type": "markdown",
      "source": [
        "Time Complexity : O(nˆ3)"
      ],
      "metadata": {
        "id": "UkTEaSAIiiTP"
      }
    },
    {
      "cell_type": "markdown",
      "source": [
        "<aside>\n",
        "💡 **Question 3**\n",
        "A permutation of an array of integers is an arrangement of its members into a\n",
        "sequence or linear order.\n",
        "\n",
        "For example, for arr = [1,2,3], the following are all the permutations of arr:\n",
        "[1,2,3], [1,3,2], [2, 1, 3], [2, 3, 1], [3,1,2], [3,2,1].\n",
        "\n",
        "The next permutation of an array of integers is the next lexicographically greater\n",
        "permutation of its integer. More formally, if all the permutations of the array are\n",
        "sorted in one container according to their lexicographical order, then the next\n",
        "permutation of that array is the permutation that follows it in the sorted container.\n",
        "\n",
        "If such an arrangement is not possible, the array must be rearranged as the\n",
        "lowest possible order (i.e., sorted in ascending order).\n",
        "\n",
        "● For example, the next permutation of arr = [1,2,3] is [1,3,2].\n",
        "● Similarly, the next permutation of arr = [2,3,1] is [3,1,2].\n",
        "● While the next permutation of arr = [3,2,1] is [1,2,3] because [3,2,1] does not\n",
        "have a lexicographical larger rearrangement.\n",
        "\n",
        "Given an array of integers nums, find the next permutation of nums.\n",
        "The replacement must be in place and use only constant extra memory.\n",
        "\n",
        "**Example 1:**\n",
        "Input: nums = [1,2,3]\n",
        "Output: [1,3,2]\n",
        "\n",
        "</aside>"
      ],
      "metadata": {
        "id": "1kP37UFI3sZ5"
      }
    },
    {
      "cell_type": "code",
      "source": [
        "def nextPermutation(nums):\n",
        "    n = len(nums)\n",
        "    i = n - 1\n",
        "    while i > 0 and nums[i - 1] >= nums[i]:\n",
        "        i -= 1\n",
        "\n",
        "    if i == 0:\n",
        "        nums.reverse()  \n",
        "        return\n",
        "\n",
        "    j = n - 1\n",
        "    while nums[j] <= nums[i - 1]:\n",
        "        j -= 1\n",
        "\n",
        "    nums[i - 1], nums[j] = nums[j], nums[i - 1]\n",
        "    nums[i:] = reversed(nums[i:])  \n",
        "\n",
        "nums = [1, 2, 3]\n",
        "nextPermutation(nums)\n",
        "print(nums) \n"
      ],
      "metadata": {
        "colab": {
          "base_uri": "https://localhost:8080/"
        },
        "id": "5K3S1PCZG-te",
        "outputId": "dda2ab32-9aa7-424c-f4c9-b9bf1dec3fc9"
      },
      "execution_count": null,
      "outputs": [
        {
          "output_type": "stream",
          "name": "stdout",
          "text": [
            "[1, 3, 2]\n"
          ]
        }
      ]
    },
    {
      "cell_type": "markdown",
      "source": [
        "Time Complexity : O(n)"
      ],
      "metadata": {
        "id": "oYI9U6sUL5Ic"
      }
    },
    {
      "cell_type": "markdown",
      "source": [
        "Question 4\n",
        "Given a sorted array of distinct integers and a target value, return the index if the\n",
        "target is found. If not, return the index where it would be if it were inserted in\n",
        "order.\n",
        "\n",
        "You must write an algorithm with O(log n) runtime complexity.\n",
        "\n",
        "Example 1:\n",
        "Input: nums = [1,3,5,6], target = 5\n",
        "Output: 2"
      ],
      "metadata": {
        "id": "iWAOBNmxMwE0"
      }
    },
    {
      "cell_type": "code",
      "source": [
        "def search_insert_position(nums, target):\n",
        "    left = 0\n",
        "    right = len(nums) - 1\n",
        "\n",
        "    while left <= right:\n",
        "        mid = left + (right - left) // 2\n",
        "\n",
        "        if nums[mid] == target:\n",
        "            return mid\n",
        "        elif nums[mid] < target:\n",
        "            left = mid + 1\n",
        "        else:\n",
        "            right = mid - 1\n",
        "\n",
        "    # If the target value is not found, return the index where it would be if it were inserted in order.\n",
        "    return left if nums[left] < target else right + 1\n",
        "### Driver Code\n",
        "nums = [1,3,5,6]\n",
        "target1 = 2\n",
        "res = search_insert_position(nums,target1)\n",
        "print(res)"
      ],
      "metadata": {
        "colab": {
          "base_uri": "https://localhost:8080/"
        },
        "id": "wCy2LuOkQKSC",
        "outputId": "4d98b9e5-3cba-4164-c3d3-1c7a22ed4eea"
      },
      "execution_count": null,
      "outputs": [
        {
          "output_type": "stream",
          "name": "stdout",
          "text": [
            "1\n"
          ]
        }
      ]
    },
    {
      "cell_type": "markdown",
      "source": [
        "<aside>\n",
        "💡 **Question 5**\n",
        "You are given a large integer represented as an integer array digits, where each\n",
        "digits[i] is the ith digit of the integer. The digits are ordered from most significant\n",
        "to least significant in left-to-right order. The large integer does not contain any\n",
        "leading 0's.\n",
        "\n",
        "Increment the large integer by one and return the resulting array of digits.\n",
        "\n",
        "**Example 1:**\n",
        "Input: digits = [1,2,3]\n",
        "Output: [1,2,4]\n",
        "\n",
        "**Explanation:** The array represents the integer 123.\n",
        "Incrementing by one gives 123 + 1 = 124.\n",
        "Thus, the result should be [1,2,4].\n",
        "\n",
        "</aside>"
      ],
      "metadata": {
        "id": "gaPHgZN6UEvD"
      }
    },
    {
      "cell_type": "code",
      "source": [
        "def increment_array(arr):\n",
        "  n = len(arr)\n",
        "  carry = 1\n",
        "  r = n - 1\n",
        "  for i in range(r,-1,-1):\n",
        "    total = arr[i] + carry\n",
        "    arr[i] = total % 10\n",
        "\n",
        "    if total < 10:\n",
        "      carry = 0\n",
        "      break\n",
        "    else:\n",
        "      carry = 1\n",
        "  if carry == 1:\n",
        "    arr.insert(0,1)\n",
        "    \n",
        "  return arr\n",
        "###Driver Code\n",
        "digits = [1,2,3]\n",
        "res = increment_array(digits)\n",
        "print(res)"
      ],
      "metadata": {
        "colab": {
          "base_uri": "https://localhost:8080/"
        },
        "id": "QjesoS6fUszC",
        "outputId": "a6ab4a00-d068-4630-b56a-edb36546bc2b"
      },
      "execution_count": null,
      "outputs": [
        {
          "output_type": "stream",
          "name": "stdout",
          "text": [
            "[1, 2, 4]\n"
          ]
        }
      ]
    },
    {
      "cell_type": "markdown",
      "source": [
        "Time Complexity : O(n)"
      ],
      "metadata": {
        "id": "xxan1ugLWBNE"
      }
    },
    {
      "cell_type": "markdown",
      "source": [
        "Question 6\n",
        "Given a non-empty array of integers nums, every element appears twice except\n",
        "for one. Find that single one.\n",
        "\n",
        "You must implement a solution with a linear runtime complexity and use only\n",
        "constant extra space.\n",
        "\n",
        "Example 1:\n",
        "Input: nums = [2,2,1]\n",
        "Output: 1"
      ],
      "metadata": {
        "id": "xgxtFiANWN41"
      }
    },
    {
      "cell_type": "code",
      "source": [
        "def find_single_numbers(nums):\n",
        "    nums.sort()\n",
        "    n = len(nums)\n",
        "    result = []\n",
        "    i = 0\n",
        "    while i < n:\n",
        "        if i == n - 1 or nums[i] != nums[i+1]:\n",
        "            result.append(nums[i])\n",
        "        else:\n",
        "            i += 1\n",
        "        i += 1\n",
        "    return result\n",
        "\n",
        "# Driver Code\n",
        "nums = [2,2,1]\n",
        "res = find_single_numbers(nums)\n",
        "print(res)"
      ],
      "metadata": {
        "id": "J41gXc0uV9tC",
        "colab": {
          "base_uri": "https://localhost:8080/"
        },
        "outputId": "a88beae7-437a-4f85-a540-d3c003e6cdca"
      },
      "execution_count": null,
      "outputs": [
        {
          "output_type": "stream",
          "name": "stdout",
          "text": [
            "[1]\n"
          ]
        }
      ]
    },
    {
      "cell_type": "markdown",
      "source": [
        "Time Complexity : O(nlogn)\n",
        "Space Complexity : O(1)"
      ],
      "metadata": {
        "id": "MHC31GS4knU1"
      }
    },
    {
      "cell_type": "markdown",
      "source": [
        "Question 7\n",
        "You are given an inclusive range [lower, upper] and a sorted unique integer array\n",
        "nums, where all elements are within the inclusive range.\n",
        "\n",
        "A number x is considered missing if x is in the range [lower, upper] and x is not in\n",
        "nums.\n",
        "\n",
        "Return the shortest sorted list of ranges that exactly covers all the missing\n",
        "numbers. That is, no element of nums is included in any of the ranges, and each\n",
        "missing number is covered by one of the ranges.\n",
        "\n",
        "Example 1:\n",
        "Input: nums = [0,1,3,50,75], lower = 0, upper = 99\n",
        "Output: [[2,2],[4,49],[51,74],[76,99]]\n",
        "\n",
        "Explanation: The ranges are:\n",
        "[2,2]\n",
        "[4,49]\n",
        "[51,74]\n",
        "[76,99]"
      ],
      "metadata": {
        "id": "v2B4kfARx1GV"
      }
    },
    {
      "cell_type": "code",
      "source": [
        "def find_range(nums, lower, upper):\n",
        "    missing_ranges = []\n",
        "    start = lower\n",
        "\n",
        "    for num in nums:\n",
        "        if num == start:\n",
        "            start += 1\n",
        "        elif num > start:\n",
        "            missing_ranges.append([start, num - 1])\n",
        "            start = num + 1\n",
        "\n",
        "    if start <= upper:\n",
        "        missing_ranges.append([start, upper])\n",
        "\n",
        "    return missing_ranges\n",
        "### Driver Code\n",
        "nums = [0, 1, 3, 50, 75]\n",
        "lower = 0\n",
        "upper = 99\n",
        "result = find_range(nums, lower, upper)\n",
        "print(result)\n"
      ],
      "metadata": {
        "colab": {
          "base_uri": "https://localhost:8080/"
        },
        "id": "Jv1zuPQZJqX1",
        "outputId": "21a6ebbf-bf17-44e4-9adc-70dfa5951130"
      },
      "execution_count": 3,
      "outputs": [
        {
          "output_type": "stream",
          "name": "stdout",
          "text": [
            "[[2, 2], [4, 49], [51, 74], [76, 99]]\n"
          ]
        }
      ]
    },
    {
      "cell_type": "markdown",
      "source": [
        "Time Complexity : O(n)"
      ],
      "metadata": {
        "id": "zSCwoWWfKk6x"
      }
    },
    {
      "cell_type": "markdown",
      "source": [
        "Question 8\n",
        "Given an array of meeting time intervals where intervals[i] = [starti, endi],\n",
        "determine if a person could attend all meetings.\n",
        "\n",
        "Example 1:\n",
        "Input: intervals = [[0,30],[5,10],[15,20]]\n",
        "Output: false"
      ],
      "metadata": {
        "id": "0VlfNB1sKjqz"
      }
    },
    {
      "cell_type": "code",
      "source": [
        "def can_attend_all_meetings(intervals):\n",
        "    n = len(intervals)\n",
        "    intervals.sort(key=lambda x: x[0])\n",
        "\n",
        "    for i in range(0,len(intervals) - 1):\n",
        "        if intervals[i][1] > intervals[i + 1][0]:\n",
        "            return False\n",
        "\n",
        "    return True\n",
        "\n",
        "intervals = [[0, 30], [5, 10], [15, 20]]\n",
        "result = can_attend_all_meetings(intervals)\n",
        "print(result)"
      ],
      "metadata": {
        "colab": {
          "base_uri": "https://localhost:8080/",
          "height": 340
        },
        "id": "EnAzWKIVRRWA",
        "outputId": "6be69de6-a45d-4437-c261-f69945e17973"
      },
      "execution_count": 22,
      "outputs": [
        {
          "output_type": "error",
          "ename": "TypeError",
          "evalue": "ignored",
          "traceback": [
            "\u001b[0;31m---------------------------------------------------------------------------\u001b[0m",
            "\u001b[0;31mTypeError\u001b[0m                                 Traceback (most recent call last)",
            "\u001b[0;32m<ipython-input-22-17e2d4352c14>\u001b[0m in \u001b[0;36m<cell line: 12>\u001b[0;34m()\u001b[0m\n\u001b[1;32m     10\u001b[0m \u001b[0;34m\u001b[0m\u001b[0m\n\u001b[1;32m     11\u001b[0m \u001b[0mintervals\u001b[0m \u001b[0;34m=\u001b[0m \u001b[0;34m[\u001b[0m\u001b[0;34m[\u001b[0m\u001b[0;36m0\u001b[0m\u001b[0;34m,\u001b[0m \u001b[0;36m30\u001b[0m\u001b[0;34m]\u001b[0m\u001b[0;34m,\u001b[0m \u001b[0;34m[\u001b[0m\u001b[0;36m5\u001b[0m\u001b[0;34m,\u001b[0m \u001b[0;36m10\u001b[0m\u001b[0;34m]\u001b[0m\u001b[0;34m,\u001b[0m \u001b[0;34m[\u001b[0m\u001b[0;36m15\u001b[0m\u001b[0;34m,\u001b[0m \u001b[0;36m20\u001b[0m\u001b[0;34m]\u001b[0m\u001b[0;34m]\u001b[0m\u001b[0;34m\u001b[0m\u001b[0;34m\u001b[0m\u001b[0m\n\u001b[0;32m---> 12\u001b[0;31m \u001b[0mresult\u001b[0m \u001b[0;34m=\u001b[0m \u001b[0mcan_attend_all_meetings\u001b[0m\u001b[0;34m(\u001b[0m\u001b[0mintervals\u001b[0m\u001b[0;34m)\u001b[0m\u001b[0;34m\u001b[0m\u001b[0;34m\u001b[0m\u001b[0m\n\u001b[0m\u001b[1;32m     13\u001b[0m \u001b[0mprint\u001b[0m\u001b[0;34m(\u001b[0m\u001b[0mresult\u001b[0m\u001b[0;34m)\u001b[0m\u001b[0;34m\u001b[0m\u001b[0;34m\u001b[0m\u001b[0m\n",
            "\u001b[0;32m<ipython-input-22-17e2d4352c14>\u001b[0m in \u001b[0;36mcan_attend_all_meetings\u001b[0;34m(intervals)\u001b[0m\n\u001b[1;32m      3\u001b[0m     \u001b[0mintervals\u001b[0m\u001b[0;34m.\u001b[0m\u001b[0msort\u001b[0m\u001b[0;34m(\u001b[0m\u001b[0mkey\u001b[0m\u001b[0;34m=\u001b[0m\u001b[0;32mlambda\u001b[0m \u001b[0mx\u001b[0m\u001b[0;34m:\u001b[0m \u001b[0mx\u001b[0m\u001b[0;34m[\u001b[0m\u001b[0;36m0\u001b[0m\u001b[0;34m]\u001b[0m\u001b[0;34m)\u001b[0m\u001b[0;34m\u001b[0m\u001b[0;34m\u001b[0m\u001b[0m\n\u001b[1;32m      4\u001b[0m \u001b[0;34m\u001b[0m\u001b[0m\n\u001b[0;32m----> 5\u001b[0;31m     \u001b[0;32mfor\u001b[0m \u001b[0mi\u001b[0m \u001b[0;32min\u001b[0m \u001b[0mrange\u001b[0m\u001b[0;34m(\u001b[0m\u001b[0;36m0\u001b[0m\u001b[0;34m,\u001b[0m\u001b[0mlen\u001b[0m\u001b[0;34m(\u001b[0m\u001b[0mintervals\u001b[0m\u001b[0;34m)\u001b[0m \u001b[0;34m-\u001b[0m \u001b[0;36m1\u001b[0m\u001b[0;34m)\u001b[0m\u001b[0;34m:\u001b[0m\u001b[0;34m\u001b[0m\u001b[0;34m\u001b[0m\u001b[0m\n\u001b[0m\u001b[1;32m      6\u001b[0m         \u001b[0;32mif\u001b[0m \u001b[0mintervals\u001b[0m\u001b[0;34m[\u001b[0m\u001b[0mi\u001b[0m\u001b[0;34m]\u001b[0m\u001b[0;34m[\u001b[0m\u001b[0;36m1\u001b[0m\u001b[0;34m]\u001b[0m \u001b[0;34m>\u001b[0m \u001b[0mintervals\u001b[0m\u001b[0;34m[\u001b[0m\u001b[0mi\u001b[0m \u001b[0;34m+\u001b[0m \u001b[0;36m1\u001b[0m\u001b[0;34m]\u001b[0m\u001b[0;34m[\u001b[0m\u001b[0;36m0\u001b[0m\u001b[0;34m]\u001b[0m\u001b[0;34m:\u001b[0m\u001b[0;34m\u001b[0m\u001b[0;34m\u001b[0m\u001b[0m\n\u001b[1;32m      7\u001b[0m             \u001b[0;32mreturn\u001b[0m \u001b[0;32mFalse\u001b[0m\u001b[0;34m\u001b[0m\u001b[0;34m\u001b[0m\u001b[0m\n",
            "\u001b[0;31mTypeError\u001b[0m: range() missing 1 required positional argument: 'upper'"
          ]
        }
      ]
    },
    {
      "cell_type": "code",
      "source": [],
      "metadata": {
        "id": "qHcXNkeSRkwZ"
      },
      "execution_count": null,
      "outputs": []
    }
  ]
}