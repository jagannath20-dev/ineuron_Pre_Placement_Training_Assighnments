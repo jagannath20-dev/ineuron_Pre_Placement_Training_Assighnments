{
  "nbformat": 4,
  "nbformat_minor": 0,
  "metadata": {
    "colab": {
      "provenance": []
    },
    "kernelspec": {
      "name": "python3",
      "display_name": "Python 3"
    },
    "language_info": {
      "name": "python"
    }
  },
  "cells": [
    {
      "cell_type": "markdown",
      "source": [
        "<aside>\n",
        "💡 **Question 1**\n",
        "\n",
        "Given an integer `n`, return *`true` if it is a power of three. Otherwise, return `false`*.\n",
        "\n",
        "An integer `n` is a power of three, if there exists an integer `x` such that `n == 3x`.\n",
        "\n",
        "**Example 1:**\n",
        "\n",
        "```\n",
        "Input: n = 27\n",
        "Output: true\n",
        "Explanation: 27 = 33\n",
        "```\n",
        "\n",
        "**Example 2:**\n",
        "\n",
        "```\n",
        "Input: n = 0\n",
        "Output: false\n",
        "Explanation: There is no x where 3x = 0.\n",
        "\n",
        "```\n",
        "\n",
        "**Example 3:**\n",
        "Input: n = -1\n",
        "\n",
        "Output: false\n",
        "\n",
        "Explanation: There is no x where 3x = (-1).\n",
        "\n",
        "</aside>"
      ],
      "metadata": {
        "id": "G1E12pPLqjxB"
      }
    },
    {
      "cell_type": "code",
      "execution_count": null,
      "metadata": {
        "id": "y8zw_9okllKr",
        "colab": {
          "base_uri": "https://localhost:8080/"
        },
        "outputId": "bb835c53-72c9-43d4-a6b4-40f79f800137"
      },
      "outputs": [
        {
          "output_type": "stream",
          "name": "stdout",
          "text": [
            "*********************************** Test Case 1 ***********************************\n",
            "True\n",
            "*********************************** Test Case 2 ***********************************\n",
            "False\n",
            "*********************************** Test Case 2 ***********************************\n",
            "False\n"
          ]
        }
      ],
      "source": [
        "def power_of_3(n):\n",
        "  if n <= 0:\n",
        "    return False\n",
        "  while n % 3 == 0:\n",
        "    n /= 3\n",
        "  return n == 1\n",
        "\n",
        "###Driver Code\n",
        "print(\"*********************************** Test Case 1 ***********************************\")\n",
        "n1 = 27\n",
        "res1 = power_of_3(n1)\n",
        "print(res1)\n",
        "print(\"*********************************** Test Case 2 ***********************************\")\n",
        "n2 = 0\n",
        "res2 = power_of_3(n2)\n",
        "print(res2)\n",
        "print(\"*********************************** Test Case 2 ***********************************\")\n",
        "n3 = -1\n",
        "res3 = power_of_3(n3)\n",
        "print(res3)"
      ]
    },
    {
      "cell_type": "markdown",
      "source": [
        "<aside>\n",
        "💡 **Question 2**\n",
        "\n",
        "You have a list `arr` of all integers in the range `[1, n]` sorted in a strictly increasing order. Apply the following algorithm on `arr`:\n",
        "\n",
        "- Starting from left to right, remove the first number and every other number afterward until you reach the end of the list.\n",
        "- Repeat the previous step again, but this time from right to left, remove the rightmost number and every other number from the remaining numbers.\n",
        "- Keep repeating the steps again, alternating left to right and right to left, until a single number remains.\n",
        "\n",
        "Given the integer `n`, return *the last number that remains in* `arr`.\n",
        "\n",
        "**Example 1:**\n",
        "\n",
        "```\n",
        "Input: n = 9\n",
        "Output: 6\n",
        "Explanation:\n",
        "arr = [1, 2,3, 4,5, 6,7, 8,9]\n",
        "arr = [2,4, 6,8]\n",
        "arr = [2, 6]\n",
        "arr = [6]\n",
        "\n",
        "```\n",
        "\n",
        "**Example 2:**\n",
        "\n",
        "```\n",
        "Input: n = 1\n",
        "Output: 1"
      ],
      "metadata": {
        "id": "CH76l7fytIVN"
      }
    },
    {
      "cell_type": "code",
      "source": [
        "def remove_ele(n): \n",
        "  termination = {1:1, 2:2, 3:2}\n",
        "  if n in termination:\n",
        "    return termination[n]\n",
        "  elif n%4 == 0 or n%4 == 1:\n",
        "    return remove_ele(n//4) * 4 - 2\n",
        "  else:\n",
        "    return remove_ele(n//4) * 4\n",
        "# Driver Code\n",
        "arr = [1, 2, 3, 4, 5, 6, 7, 8, 9]\n",
        "n = len(arr)\n",
        "res = remove_ele(n)\n",
        "print(res)"
      ],
      "metadata": {
        "colab": {
          "base_uri": "https://localhost:8080/"
        },
        "id": "eLJdnL2H1huP",
        "outputId": "8c212c4d-920d-4bf5-9b02-a58a48c8bdbb"
      },
      "execution_count": 23,
      "outputs": [
        {
          "output_type": "stream",
          "name": "stdout",
          "text": [
            "6\n"
          ]
        }
      ]
    },
    {
      "cell_type": "markdown",
      "source": [
        "<aside>\n",
        "💡 **Question 3**\n",
        "\n",
        "****Given a set represented as a string, write a recursive code to print all subsets of it. The subsets can be printed in any order.\n",
        "\n",
        "**Example 1:**\n",
        "\n",
        "Input :  set = “abc”\n",
        "\n",
        "Output : { “”, “a”, “b”, “c”, “ab”, “ac”, “bc”, “abc”}\n",
        "\n",
        "**Example 2:**\n",
        "\n",
        "Input : set = “abcd”\n",
        "\n",
        "Output : { “”, “a” ,”ab” ,”abc” ,”abcd”, “abd” ,”ac” ,”acd”, “ad” ,”b”, “bc” ,”bcd” ,”bd” ,”c” ,”cd” ,”d” }"
      ],
      "metadata": {
        "id": "2FlNnfMS37C3"
      }
    },
    {
      "cell_type": "code",
      "source": [
        "def print_subsets(s, subset=\"\"):\n",
        "    if len(s) == 0:\n",
        "        print(\"\\\"\" + subset + \"\\\"\", end=\" \")\n",
        "    else:\n",
        "        # Recursive call without including the current character\n",
        "        print_subsets(s[1:], subset)\n",
        "        \n",
        "        # Recursive call including the current character\n",
        "        print_subsets(s[1:], subset + s[0])\n",
        "\n",
        "# Driver Code\n",
        "set_str = \"abcd\"\n",
        "print(\"Output: {\", end=\" \")\n",
        "print_subsets(set_str)\n",
        "print(\"}\")"
      ],
      "metadata": {
        "colab": {
          "base_uri": "https://localhost:8080/"
        },
        "id": "JI4GKBV-3-iS",
        "outputId": "5f4331e0-b3e4-48ea-d10e-28cd31d8039d"
      },
      "execution_count": 25,
      "outputs": [
        {
          "output_type": "stream",
          "name": "stdout",
          "text": [
            "Output: { \"\" \"d\" \"c\" \"cd\" \"b\" \"bd\" \"bc\" \"bcd\" \"a\" \"ad\" \"ac\" \"acd\" \"ab\" \"abd\" \"abc\" \"abcd\" }\n"
          ]
        }
      ]
    },
    {
      "cell_type": "markdown",
      "source": [
        "<aside>\n",
        "💡 **Question 4**\n",
        "\n",
        "Given a string calculate length of the string using recursion.\n",
        "\n",
        "**Examples:**\n",
        "Input : str = \"abcd\"\n",
        "Output :4\n",
        "\n",
        "Input : str = \"GEEKSFORGEEKS\"\n",
        "Output :13\n",
        "\n",
        "</aside>"
      ],
      "metadata": {
        "id": "m2dgZyGN4Smw"
      }
    },
    {
      "cell_type": "code",
      "source": [
        "def calculate_length(s):\n",
        "    if s == \"\":\n",
        "        return 0\n",
        "    else:\n",
        "        return 1 + calculate_length(s[1:])\n",
        "\n",
        "# Driver Code\n",
        "string = \"abcd\"\n",
        "length = calculate_length(string)\n",
        "print(\"Length of the string:\", length)"
      ],
      "metadata": {
        "colab": {
          "base_uri": "https://localhost:8080/"
        },
        "id": "UUdBEJfZ4HH8",
        "outputId": "ae1a5679-dfd4-463b-91b5-8d78945ed225"
      },
      "execution_count": 26,
      "outputs": [
        {
          "output_type": "stream",
          "name": "stdout",
          "text": [
            "Length of the string: 4\n"
          ]
        }
      ]
    },
    {
      "cell_type": "markdown",
      "source": [
        "<aside>\n",
        "💡 **Question 5**\n",
        "\n",
        "We are given a string S, we need to find count of all contiguous substrings starting and ending with same character.\n",
        "\n",
        "**Examples :**\n",
        "Input  : S = \"abcab\"\n",
        "Output : 7\n",
        "There are 15 substrings of \"abcab\"\n",
        "a, ab, abc, abca, abcab, b, bc, bca\n",
        "bcab, c, ca, cab, a, ab, b\n",
        "Out of the above substrings, there\n",
        "are 7 substrings : a, abca, b, bcab,\n",
        "c, a and b.\n",
        "\n",
        "Input  : S = \"aba\"\n",
        "Output : 4\n",
        "The substrings are a, b, a and aba\n",
        "</aside>"
      ],
      "metadata": {
        "id": "5B6Ihsw-4p6d"
      }
    },
    {
      "cell_type": "code",
      "source": [
        "def count_contiguous_substrings(S):\n",
        "    count = 0\n",
        "    n = len(S)\n",
        "    \n",
        "    # Iterate over all possible substrings\n",
        "    for i in range(n):\n",
        "        for j in range(i, n):\n",
        "            # Check if the substring starts and ends with the same character\n",
        "            if S[i] == S[j]:\n",
        "                count += 1\n",
        "    \n",
        "    return count\n",
        "\n",
        "# Driver code\n",
        "S = \"abcab\"\n",
        "count = count_contiguous_substrings(S)\n",
        "print(\"Count of contiguous substrings:\", count)\n"
      ],
      "metadata": {
        "colab": {
          "base_uri": "https://localhost:8080/"
        },
        "id": "K5nJzhWb44M5",
        "outputId": "46cc0521-6bef-4426-9c99-5538bd96f83b"
      },
      "execution_count": 27,
      "outputs": [
        {
          "output_type": "stream",
          "name": "stdout",
          "text": [
            "Count of contiguous substrings: 7\n"
          ]
        }
      ]
    },
    {
      "cell_type": "markdown",
      "source": [
        "<aside>\n",
        "💡 **Question 6**\n",
        "\n",
        "The [tower of Hanoi](https://en.wikipedia.org/wiki/Tower_of_Hanoi) is a famous puzzle where we have three rods and **N** disks. The objective of the puzzle is to move the entire stack to another rod. You are given the number of discs **N**. Initially, these discs are in the rod 1. You need to print all the steps of discs movement so that all the discs reach the 3rd rod. Also, you need to find the total moves.**Note:** The discs are arranged such that the **top disc is numbered 1** and the **bottom-most disc is numbered N**. Also, all the discs have **different sizes** and a bigger disc **cannot** be put on the top of a smaller disc. Refer the provided link to get a better clarity about the puzzle.\n",
        "\n",
        "**Example 1:**\n",
        "Input:\n",
        "N = 2\n",
        "Output:\n",
        "move disk 1 from rod 1 to rod 2\n",
        "move disk 2 from rod 1 to rod 3\n",
        "move disk 1 from rod 2 to rod 3\n",
        "3\n",
        "Explanation:For N=2 , steps will be\n",
        "as follows in the example and total\n",
        "3 steps will be taken.\n",
        "\n",
        "</aside>"
      ],
      "metadata": {
        "id": "XdFZJpfZ4-TS"
      }
    },
    {
      "cell_type": "code",
      "source": [
        "def tower_of_hanoi(n, source, auxiliary, destination):\n",
        "    if n == 1:\n",
        "        print(\"Move disk 1 from rod\", source, \"to rod\", destination)\n",
        "        return 1\n",
        "    else:\n",
        "        moves = tower_of_hanoi(n-1, source, destination, auxiliary)\n",
        "        print(\"Move disk\", n, \"from rod\", source, \"to rod\", destination)\n",
        "        moves += 1\n",
        "        moves += tower_of_hanoi(n-1, auxiliary, source, destination)\n",
        "        return moves\n",
        "\n",
        "# Driver code\n",
        "N = 2\n",
        "total_moves = tower_of_hanoi(N, 1, 2, 3)\n",
        "print(\"Total moves:\", total_moves)"
      ],
      "metadata": {
        "colab": {
          "base_uri": "https://localhost:8080/"
        },
        "id": "0BTMiF6c451E",
        "outputId": "22b8319b-2d5f-49f1-f09e-3e4a9153b91d"
      },
      "execution_count": 28,
      "outputs": [
        {
          "output_type": "stream",
          "name": "stdout",
          "text": [
            "Move disk 1 from rod 1 to rod 2\n",
            "Move disk 2 from rod 1 to rod 3\n",
            "Move disk 1 from rod 2 to rod 3\n",
            "Total moves: 3\n"
          ]
        }
      ]
    },
    {
      "cell_type": "markdown",
      "source": [
        "<aside>\n",
        "💡 **Question 7**\n",
        "\n",
        "Given a string **str**, the task is to print all the permutations of **str**. A **permutation** is an arrangement of all or part of a set of objects, with regard to the order of the arrangement. For instance, the words ‘bat’ and ‘tab’ represents two distinct permutation (or arrangements) of a similar three letter word.\n",
        "\n",
        "**Examples:**\n",
        "\n",
        "> Input: str = “cd”\n",
        "> \n",
        "> \n",
        "> **Output:** cd dc\n",
        "> \n",
        "> **Input:** str = “abb”\n",
        "> \n",
        "> **Output:** abb abb bab bba bab bba\n",
        "> \n",
        "</aside>"
      ],
      "metadata": {
        "id": "u93y5uBa5MgD"
      }
    },
    {
      "cell_type": "code",
      "source": [
        "def permutations(str):\n",
        "    # Base case: If the string has only one character, return it as a single permutation\n",
        "    if len(str) == 1:\n",
        "        return [str]\n",
        "\n",
        "    # Recursive case: Generate permutations by fixing each character at the beginning and permuting the rest\n",
        "    result = []\n",
        "    for i in range(len(str)):\n",
        "        first_char = str[i]\n",
        "        rest = str[:i] + str[i+1:]\n",
        "        # Recursively generate permutations for the rest of the string\n",
        "        rest_permutations = permutations(rest)\n",
        "        # Append the first character to each permutation of the rest of the string\n",
        "        for perm in rest_permutations:\n",
        "            result.append(first_char + perm)\n",
        "\n",
        "    return result\n",
        "\n",
        "# Driver code\n",
        "str = \"abb\"\n",
        "perms = permutations(str)\n",
        "for perm in perms:\n",
        "    print(perm)"
      ],
      "metadata": {
        "colab": {
          "base_uri": "https://localhost:8080/"
        },
        "id": "z5P4NsvN5Huy",
        "outputId": "8fcc233c-e718-4e9d-cc89-63bab983fd94"
      },
      "execution_count": 29,
      "outputs": [
        {
          "output_type": "stream",
          "name": "stdout",
          "text": [
            "abb\n",
            "abb\n",
            "bab\n",
            "bba\n",
            "bab\n",
            "bba\n"
          ]
        }
      ]
    },
    {
      "cell_type": "markdown",
      "source": [
        "<aside>\n",
        "💡 **Question 8**\n",
        "\n",
        "Given a string, count total number of consonants in it. A consonant is an English alphabet character that is not vowel (a, e, i, o and u). Examples of constants are b, c, d, f, and g.\n",
        "\n",
        "**Examples**\n",
        "\n",
        "Input : abc de\n",
        "Output : 3\n",
        "There are three consonants b, c and d.\n",
        "\n",
        "Input : geeksforgeeks portal\n",
        "Output : 12\n"
      ],
      "metadata": {
        "id": "oEt0rq1V5Wo-"
      }
    },
    {
      "cell_type": "code",
      "source": [
        "def count_consonants(string):\n",
        "    vowels = ['a', 'e', 'i', 'o', 'u']\n",
        "    count = 0\n",
        "\n",
        "    for char in string.lower():\n",
        "        if char.isalpha() and char not in vowels:\n",
        "            count += 1\n",
        "\n",
        "    return count\n",
        "\n",
        "# Driver code\n",
        "string = \"abc de\"\n",
        "consonant_count = count_consonants(string)\n",
        "print(consonant_count)"
      ],
      "metadata": {
        "colab": {
          "base_uri": "https://localhost:8080/"
        },
        "id": "HCCOZtTf5QuE",
        "outputId": "579c3f6e-2670-43eb-bcff-fb78ee702792"
      },
      "execution_count": 30,
      "outputs": [
        {
          "output_type": "stream",
          "name": "stdout",
          "text": [
            "3\n"
          ]
        }
      ]
    },
    {
      "cell_type": "code",
      "source": [],
      "metadata": {
        "id": "TNqmWuGO5irI"
      },
      "execution_count": null,
      "outputs": []
    }
  ]
}