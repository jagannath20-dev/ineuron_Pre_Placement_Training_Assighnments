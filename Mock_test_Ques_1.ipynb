{
  "nbformat": 4,
  "nbformat_minor": 0,
  "metadata": {
    "colab": {
      "provenance": []
    },
    "kernelspec": {
      "name": "python3",
      "display_name": "Python 3"
    },
    "language_info": {
      "name": "python"
    }
  },
  "cells": [
    {
      "cell_type": "markdown",
      "source": [
        "Move Zeroes\n",
        "Given an integer array nums, move all 0's to the end of it while maintaining the relative order of the non-zero elements.\n",
        "\n",
        "Note that you must do this in-place without making a copy of the array.\n",
        "\n",
        "Example 1:\n",
        "Input: nums = [0,1,0,3,12]\n",
        "Output: [1,3,12,0,0]\n",
        "\n",
        "Example 2:\n",
        "Input: nums = [0]\n",
        "Output: [0]\n",
        "\n",
        "Constraints:\n",
        "a. 1 <= nums.length <= 10^4\n",
        "b. -2^31 <= nums[i] <= 2^31 - 1\n"
      ],
      "metadata": {
        "id": "HUbb_vryLmeZ"
      }
    },
    {
      "cell_type": "code",
      "execution_count": 3,
      "metadata": {
        "colab": {
          "base_uri": "https://localhost:8080/"
        },
        "id": "YRyRb4iPLld_",
        "outputId": "b637420c-d75b-4f74-b90d-a6f93163b0d1"
      },
      "outputs": [
        {
          "output_type": "stream",
          "name": "stdout",
          "text": [
            "[1, 3, 12, 0, 0]\n"
          ]
        }
      ],
      "source": [
        "def move_zeros(arr):\n",
        "  n = len(arr)\n",
        "  zeros_count = 0\n",
        "  for i in range(0,len(arr)):\n",
        "    if arr[i] == 0:\n",
        "      zeros_count += 1\n",
        "    else:\n",
        "      arr[i - zeros_count] = arr[i]\n",
        "  for i in range(n-zeros_count,n):\n",
        "    arr[i] = 0\n",
        "  return arr\n",
        "###Driver Code\n",
        "nums = [0,1,0,3,12]\n",
        "res = move_zeros(nums)\n",
        "print(res)"
      ]
    },
    {
      "cell_type": "code",
      "source": [],
      "metadata": {
        "id": "LkcKvhOoMl6t"
      },
      "execution_count": null,
      "outputs": []
    }
  ]
}