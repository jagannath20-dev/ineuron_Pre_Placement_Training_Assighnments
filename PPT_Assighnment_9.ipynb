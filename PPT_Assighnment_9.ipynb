{
  "nbformat": 4,
  "nbformat_minor": 0,
  "metadata": {
    "colab": {
      "provenance": []
    },
    "kernelspec": {
      "name": "python3",
      "display_name": "Python 3"
    },
    "language_info": {
      "name": "python"
    }
  },
  "cells": [
    {
      "cell_type": "markdown",
      "source": [
        "<aside>\n",
        "💡 **Question 1**\n",
        "\n",
        "Given an integer `n`, return *`true` if it is a power of two. Otherwise, return `false`*.\n",
        "\n",
        "An integer `n` is a power of two, if there exists an integer `x` such that `n == 2x`.\n",
        "\n",
        "**Example 1:**\n",
        "Input: n = 1 \n",
        "\n",
        "Output: true\n",
        "\n",
        "**Example 2:**\n",
        "Input: n = 16 \n",
        "\n",
        "Output: true\n",
        "\n",
        "**Example 3:**\n",
        "Input: n = 3 \n",
        "\n",
        "Output: false\n",
        "\n",
        "</aside>"
      ],
      "metadata": {
        "id": "FvwZo0fACpWa"
      }
    },
    {
      "cell_type": "code",
      "execution_count": null,
      "metadata": {
        "colab": {
          "base_uri": "https://localhost:8080/"
        },
        "id": "6bjbBX5eCdSj",
        "outputId": "805ade0e-e887-43e2-97ea-c931472e7c35"
      },
      "outputs": [
        {
          "output_type": "stream",
          "name": "stdout",
          "text": [
            "True\n"
          ]
        }
      ],
      "source": [
        "def power_of_two(n):\n",
        "  if n == 1:\n",
        "    return True\n",
        "  if n < 1 or n % 2!= 0:\n",
        "    return False\n",
        "  while n % 2 == 0:\n",
        "    n //= 2\n",
        "  return n == 1\n",
        "###Driver Code\n",
        "n = 1\n",
        "res = power_of_two(n)\n",
        "print(res)"
      ]
    },
    {
      "cell_type": "markdown",
      "source": [
        "<aside>\n",
        "💡 **Question 2**\n",
        "\n",
        "Given a number n, find the sum of the first natural numbers.\n",
        "\n",
        "**Example 1:**\n",
        "\n",
        "Input: n = 3 \n",
        "\n",
        "Output: 6\n",
        "\n",
        "**Example 2:**\n",
        "\n",
        "Input  : 5 \n",
        "\n",
        "Output : 15\n",
        "\n",
        "</aside>"
      ],
      "metadata": {
        "id": "myAp8x8fPOer"
      }
    },
    {
      "cell_type": "code",
      "source": [
        "def natural_numbers(n):\n",
        "  sum = 0\n",
        "  r = int(n*(n+1)/2)\n",
        "  sum = r\n",
        "  return sum\n",
        "###Driver Code\n",
        "print(\"*****************************************Test Case 1 ********************************************************************************\")\n",
        "n = 3\n",
        "res = natural_numbers(n)\n",
        "print(res)\n",
        "print(\"*****************************************Test Case 1 ********************************************************************************\")\n",
        "n1 = 5\n",
        "res1 = natural_numbers(n1)\n",
        "print(res1)"
      ],
      "metadata": {
        "id": "0Wdaf8tCGdBk",
        "colab": {
          "base_uri": "https://localhost:8080/"
        },
        "outputId": "8fe82105-ed81-4ccc-f675-9eeb2e57f86f"
      },
      "execution_count": 10,
      "outputs": [
        {
          "output_type": "stream",
          "name": "stdout",
          "text": [
            "*****************************************Test Case 1 ********************************************************************************\n",
            "6\n",
            "*****************************************Test Case 1 ********************************************************************************\n",
            "15\n"
          ]
        }
      ]
    },
    {
      "cell_type": "markdown",
      "source": [
        "💡 **Question 3**\n",
        "\n",
        "****Given a positive integer, N. Find the factorial of N. \n",
        "\n",
        "**Example 1:**\n",
        "\n",
        "Input: N = 5 \n",
        "\n",
        "Output: 120\n",
        "\n",
        "**Example 2:**\n",
        "\n",
        "Input: N = 4\n",
        "\n",
        "Output: 24"
      ],
      "metadata": {
        "id": "8RmD3t9BmFru"
      }
    },
    {
      "cell_type": "code",
      "source": [
        "def factorial1(N):\n",
        "  if N == 0:\n",
        "    return 1\n",
        "  if N == 1:\n",
        "    return 1\n",
        "  return N * factorial1(N-1)\n",
        "###Driver Code\n",
        "print(\"*****************************************Test Case 1 ********************************************************************************\")\n",
        "N = 5\n",
        "res = factorial1(N)\n",
        "print(res)\n",
        "print(\"*****************************************Test Case 2 ********************************************************************************\")\n",
        "N1 = 10\n",
        "res1 = factorial1(N1)\n",
        "print(res1)\n",
        "print(\"*****************************************Test Case 3 ********************************************************************************\")\n",
        "N2 = 12\n",
        "res2 = factorial1(N2)\n",
        "print(res2)"
      ],
      "metadata": {
        "colab": {
          "base_uri": "https://localhost:8080/"
        },
        "id": "-fwbIOWdP9fh",
        "outputId": "c81bef59-d82f-4184-a709-11a5def8d06b"
      },
      "execution_count": 12,
      "outputs": [
        {
          "output_type": "stream",
          "name": "stdout",
          "text": [
            "*****************************************Test Case 1 ********************************************************************************\n",
            "120\n",
            "*****************************************Test Case 2 ********************************************************************************\n",
            "3628800\n",
            "*****************************************Test Case 3 ********************************************************************************\n",
            "479001600\n"
          ]
        }
      ]
    },
    {
      "cell_type": "markdown",
      "source": [
        "💡 **Question 4**\n",
        "\n",
        "Given a number N and a power P, the task is to find the exponent of this number raised to the given power, i.e. N^P.\n",
        "\n",
        "**Example 1 :** \n",
        "\n",
        "Input: N = 5, P = 2\n",
        "\n",
        "Output: 25\n",
        "\n",
        "**Example 2 :**\n",
        "Input: N = 2, P = 5\n",
        "\n",
        "Output: 32"
      ],
      "metadata": {
        "id": "mxBIRIwHmq8R"
      }
    },
    {
      "cell_type": "code",
      "source": [
        "def exponent(n,p):\n",
        "  if p == 0:\n",
        "    return 1\n",
        "  if n == 0 :\n",
        "    return 1\n",
        "  return n ** p\n",
        "###Driver Code\n",
        "\n",
        "N = 5\n",
        "P = 2\n",
        "res = exponent(N,P)\n",
        "print(res)"
      ],
      "metadata": {
        "colab": {
          "base_uri": "https://localhost:8080/"
        },
        "id": "6XsCqVp3mVpp",
        "outputId": "441e511f-ef41-4b36-d974-b9dbab1e6698"
      },
      "execution_count": 14,
      "outputs": [
        {
          "output_type": "stream",
          "name": "stdout",
          "text": [
            "25\n"
          ]
        }
      ]
    },
    {
      "cell_type": "markdown",
      "source": [
        "<aside>\n",
        "💡 **Question 5**\n",
        "\n",
        "Given an array of integers **arr**, the task is to find maximum element of that array using recursion.\n",
        "\n",
        "**Example 1:**\n",
        "\n",
        "Input: arr = {1, 4, 3, -5, -4, 8, 6};\n",
        "Output: 8\n",
        "\n",
        "**Example 2:**\n",
        "\n",
        "Input: arr = {1, 4, 45, 6, 10, -8};\n",
        "Output: 45"
      ],
      "metadata": {
        "id": "ha9Vdr8ro2h_"
      }
    },
    {
      "cell_type": "code",
      "source": [
        "def find_max_recursive(arr, n):\n",
        "    if n == 1:\n",
        "        return arr[0]\n",
        "    else:\n",
        "        return max(arr[n-1], find_max_recursive(arr, n-1))\n",
        "###Driver Code\n",
        "print(\"*****************************************Test Case 1 ********************************************************************************\")\n",
        "arr = [1, 4, 3, -5, -4, 8, 6]\n",
        "n = len(arr)\n",
        "max_element = find_max_recursive(arr, n)\n",
        "print(max_element)\n",
        "print(\"*****************************************Test Case 2 ********************************************************************************\")\n",
        "arr = [1, 4, 45, 6, 10, -8]\n",
        "n = len(arr)\n",
        "max_element = find_max_recursive(arr, n)\n",
        "print(max_element)\n"
      ],
      "metadata": {
        "colab": {
          "base_uri": "https://localhost:8080/"
        },
        "id": "V-0fGG72n5Rg",
        "outputId": "73553255-aee5-4c66-ec2d-66d70f6774a7"
      },
      "execution_count": 16,
      "outputs": [
        {
          "output_type": "stream",
          "name": "stdout",
          "text": [
            "*****************************************Test Case 1 ********************************************************************************\n",
            "8\n",
            "*****************************************Test Case 2 ********************************************************************************\n",
            "45\n"
          ]
        }
      ]
    },
    {
      "cell_type": "markdown",
      "source": [
        "<aside>\n",
        "💡 **Question 6**\n",
        "\n",
        "Given first term (a), common difference (d) and a integer N of the Arithmetic Progression series, the task is to find Nth term of the series.\n",
        "\n",
        "**Example 1:**\n",
        "\n",
        "Input : a = 2 d = 1 N = 5\n",
        "Output : 6\n",
        "The 5th term of the series is : 6\n",
        "\n",
        "**Example 2:**\n",
        "\n",
        "Input : a = 5 d = 2 N = 10\n",
        "Output : 23\n",
        "The 10th term of the series is : 23\n",
        "\n",
        "</aside>"
      ],
      "metadata": {
        "id": "ZLZtl1v3pgFi"
      }
    },
    {
      "cell_type": "code",
      "source": [
        "def arithmetic_progression(a,d,n):\n",
        "  Tn = a+(n-1)*d\n",
        "  return Tn\n",
        "print(\"*****************************************Test Case 1 ********************************************************************************\")\n",
        "A = 2\n",
        "D = 1\n",
        "N = 5\n",
        "res = arithmetic_progression(A,D,N)\n",
        "print(res)\n",
        "print(\"*****************************************Test Case 2 ********************************************************************************\")\n",
        "A1 = 5\n",
        "D1 = 2\n",
        "N1 = 10\n",
        "res1 = arithmetic_progression(A1,D1,N1)\n",
        "print(res1)"
      ],
      "metadata": {
        "colab": {
          "base_uri": "https://localhost:8080/"
        },
        "id": "VUF8T_Upp4qX",
        "outputId": "353047e5-a346-4713-ce13-ce14b47a91c8"
      },
      "execution_count": 20,
      "outputs": [
        {
          "output_type": "stream",
          "name": "stdout",
          "text": [
            "*****************************************Test Case 1 ********************************************************************************\n",
            "6\n",
            "*****************************************Test Case 2 ********************************************************************************\n",
            "23\n"
          ]
        }
      ]
    },
    {
      "cell_type": "markdown",
      "source": [
        "<aside>\n",
        "💡 **Question 7**\n",
        "\n",
        "Given a string S, the task is to write a program to print all permutations of a given string.\n",
        "\n",
        "**Example 1:**\n",
        "\n",
        "***Input:***\n",
        "\n",
        "*S = “ABC”*\n",
        "\n",
        "***Output:***\n",
        "\n",
        "*“ABC”, “ACB”, “BAC”, “BCA”, “CBA”, “CAB”*\n",
        "\n",
        "**Example 2:**\n",
        "\n",
        "***Input:***\n",
        "\n",
        "*S = “XY”*\n",
        "\n",
        "***Output:***\n",
        "\n",
        "*“XY”, “YX”*\n",
        "\n",
        "</aside>"
      ],
      "metadata": {
        "id": "airUEAFWyMHL"
      }
    },
    {
      "cell_type": "code",
      "source": [
        "def permutations(s):\n",
        "    if len(s) == 1:\n",
        "        return [s]\n",
        "\n",
        "    result = []\n",
        "    for i in range(len(s)):\n",
        "        # Extract the current character\n",
        "        current = s[i]\n",
        "\n",
        "        # Generate all permutations of the remaining string\n",
        "        remaining = s[:i] + s[i+1:]\n",
        "        perms = permutations(remaining)\n",
        "\n",
        "        # Append the current character to each permutation\n",
        "        for perm in perms:\n",
        "            result.append(current + perm)\n",
        "\n",
        "    return result\n",
        "\n",
        "###Driver Code\n",
        "print(\"************************************************  Test Case 1 ****************************************************************\")\n",
        "s = \"ABC\"\n",
        "permutations_list = permutations(s)\n",
        "for perm in permutations_list:\n",
        "    print(perm)\n",
        "print(\"************************************************  Test Case 2 ****************************************************************\")\n",
        "s = \"XY\"\n",
        "permutations_list = permutations(s)\n",
        "for perm in permutations_list:\n",
        "    print(perm)\n"
      ],
      "metadata": {
        "colab": {
          "base_uri": "https://localhost:8080/"
        },
        "id": "SVO7wEYExhRC",
        "outputId": "2081acee-ed24-4b24-de0c-5f6b73a007af"
      },
      "execution_count": 22,
      "outputs": [
        {
          "output_type": "stream",
          "name": "stdout",
          "text": [
            "************************************************  Test Case 1 ****************************************************************\n",
            "ABC\n",
            "ACB\n",
            "BAC\n",
            "BCA\n",
            "CAB\n",
            "CBA\n",
            "************************************************  Test Case 2 ****************************************************************\n",
            "XY\n",
            "YX\n"
          ]
        }
      ]
    },
    {
      "cell_type": "markdown",
      "source": [
        "<aside>\n",
        "💡 **Question 8**\n",
        "\n",
        "Given an array, find a product of all array elements.\n",
        "\n",
        "**Example 1:**\n",
        "\n",
        "Input  : arr[] = {1, 2, 3, 4, 5}\n",
        "Output : 120\n",
        "**Example 2:**\n",
        "\n",
        "Input  : arr[] = {1, 6, 3}\n",
        "Output : 18"
      ],
      "metadata": {
        "id": "ty4hwq33yyAS"
      }
    },
    {
      "cell_type": "code",
      "source": [
        "def arr_product(arr):\n",
        "  pro = 1\n",
        "  for i in range(0,len(arr)):\n",
        "    pro = pro * arr[i]\n",
        "    i += 1\n",
        "  return pro\n",
        "###Driver Code\n",
        "print(\"************************************************  Test Case 1 ****************************************************************\")\n",
        "arr = [1,2,3,4,5]\n",
        "res = arr_product(arr)\n",
        "print(res)\n",
        "print(\"************************************************  Test Case 2 ****************************************************************\")\n",
        "arr1 = [1,6,3]\n",
        "res1 = arr_product(arr1)\n",
        "print(res1)"
      ],
      "metadata": {
        "colab": {
          "base_uri": "https://localhost:8080/"
        },
        "id": "o7vK4Q67yg4R",
        "outputId": "dd99cee6-9951-4bc6-d7af-b5a27c7ddeb6"
      },
      "execution_count": 24,
      "outputs": [
        {
          "output_type": "stream",
          "name": "stdout",
          "text": [
            "************************************************  Test Case 1 ****************************************************************\n",
            "120\n",
            "************************************************  Test Case 2 ****************************************************************\n",
            "18\n"
          ]
        }
      ]
    },
    {
      "cell_type": "code",
      "source": [],
      "metadata": {
        "id": "5onnffhJzyP5"
      },
      "execution_count": null,
      "outputs": []
    }
  ]
}