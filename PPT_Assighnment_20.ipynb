{
  "nbformat": 4,
  "nbformat_minor": 0,
  "metadata": {
    "colab": {
      "provenance": []
    },
    "kernelspec": {
      "name": "python3",
      "display_name": "Python 3"
    },
    "language_info": {
      "name": "python"
    }
  },
  "cells": [
    {
      "cell_type": "markdown",
      "source": [
        "<aside>\n",
        "💡 Question-1\n",
        "\n",
        "Given a binary tree, your task is to find subtree with maximum sum in tree.\n",
        "\n",
        "Examples:\n",
        "\n",
        "Input1 :\n",
        "\n",
        "       1\n",
        "\n",
        "     /   \\\n",
        "\n",
        "   2      3\n",
        "\n",
        "  / \\    / \\\n",
        "\n",
        "4   5  6   7\n",
        "\n",
        "Output1 : 28\n",
        "\n",
        "As all the tree elements are positive, the largest subtree sum is equal to sum of all tree elements.\n",
        "\n",
        "Input2 :\n",
        "\n",
        "       1\n",
        "\n",
        "     /    \\\n",
        "\n",
        "  -2      3\n",
        "\n",
        "  / \\    /  \\\n",
        "\n",
        "4   5  -6   2\n",
        "\n",
        "Output2 : 7\n",
        "\n",
        "Subtree with largest sum is :\n",
        "\n",
        " -2\n",
        "\n",
        " / \\\n",
        "\n",
        "4   5\n",
        "\n",
        "Also, entire tree sum is also 7.\n",
        "\n",
        "</aside>"
      ],
      "metadata": {
        "id": "ay7qB2suggRH"
      }
    },
    {
      "cell_type": "code",
      "execution_count": 1,
      "metadata": {
        "colab": {
          "base_uri": "https://localhost:8080/"
        },
        "id": "_apeHTQbe-Zw",
        "outputId": "b9aeb99e-8877-4a8c-d79a-0b0b2e02dca8"
      },
      "outputs": [
        {
          "output_type": "stream",
          "name": "stdout",
          "text": [
            "Maximum subtree sum: 28\n"
          ]
        }
      ],
      "source": [
        "class Node:\n",
        "    def __init__(self, value):\n",
        "        self.value = value\n",
        "        self.left = None\n",
        "        self.right = None\n",
        "\n",
        "def findMaxSubtreeSum(node):\n",
        "    if node is None:\n",
        "        return 0\n",
        "\n",
        "    leftSum = findMaxSubtreeSum(node.left)\n",
        "    rightSum = findMaxSubtreeSum(node.right)\n",
        "\n",
        "    currentSum = node.value + leftSum + rightSum\n",
        "\n",
        "    if currentSum > findMaxSubtreeSum.maxSum:\n",
        "        findMaxSubtreeSum.maxSum = currentSum\n",
        "\n",
        "    return currentSum\n",
        "\n",
        "def findMaximumSubtreeSum(root):\n",
        "    findMaxSubtreeSum.maxSum = float('-inf')\n",
        "    findMaxSubtreeSum(root)\n",
        "    return findMaxSubtreeSum.maxSum\n",
        "\n",
        "### Driver Code\n",
        "root = Node(1)\n",
        "root.left = Node(2)\n",
        "root.right = Node(3)\n",
        "root.left.left = Node(4)\n",
        "root.left.right = Node(5)\n",
        "root.right.left = Node(6)\n",
        "root.right.right = Node(7)\n",
        "\n",
        "maxSubtreeSum = findMaximumSubtreeSum(root)\n",
        "print(\"Maximum subtree sum:\", maxSubtreeSum)"
      ]
    },
    {
      "cell_type": "markdown",
      "source": [
        "<aside>\n",
        "💡 Question-2\n",
        "\n",
        "Construct the BST (Binary Search Tree) from its given level order traversal.\n",
        "\n",
        "Example:\n",
        "\n",
        "Input: arr[] = {7, 4, 12, 3, 6, 8, 1, 5, 10}\n",
        "\n",
        "Output: BST:\n",
        "\n",
        "            7\n",
        "\n",
        "         /    \\\n",
        "\n",
        "       4     12\n",
        "\n",
        "     /  \\     /\n",
        "\n",
        "    3   6  8\n",
        "\n",
        "   /    /     \\\n",
        "\n",
        " 1    5      10\n",
        "\n",
        "</aside>"
      ],
      "metadata": {
        "id": "RSbSF-dnhq6P"
      }
    },
    {
      "cell_type": "code",
      "source": [
        "class Node:\n",
        "    def __init__(self, value):\n",
        "        self.value = value\n",
        "        self.left = None\n",
        "        self.right = None\n",
        "\n",
        "def constructBST(levelOrder):\n",
        "    if not levelOrder:\n",
        "        return None\n",
        "\n",
        "    root = Node(levelOrder[0])\n",
        "    queue = [(root, float('-inf'), float('inf'))]\n",
        "    i = 1\n",
        "\n",
        "    while i < len(levelOrder):\n",
        "        parent, min_val, max_val = queue.pop(0)\n",
        "\n",
        "        if levelOrder[i] < parent.value and min_val < levelOrder[i] < parent.value:\n",
        "            leftChild = Node(levelOrder[i])\n",
        "            parent.left = leftChild\n",
        "            queue.append((leftChild, min_val, parent.value))\n",
        "            i += 1\n",
        "\n",
        "        if i < len(levelOrder) and levelOrder[i] > parent.value and parent.value < levelOrder[i] < max_val:\n",
        "            rightChild = Node(levelOrder[i])\n",
        "            parent.right = rightChild\n",
        "            queue.append((rightChild, parent.value, max_val))\n",
        "            i += 1\n",
        "\n",
        "    return root\n",
        "\n",
        "# Example usage:\n",
        "levelOrder = [7, 4, 12, 3, 6, 8, 1, 5, 10]\n",
        "bstRoot = constructBST(levelOrder)\n",
        "\n",
        "# Function to perform an inorder traversal of the BST\n",
        "def inorderTraversal(node):\n",
        "    if node is None:\n",
        "        return\n",
        "\n",
        "    inorderTraversal(node.left)\n",
        "    print(node.value, end=' ')\n",
        "    inorderTraversal(node.right)\n",
        "\n",
        "# Print the inorder traversal of the constructed BST\n",
        "print(\"BST:\")\n",
        "inorderTraversal(bstRoot)\n"
      ],
      "metadata": {
        "colab": {
          "base_uri": "https://localhost:8080/"
        },
        "id": "U_JwcsVhhydg",
        "outputId": "d6a64d8a-e3b5-4dc0-e003-83c35d7b86e1"
      },
      "execution_count": 3,
      "outputs": [
        {
          "output_type": "stream",
          "name": "stdout",
          "text": [
            "BST:\n",
            "1 3 4 5 6 7 8 10 12 "
          ]
        }
      ]
    },
    {
      "cell_type": "markdown",
      "source": [
        "<aside>\n",
        "💡 Question-3\n",
        "\n",
        "Given an array of size n. The problem is to check whether the given array can represent the level order traversal of a Binary Search Tree or not.\n",
        "\n",
        "Examples:\n",
        "\n",
        "Input1 : arr[] = {7, 4, 12, 3, 6, 8, 1, 5, 10}\n",
        "\n",
        "Output1 : Yes\n",
        "\n",
        "For the given arr[], the Binary Search Tree is:\n",
        "\n",
        "            7\n",
        "\n",
        "         /    \\\n",
        "\n",
        "       4     12\n",
        "\n",
        "     /  \\     /\n",
        "\n",
        "    3   6  8\n",
        "\n",
        "   /    /     \\\n",
        "\n",
        " 1    5      10\n",
        "\n",
        "Input2 : arr[] = {11, 6, 13, 5, 12, 10}\n",
        "\n",
        "Output2 : No\n",
        "\n",
        "The given arr[] does not represent the level order traversal of a BST.\n",
        "\n",
        "</aside>"
      ],
      "metadata": {
        "id": "BiLP-RWQiOKw"
      }
    },
    {
      "cell_type": "code",
      "source": [
        "def isLevelOrderBST(arr):\n",
        "    if len(arr) == 0:\n",
        "        return \"No\"\n",
        "\n",
        "    n = len(arr)\n",
        "    def isValidBST(arr, start, end):\n",
        "        if start > end:\n",
        "            return True\n",
        "        i = start + 1\n",
        "        while i <= end and arr[i] < arr[start]:\n",
        "            i += 1\n",
        "        for j in range(i, end + 1):\n",
        "            if arr[j] <= arr[start]:\n",
        "                return False\n",
        "        leftBST = isValidBST(arr, start + 1, i - 1)\n",
        "        rightBST = isValidBST(arr, i, end)\n",
        "\n",
        "        return leftBST and rightBST\n",
        "\n",
        "    return \"Yes\" if isValidBST(arr, 0, n - 1) else \"No\"\n",
        "\n",
        "arr2 = [11, 6, 13, 5, 12, 10]\n",
        "result = isLevelOrderBST(arr2)\n",
        "print(\"Output:\", result)"
      ],
      "metadata": {
        "colab": {
          "base_uri": "https://localhost:8080/"
        },
        "id": "Y6Ngoc67ktq_",
        "outputId": "ba726dc9-8ca2-4058-bbe5-2d184f2a159e"
      },
      "execution_count": 19,
      "outputs": [
        {
          "output_type": "stream",
          "name": "stdout",
          "text": [
            "Output: No\n"
          ]
        }
      ]
    },
    {
      "cell_type": "code",
      "source": [],
      "metadata": {
        "id": "koKRQX1Rk4EX"
      },
      "execution_count": null,
      "outputs": []
    }
  ]
}