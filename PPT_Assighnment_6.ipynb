{
  "nbformat": 4,
  "nbformat_minor": 0,
  "metadata": {
    "colab": {
      "provenance": []
    },
    "kernelspec": {
      "name": "python3",
      "display_name": "Python 3"
    },
    "language_info": {
      "name": "python"
    }
  },
  "cells": [
    {
      "cell_type": "markdown",
      "source": [
        "<aside>\n",
        "💡 **Question 1**\n",
        "\n",
        "A permutation perm of n + 1 integers of all the integers in the range [0, n] can be represented as a string s of length n where:\n",
        "\n",
        "- s[i] == 'I' if perm[i] < perm[i + 1], and\n",
        "- s[i] == 'D' if perm[i] > perm[i + 1].\n",
        "\n",
        "Given a string s, reconstruct the permutation perm and return it. If there are multiple valid permutations perm, return **any of them**.\n",
        "\n",
        "**Example 1:**\n",
        "\n",
        "**Input:** s = \"IDID\"\n",
        "\n",
        "**Output:**\n",
        "\n",
        "[0,4,1,3,2]\n",
        "\n",
        "</aside>"
      ],
      "metadata": {
        "id": "exswEAFdvL9W"
      }
    },
    {
      "cell_type": "code",
      "source": [
        "def Permutation(s):\n",
        "    n = len(s)\n",
        "    perm = []\n",
        "    low, high = 0, n\n",
        "\n",
        "    for ch in s:\n",
        "        if ch == 'I':\n",
        "            perm.append(low)\n",
        "            low += 1\n",
        "        elif ch == 'D':\n",
        "            perm.append(high)\n",
        "            high -= 1\n",
        "\n",
        "    perm.append(low)\n",
        "    return perm\n",
        "###Driver Code\n",
        "s = \"IDID\"\n",
        "res = Permutation(s)\n",
        "print(res)"
      ],
      "metadata": {
        "colab": {
          "base_uri": "https://localhost:8080/"
        },
        "id": "kNlTsP1-2Dvl",
        "outputId": "47b9f23a-04fe-4dbb-b96d-160548d73120"
      },
      "execution_count": null,
      "outputs": [
        {
          "output_type": "stream",
          "name": "stdout",
          "text": [
            "[0, 4, 1, 3, 2]\n"
          ]
        }
      ]
    },
    {
      "cell_type": "markdown",
      "source": [
        "<aside>\n",
        "💡 **Question 2**\n",
        "\n",
        "You are given an m x n integer matrix matrix with the following two properties:\n",
        "\n",
        "- Each row is sorted in non-decreasing order.\n",
        "- The first integer of each row is greater than the last integer of the previous row.\n",
        "\n",
        "Given an integer target, return true *if* target *is in* matrix *or* false *otherwise*.\n",
        "\n",
        "You must write a solution in O(log(m * n)) time complexity.\n",
        "\n",
        "**Example 1:**\n",
        "**Input:** matrix = [[1,3,5,7],[10,11,16,20],[23,30,34,60]], target = 3\n",
        "\n",
        "**Output:** true"
      ],
      "metadata": {
        "id": "uEZAtrNGAzZG"
      }
    },
    {
      "cell_type": "code",
      "source": [
        "def find_ele(matrix,target):\n",
        "  if not matrix or not matrix[0]:\n",
        "    return False\n",
        "  m,n = len(matrix),len(matrix[0])\n",
        "  left,right = 0,m*n-1\n",
        "\n",
        "  while left <= right:\n",
        "    mid = (left+right)//2\n",
        "    num = matrix[mid//n][mid%n]\n",
        "    if num == target:\n",
        "      return True\n",
        "    elif num < target:\n",
        "      left = mid + 1\n",
        "    else:\n",
        "      right = mid - 1\n",
        "\n",
        "  return False\n",
        "matrix = [[1,3,5,7],[10,11,16,20],[23,30,34,60]]\n",
        "target = 3\n",
        "result = find_ele(matrix, target)\n",
        "print(result)"
      ],
      "metadata": {
        "id": "JC626FCO2ZlN",
        "colab": {
          "base_uri": "https://localhost:8080/"
        },
        "outputId": "149f0cf9-aa37-462d-f128-6bcffa4e3955"
      },
      "execution_count": 3,
      "outputs": [
        {
          "output_type": "stream",
          "name": "stdout",
          "text": [
            "True\n"
          ]
        }
      ]
    },
    {
      "cell_type": "markdown",
      "source": [
        "<aside>\n",
        "💡 **Question 3**\n",
        "\n",
        "Given an array of integers arr, return *true if and only if it is a valid mountain array*.\n",
        "\n",
        "Recall that arr is a mountain array if and only if:\n",
        "\n",
        "- arr.length >= 3\n",
        "- There exists some i with 0 < i < arr.length - 1 such that:\n",
        "    - arr[0] < arr[1] < ... < arr[i - 1] < arr[i]\n",
        "    - arr[i] > arr[i + 1] > ... > arr[arr.length - 1]\n",
        "**Example 1:**\n",
        "\n",
        "**Input:** arr = [2,1]\n",
        "\n",
        "**Output:**\n",
        "\n",
        "false"
      ],
      "metadata": {
        "id": "r17AlpGDxBHf"
      }
    },
    {
      "cell_type": "code",
      "source": [
        "def validMountainArray(arr):\n",
        "    n = len(arr)\n",
        "    if n < 3:\n",
        "        return False\n",
        "    \n",
        "    i = 0\n",
        "    while i < n-1 and arr[i] < arr[i+1]:\n",
        "        i += 1\n",
        "    \n",
        "    if i == 0 or i == n-1:\n",
        "        return False\n",
        "    \n",
        "    while i < n-1 and arr[i] > arr[i+1]:\n",
        "        i += 1\n",
        "    \n",
        "    return i == n-1\n",
        "\n",
        "###Driver Code\n",
        "arr = [2, 1]\n",
        "result = validMountainArray(arr)\n",
        "print(result)"
      ],
      "metadata": {
        "colab": {
          "base_uri": "https://localhost:8080/"
        },
        "id": "makmsOFkwx5A",
        "outputId": "ddd5b8a9-0ab5-4512-e4aa-73f8cc41570e"
      },
      "execution_count": 4,
      "outputs": [
        {
          "output_type": "stream",
          "name": "stdout",
          "text": [
            "False\n"
          ]
        }
      ]
    },
    {
      "cell_type": "markdown",
      "source": [
        "<aside>\n",
        "💡 **Question 4**\n",
        "\n",
        "Given a binary array nums, return *the maximum length of a contiguous subarray with an equal number of* 0 *and* 1.\n",
        "\n",
        "**Example 1:**\n",
        "\n",
        "**Input:** nums = [0,1]\n",
        "\n",
        "**Output:** 2\n",
        "\n",
        "**Explanation:**\n",
        "\n",
        "[0, 1] is the longest contiguous subarray with an equal number of 0 and 1."
      ],
      "metadata": {
        "id": "1brchDY_xtzr"
      }
    },
    {
      "cell_type": "code",
      "source": [
        "def findMaxLength(nums):\n",
        "    count = 0\n",
        "    max_length = 0\n",
        "    count_map = {0: -1}  # Initialize count_map with an initial count of 0 at index -1\n",
        "\n",
        "    for i in range(len(nums)):\n",
        "        if nums[i] == 0:\n",
        "            count -= 1\n",
        "        else:\n",
        "            count += 1\n",
        "\n",
        "        if count in count_map:\n",
        "            max_length = max(max_length, i - count_map[count])\n",
        "        else:\n",
        "            count_map[count] = i\n",
        "\n",
        "    return max_length\n",
        "\n",
        "###Driver Code\n",
        "nums = [0, 1]\n",
        "result = findMaxLength(nums)\n",
        "print(result)"
      ],
      "metadata": {
        "colab": {
          "base_uri": "https://localhost:8080/"
        },
        "id": "kKkYWjWSxgx_",
        "outputId": "9362c7b1-29cc-47a6-96f5-b22d81fc42dc"
      },
      "execution_count": 5,
      "outputs": [
        {
          "output_type": "stream",
          "name": "stdout",
          "text": [
            "2\n"
          ]
        }
      ]
    },
    {
      "cell_type": "markdown",
      "source": [
        "<aside>\n",
        "💡 **Question 5**\n",
        "\n",
        "The **product sum** of two equal-length arrays a and b is equal to the sum of a[i] * b[i] for all 0 <= i < a.length (**0-indexed**).\n",
        "\n",
        "- For example, if a = [1,2,3,4] and b = [5,2,3,1], the **product sum** would be 1*5 + 2*2 + 3*3 + 4*1 = 22.\n",
        "\n",
        "Given two arrays nums1 and nums2 of length n, return *the **minimum product sum** if you are allowed to **rearrange** the **order** of the elements in* nums1.\n",
        "\n",
        "**Example 1:**\n",
        "\n",
        "**Input:** nums1 = [5,3,4,2], nums2 = [4,2,2,5]\n",
        "\n",
        "**Output:** 40\n",
        "\n",
        "**Explanation:**\n",
        "\n",
        "We can rearrange nums1 to become [3,5,4,2]. The product sum of [3,5,4,2] and [4,2,2,5] is 3*4 + 5*2 + 4*2 + 2*5 = 40"
      ],
      "metadata": {
        "id": "7uRj9tr7yB_D"
      }
    },
    {
      "cell_type": "code",
      "source": [
        "def minProductSum(nums1, nums2):\n",
        "    nums1.sort() \n",
        "    nums2.sort(reverse=True) \n",
        "    n = len(nums1)\n",
        "    min_product_sum = 0\n",
        "\n",
        "    for i in range(n):\n",
        "        min_product_sum += nums1[i] * nums2[i]\n",
        "\n",
        "    return min_product_sum\n",
        "\n",
        "###Driver Code\n",
        "nums1 = [5, 3, 4, 2]\n",
        "nums2 = [4, 2, 2, 5]\n",
        "result = minProductSum(nums1, nums2)\n",
        "print(result) "
      ],
      "metadata": {
        "colab": {
          "base_uri": "https://localhost:8080/"
        },
        "id": "yTWy9hSrx80p",
        "outputId": "a765fa59-b8c7-4e52-a2e8-36d447c4d80f"
      },
      "execution_count": 6,
      "outputs": [
        {
          "output_type": "stream",
          "name": "stdout",
          "text": [
            "40\n"
          ]
        }
      ]
    },
    {
      "cell_type": "markdown",
      "source": [
        "<aside>\n",
        "💡 **Question 6**\n",
        "\n",
        "An integer array original is transformed into a **doubled** array changed by appending **twice the value** of every element in original, and then randomly **shuffling** the resulting array.\n",
        "\n",
        "Given an array changed, return original *if* changed *is a **doubled** array. If* changed *is not a **doubled** array, return an empty array. The elements in* original *may be returned in **any** order*.\n",
        "\n",
        "**Example 1:**\n",
        "\n",
        "**Input:** changed = [1,3,4,2,6,8]\n",
        "\n",
        "**Output:** [1,3,4]\n",
        "\n",
        "**Explanation:** One possible original array could be [1,3,4]:\n",
        "\n",
        "- Twice the value of 1 is 1 * 2 = 2.\n",
        "- Twice the value of 3 is 3 * 2 = 6.\n",
        "- Twice the value of 4 is 4 * 2 = 8.\n",
        "\n",
        "Other original arrays could be [4,3,1] or [3,1,4]."
      ],
      "metadata": {
        "id": "PTOwIJIYyW45"
      }
    },
    {
      "cell_type": "code",
      "source": [
        "from collections import Counter\n",
        "\n",
        "def findOriginalArray(changed):\n",
        "    if len(changed) % 2 != 0:\n",
        "        return []\n",
        "\n",
        "    counter = Counter(changed)\n",
        "    original = []\n",
        "\n",
        "    for num in sorted(changed):\n",
        "        if counter[num] == 0:\n",
        "            continue\n",
        "        if counter[2 * num] == 0:\n",
        "            return []\n",
        "        \n",
        "        original.append(num)\n",
        "        counter[num] -= 1\n",
        "        counter[2 * num] -= 1\n",
        "\n",
        "    return original\n",
        "###Driver Code\n",
        "changed = [1, 3, 4, 2, 6, 8]\n",
        "res = findOriginalArray(changed)\n",
        "print(res) "
      ],
      "metadata": {
        "colab": {
          "base_uri": "https://localhost:8080/"
        },
        "id": "pYAWO1EZyUfu",
        "outputId": "9bba6325-d476-45f6-9796-3a4aaf8550c3"
      },
      "execution_count": 7,
      "outputs": [
        {
          "output_type": "stream",
          "name": "stdout",
          "text": [
            "[1, 3, 4]\n"
          ]
        }
      ]
    },
    {
      "cell_type": "markdown",
      "source": [
        "Given a positive integer n, generate an n x n matrix filled with elements from 1 to n2 in spiral order\n",
        "\n",
        "**Input:** n = 3\n",
        "\n",
        "**Output:** [[1,2,3],[8,9,4],[7,6,5]]"
      ],
      "metadata": {
        "id": "4c4dz_aaym4k"
      }
    },
    {
      "cell_type": "code",
      "source": [
        "def generateMatrix(n):\n",
        "    matrix = [[0] * n for _ in range(n)]\n",
        "    num = 1\n",
        "    left, right, top, bottom = 0, n - 1, 0, n - 1\n",
        "\n",
        "    while num <= n * n:\n",
        "        for i in range(left, right + 1):\n",
        "            matrix[top][i] = num\n",
        "            num += 1\n",
        "        top += 1\n",
        "\n",
        "        for i in range(top, bottom + 1):\n",
        "            matrix[i][right] = num\n",
        "            num += 1\n",
        "        right -= 1\n",
        "\n",
        "        for i in range(right, left - 1, -1):\n",
        "            matrix[bottom][i] = num\n",
        "            num += 1\n",
        "        bottom -= 1\n",
        "        for i in range(bottom, top - 1, -1):\n",
        "            matrix[i][left] = num\n",
        "            num += 1\n",
        "        left += 1\n",
        "\n",
        "    return matrix\n",
        "###Driver Code\n",
        "n = 3\n",
        "result = generateMatrix(n)\n",
        "print(result)\n"
      ],
      "metadata": {
        "colab": {
          "base_uri": "https://localhost:8080/"
        },
        "id": "h6wXsKCjyk34",
        "outputId": "b7a82f16-fd52-4f9c-8d0b-5a651d65813c"
      },
      "execution_count": 8,
      "outputs": [
        {
          "output_type": "stream",
          "name": "stdout",
          "text": [
            "[[1, 2, 3], [8, 9, 4], [7, 6, 5]]\n"
          ]
        }
      ]
    },
    {
      "cell_type": "markdown",
      "source": [
        "<aside>\n",
        "💡 **Question 8**\n",
        "\n",
        "Given two [sparse matrices](https://en.wikipedia.org/wiki/Sparse_matrix) mat1 of size m x k and mat2 of size k x n, return the result of mat1 x mat2. You may assume that multiplication is always possible.\n",
        "\n",
        "**Example 1:**\n",
        "**Input:** mat1 = [[1,0,0],[-1,0,3]], mat2 = [[7,0,0],[0,0,0],[0,0,1]]\n",
        "\n",
        "**Output:**\n",
        "\n",
        "[[7,0,0],[-7,0,3]]"
      ],
      "metadata": {
        "id": "5xpVlk3sy_vE"
      }
    },
    {
      "cell_type": "code",
      "source": [
        "def multiply(mat1, mat2):\n",
        "    m = len(mat1)\n",
        "    k = len(mat1[0])\n",
        "    n = len(mat2[0])\n",
        "\n",
        "    result = [[0] * n for _ in range(m)]\n",
        "\n",
        "    for i in range(m):\n",
        "        for j in range(n):\n",
        "            for x in range(k):\n",
        "                result[i][j] += mat1[i][x] * mat2[x][j]\n",
        "\n",
        "    return result\n",
        "###Driver Code\n",
        "mat1 = [[1,0,0],[-1,0,3]]\n",
        "mat2 = [[7,0,0],[0,0,0],[0,0,1]]\n",
        "\n",
        "result = multiply(mat1, mat2)\n",
        "print(result)"
      ],
      "metadata": {
        "colab": {
          "base_uri": "https://localhost:8080/"
        },
        "id": "kmFRQERqy9Eg",
        "outputId": "dff3af9c-9852-4bcc-8ae1-ce84fe20f3d5"
      },
      "execution_count": 9,
      "outputs": [
        {
          "output_type": "stream",
          "name": "stdout",
          "text": [
            "[[7, 0, 0], [-7, 0, 3]]\n"
          ]
        }
      ]
    },
    {
      "cell_type": "code",
      "source": [],
      "metadata": {
        "id": "8FkSoT_ZzQfa"
      },
      "execution_count": null,
      "outputs": []
    }
  ]
}