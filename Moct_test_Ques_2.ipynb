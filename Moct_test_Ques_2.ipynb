{
  "nbformat": 4,
  "nbformat_minor": 0,
  "metadata": {
    "colab": {
      "provenance": []
    },
    "kernelspec": {
      "name": "python3",
      "display_name": "Python 3"
    },
    "language_info": {
      "name": "python"
    }
  },
  "cells": [
    {
      "cell_type": "markdown",
      "source": [
        "First Unique Character in a String\n",
        "\n",
        "Given a string s, find the first non-repeating character in it and return its index. If it does not exist, return -1.\n",
        "\n",
        "Example 1:\n",
        "Input: s = \"leetcode\"\n",
        "Output: 0\n",
        "\n",
        "Example 2:\n",
        "Input: s = \"loveleetcode\"\n",
        "Output: 2\n",
        "\n",
        "Example 3:\n",
        "Input: s = \"aabb\"\n",
        "Output: -1\n",
        "\n",
        "Constraints:\n",
        "a. 1 <= s.length <= 10^5\n",
        "b. s consists of only lowercase English letters.\n",
        "\n",
        "Note: Create a GitHub file for the solution and add the file link the the answer section below."
      ],
      "metadata": {
        "id": "fGOCO-rK7qn8"
      }
    },
    {
      "cell_type": "code",
      "execution_count": 1,
      "metadata": {
        "colab": {
          "base_uri": "https://localhost:8080/"
        },
        "id": "XEJoIfTG7k2D",
        "outputId": "76703fa3-c3cb-408f-8cbd-e29e36ab27a7"
      },
      "outputs": [
        {
          "output_type": "stream",
          "name": "stdout",
          "text": [
            "0\n"
          ]
        }
      ],
      "source": [
        "def first_unique_character(s):\n",
        "  char_count = {}\n",
        "  for char in s:\n",
        "    char_count[char] = char_count.get(char,0)+1\n",
        "  for i,char in enumerate(s):\n",
        "    if char_count[char] == 1:\n",
        "      return i\n",
        "  return  -1\n",
        "###Driver Code\n",
        "s = \"leetcode\"\n",
        "res = first_unique_character(s)\n",
        "print(res)"
      ]
    },
    {
      "cell_type": "code",
      "source": [],
      "metadata": {
        "id": "dqcTUMT1AVPe"
      },
      "execution_count": null,
      "outputs": []
    }
  ]
}