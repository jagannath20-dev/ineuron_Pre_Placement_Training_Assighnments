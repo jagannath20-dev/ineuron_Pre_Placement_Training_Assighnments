{
  "nbformat": 4,
  "nbformat_minor": 0,
  "metadata": {
    "colab": {
      "provenance": []
    },
    "kernelspec": {
      "name": "python3",
      "display_name": "Python 3"
    },
    "language_info": {
      "name": "python"
    }
  },
  "cells": [
    {
      "cell_type": "markdown",
      "source": [
        "<aside>\n",
        "💡 1. **Merge Intervals**\n",
        "\n",
        "Given an array of `intervals` where `intervals[i] = [starti, endi]`, merge all overlapping intervals, and return *an array of the non-overlapping intervals that cover all the intervals in the input*.\n",
        "\n",
        "**Example 1:**\n",
        "\n",
        "```\n",
        "Input: intervals = [[1,3],[2,6],[8,10],[15,18]]\n",
        "Output: [[1,6],[8,10],[15,18]]\n",
        "Explanation: Since intervals [1,3] and [2,6] overlap, merge them into [1,6].\n",
        "\n",
        "```\n",
        "\n",
        "**Example 2:**\n",
        "\n",
        "```\n",
        "Input: intervals = [[1,4],[4,5]]\n",
        "Output: [[1,5]]\n",
        "Explanation: Intervals [1,4] and [4,5] are considered overlapping.\n",
        "\n",
        "```\n",
        "\n",
        "**Constraints:**\n",
        "\n",
        "- `1 <= intervals.length <= 10000`\n",
        "- `intervals[i].length == 2`\n",
        "- `0 <= starti <= endi <= 10000`"
      ],
      "metadata": {
        "id": "7pTgA1aN8htm"
      }
    },
    {
      "cell_type": "code",
      "execution_count": 1,
      "metadata": {
        "colab": {
          "base_uri": "https://localhost:8080/"
        },
        "id": "3JITOsN88eEF",
        "outputId": "5f4cf602-dd21-4293-e945-78fa3056a4af"
      },
      "outputs": [
        {
          "output_type": "stream",
          "name": "stdout",
          "text": [
            "[[1, 6], [8, 10], [15, 18]]\n",
            "[[1, 5]]\n"
          ]
        }
      ],
      "source": [
        "def merge(intervals):\n",
        "    intervals.sort(key=lambda x: x[0])  # Sort intervals based on start time\n",
        "    merged = []\n",
        "\n",
        "    for interval in intervals:\n",
        "        # If the merged list is empty or the current interval does not overlap with the previous interval\n",
        "        if not merged or interval[0] > merged[-1][1]:\n",
        "            merged.append(interval)\n",
        "        else:\n",
        "            # Merge the intervals by updating the end time of the previous interval\n",
        "            merged[-1][1] = max(merged[-1][1], interval[1])\n",
        "\n",
        "    return merged\n",
        "intervals1 = [[1, 3], [2, 6], [8, 10], [15, 18]]\n",
        "print(merge(intervals1))\n",
        "\n",
        "intervals2 = [[1, 4], [4, 5]]\n",
        "print(merge(intervals2))"
      ]
    },
    {
      "cell_type": "markdown",
      "source": [
        "<aside>\n",
        "💡 2. **Sort Colors**\n",
        "\n",
        "Given an array `nums` with `n` objects colored red, white, or blue, sort them **[in-place](https://en.wikipedia.org/wiki/In-place_algorithm)** so that objects of the same color are adjacent, with the colors in the order red, white, and blue.\n",
        "\n",
        "We will use the integers `0`, `1`, and `2` to represent the color red, white, and blue, respectively.\n",
        "\n",
        "You must solve this problem without using the library's sort function.\n",
        "\n",
        "**Example 1:**\n",
        "\n",
        "```\n",
        "Input: nums = [2,0,2,1,1,0]\n",
        "Output: [0,0,1,1,2,2]\n",
        "\n",
        "```\n",
        "\n",
        "**Example 2:**\n",
        "\n",
        "```\n",
        "Input: nums = [2,0,1]\n",
        "Output: [0,1,2]\n",
        "\n",
        "```\n",
        "\n",
        "**Constraints:**\n",
        "\n",
        "- `n == nums.length`\n",
        "- `1 <= n <= 300`\n",
        "- `nums[i]` is either `0`, `1`, or `2`.\n",
        "</aside>"
      ],
      "metadata": {
        "id": "SyRlC1jp84bb"
      }
    },
    {
      "cell_type": "code",
      "source": [
        "def sortColors(nums):\n",
        "    low = 0\n",
        "    mid = 0\n",
        "    high = len(nums) - 1\n",
        "\n",
        "    while mid <= high:\n",
        "        if nums[mid] == 0:\n",
        "            nums[low], nums[mid] = nums[mid], nums[low]\n",
        "            low += 1\n",
        "            mid += 1\n",
        "        elif nums[mid] == 1:\n",
        "            mid += 1\n",
        "        else:\n",
        "            nums[mid], nums[high] = nums[high], nums[mid]\n",
        "            high -= 1\n",
        "\n",
        "    return nums\n",
        "nums1 = [2, 0, 2, 1, 1, 0]\n",
        "print(sortColors(nums1))\n",
        "nums2 = [2, 0, 1]\n",
        "print(sortColors(nums2))"
      ],
      "metadata": {
        "colab": {
          "base_uri": "https://localhost:8080/"
        },
        "id": "RtFXwFaR8qXK",
        "outputId": "a4735fc2-4b3e-4a0f-ebfe-722f051b2ce6"
      },
      "execution_count": 2,
      "outputs": [
        {
          "output_type": "stream",
          "name": "stdout",
          "text": [
            "[0, 0, 1, 1, 2, 2]\n",
            "[0, 1, 2]\n"
          ]
        }
      ]
    },
    {
      "cell_type": "markdown",
      "source": [
        "<aside>\n",
        "💡 3. **First Bad Version Solution**\n",
        "\n",
        "You are a product manager and currently leading a team to develop a new product. Unfortunately, the latest version of your product fails the quality check. Since each version is developed based on the previous version, all the versions after a bad version are also bad.\n",
        "\n",
        "Suppose you have `n` versions `[1, 2, ..., n]` and you want to find out the first bad one, which causes all the following ones to be bad.\n",
        "\n",
        "You are given an API `bool isBadVersion(version)` which returns whether `version` is bad. Implement a function to find the first bad version. You should minimize the number of calls to the API.\n",
        "\n",
        "**Example 1:**\n",
        "\n",
        "```\n",
        "Input: n = 5, bad = 4\n",
        "Output: 4\n",
        "Explanation:\n",
        "call isBadVersion(3) -> false\n",
        "call isBadVersion(5) -> true\n",
        "call isBadVersion(4) -> true\n",
        "Then 4 is the first bad version.\n",
        "\n",
        "```\n",
        "\n",
        "**Example 2:**\n",
        "\n",
        "```\n",
        "Input: n = 1, bad = 1\n",
        "Output: 1\n",
        "\n",
        "```\n",
        "\n",
        "**Constraints:**\n",
        "\n",
        "- `1 <= bad <= n <= 2^31 - 1`\n",
        "</aside>"
      ],
      "metadata": {
        "id": "_qNyB1KC9I_1"
      }
    },
    {
      "cell_type": "code",
      "source": [
        "def isBadVersion(version):\n",
        "    # Mock implementation for illustration\n",
        "    return version >= bad\n",
        "\n",
        "def firstBadVersion(n):\n",
        "    left = 1\n",
        "    right = n\n",
        "\n",
        "    while left < right:\n",
        "        mid = left + (right - left) // 2\n",
        "\n",
        "        if isBadVersion(mid):\n",
        "            right = mid\n",
        "        else:\n",
        "            left = mid + 1\n",
        "\n",
        "    return left\n",
        "n = 5\n",
        "bad = 4\n",
        "print(firstBadVersion(n))\n",
        "n1 = 1\n",
        "bad1 = 1\n",
        "print(firstBadVersion(1))"
      ],
      "metadata": {
        "colab": {
          "base_uri": "https://localhost:8080/"
        },
        "id": "6VR3Q-Z69YdF",
        "outputId": "3b9f0887-c7d5-414c-a1df-f2dbbc3558cd"
      },
      "execution_count": 7,
      "outputs": [
        {
          "output_type": "stream",
          "name": "stdout",
          "text": [
            "4\n",
            "1\n"
          ]
        }
      ]
    },
    {
      "cell_type": "markdown",
      "source": [
        "<aside>\n",
        "💡 4. **Maximum Gap**\n",
        "\n",
        "Given an integer array `nums`, return *the maximum difference between two successive elements in its sorted form*. If the array contains less than two elements, return `0`.\n",
        "\n",
        "You must write an algorithm that runs in linear time and uses linear extra space.\n",
        "\n",
        "**Example 1:**\n",
        "\n",
        "```\n",
        "Input: nums = [3,6,9,1]\n",
        "Output: 3\n",
        "Explanation: The sorted form of the array is [1,3,6,9], either (3,6) or (6,9) has the maximum difference 3.\n",
        "\n",
        "```\n",
        "\n",
        "**Example 2:**\n",
        "\n",
        "```\n",
        "Input: nums = [10]\n",
        "Output: 0\n",
        "Explanation: The array contains less than 2 elements, therefore return 0.\n",
        "\n",
        "```\n",
        "\n",
        "**Constraints:**\n",
        "\n",
        "- `1 <= nums.length <= 10^5`\n",
        "- `0 <= nums[i] <= 10^9`\n",
        "</aside>"
      ],
      "metadata": {
        "id": "aTjjrIMY-Sah"
      }
    },
    {
      "cell_type": "code",
      "source": [
        "def maximumGap(nums):\n",
        "    if len(nums) < 2:\n",
        "        return 0\n",
        "\n",
        "    def countingSort(nums, exp):\n",
        "        n = len(nums)\n",
        "        count = [0] * 10\n",
        "        output = [0] * n\n",
        "\n",
        "        for i in range(n):\n",
        "            digit = (nums[i] // exp) % 10\n",
        "            count[digit] += 1\n",
        "\n",
        "        for i in range(1, 10):\n",
        "            count[i] += count[i - 1]\n",
        "\n",
        "        for i in range(n - 1, -1, -1):\n",
        "            digit = (nums[i] // exp) % 10\n",
        "            output[count[digit] - 1] = nums[i]\n",
        "            count[digit] -= 1\n",
        "\n",
        "        for i in range(n):\n",
        "            nums[i] = output[i]\n",
        "\n",
        "    max_value = max(nums)\n",
        "\n",
        "    exp = 1\n",
        "    while max_value // exp > 0:\n",
        "        countingSort(nums, exp)\n",
        "        exp *= 10\n",
        "\n",
        "    max_gap = 0\n",
        "    for i in range(1, len(nums)):\n",
        "        max_gap = max(max_gap, nums[i] - nums[i - 1])\n",
        "\n",
        "    return max_gap\n",
        "nums1 = [3, 6, 9, 1]\n",
        "print(maximumGap(nums1))\n",
        "\n",
        "nums2 = [10]\n",
        "print(maximumGap(nums2))\n"
      ],
      "metadata": {
        "colab": {
          "base_uri": "https://localhost:8080/"
        },
        "id": "bsllcL-i9d5F",
        "outputId": "bae9b834-9847-4f36-c497-8921db2c63d4"
      },
      "execution_count": 8,
      "outputs": [
        {
          "output_type": "stream",
          "name": "stdout",
          "text": [
            "3\n",
            "0\n"
          ]
        }
      ]
    },
    {
      "cell_type": "markdown",
      "source": [
        "<aside>\n",
        "💡 5. **Contains Duplicate**\n",
        "\n",
        "Given an integer array `nums`, return `true` if any value appears **at least twice** in the array, and return `false` if every element is distinct.\n",
        "\n",
        "**Example 1:**\n",
        "\n",
        "```\n",
        "Input: nums = [1,2,3,1]\n",
        "Output: true\n",
        "\n",
        "```\n",
        "\n",
        "**Example 2:**\n",
        "\n",
        "```\n",
        "Input: nums = [1,2,3,4]\n",
        "Output: false\n",
        "\n",
        "```\n",
        "\n",
        "**Example 3:**\n",
        "\n",
        "```\n",
        "Input: nums = [1,1,1,3,3,4,3,2,4,2]\n",
        "Output: true\n",
        "\n",
        "```\n",
        "\n",
        "**Constraints:**\n",
        "\n",
        "- `1 <= nums.length <= 10^5`\n",
        "- `109 <= nums[i] <= 10^9`\n",
        "</aside>"
      ],
      "metadata": {
        "id": "Ksuyx2Ek-hGT"
      }
    },
    {
      "cell_type": "code",
      "source": [
        "def containsDuplicate(nums):\n",
        "    num_set = set()\n",
        "\n",
        "    for num in nums:\n",
        "        if num in num_set:\n",
        "            return True\n",
        "        num_set.add(num)\n",
        "\n",
        "    return False\n",
        "nums1 = [1, 2, 3, 1]\n",
        "print(containsDuplicate(nums1))\n",
        "\n",
        "nums2 = [1, 2, 3, 4]\n",
        "print(containsDuplicate(nums2))\n",
        "\n",
        "nums3 = [1, 1, 1, 3, 3, 4, 3, 2, 4, 2]\n",
        "print(containsDuplicate(nums3))\n"
      ],
      "metadata": {
        "colab": {
          "base_uri": "https://localhost:8080/"
        },
        "id": "sOKSeb7v-Q3o",
        "outputId": "8caa674f-01da-497d-a312-b3ff9617a282"
      },
      "execution_count": 9,
      "outputs": [
        {
          "output_type": "stream",
          "name": "stdout",
          "text": [
            "True\n",
            "False\n",
            "True\n"
          ]
        }
      ]
    },
    {
      "cell_type": "markdown",
      "source": [
        "<aside>\n",
        "💡 6. **Minimum Number of Arrows to Burst Balloons**\n",
        "\n",
        "There are some spherical balloons taped onto a flat wall that represents the XY-plane. The balloons are represented as a 2D integer array `points` where `points[i] = [xstart, xend]` denotes a balloon whose **horizontal diameter** stretches between `xstart` and `xend`. You do not know the exact y-coordinates of the balloons.\n",
        "\n",
        "Arrows can be shot up **directly vertically** (in the positive y-direction) from different points along the x-axis. A balloon with `xstart` and `xend` is **burst** by an arrow shot at `x` if `xstart <= x <= xend`. There is **no limit** to the number of arrows that can be shot. A shot arrow keeps traveling up infinitely, bursting any balloons in its path.\n",
        "\n",
        "Given the array `points`, return *the **minimum** number of arrows that must be shot to burst all balloons*.\n",
        "\n",
        "**Example 1:**\n",
        "\n",
        "```\n",
        "Input: points = [[10,16],[2,8],[1,6],[7,12]]\n",
        "Output: 2\n",
        "Explanation: The balloons can be burst by 2 arrows:\n",
        "- Shoot an arrow at x = 6, bursting the balloons [2,8] and [1,6].\n",
        "- Shoot an arrow at x = 11, bursting the balloons [10,16] and [7,12].\n",
        "\n",
        "```\n",
        "\n",
        "**Example 2:**\n",
        "\n",
        "```\n",
        "Input: points = [[1,2],[3,4],[5,6],[7,8]]\n",
        "Output: 4\n",
        "Explanation: One arrow needs to be shot for each balloon for a total of 4 arrows.\n",
        "\n",
        "```\n",
        "\n",
        "**Example 3:**\n",
        "\n",
        "```\n",
        "Input: points = [[1,2],[2,3],[3,4],[4,5]]\n",
        "Output: 2\n",
        "Explanation: The balloons can be burst by 2 arrows:\n",
        "- Shoot an arrow at x = 2, bursting the balloons [1,2] and [2,3].\n",
        "- Shoot an arrow at x = 4, bursting the balloons [3,4] and [4,5].\n",
        "\n",
        "```\n",
        "\n",
        "**Constraints:**\n",
        "\n",
        "- `1 <= points.length <= 10^5`\n",
        "- `points[i].length == 2`\n",
        "- `231 <= xstart < xend <= 2^31 - 1`\n",
        "</aside>"
      ],
      "metadata": {
        "id": "xZpKU7hR-udx"
      }
    },
    {
      "cell_type": "code",
      "source": [
        "def findMinArrowShots(points):\n",
        "    if not points:\n",
        "        return 0\n",
        "\n",
        "    points.sort(key=lambda x: x[1])\n",
        "    arrows = 1\n",
        "    end = points[0][1]\n",
        "\n",
        "    for start, balloon_end in points:\n",
        "        if start > end:\n",
        "            arrows += 1\n",
        "            end = balloon_end\n",
        "\n",
        "    return arrows\n",
        "points1 = [[10, 16], [2, 8], [1, 6], [7, 12]]\n",
        "print(findMinArrowShots(points1))\n",
        "\n",
        "points2 = [[1, 2], [3, 4], [5, 6], [7, 8]]\n",
        "print(findMinArrowShots(points2))\n",
        "\n",
        "points3 = [[1, 2], [2, 3], [3, 4], [4, 5]]\n",
        "print(findMinArrowShots(points3))"
      ],
      "metadata": {
        "colab": {
          "base_uri": "https://localhost:8080/"
        },
        "id": "r3ccP9SU-lc3",
        "outputId": "fd7c3bfe-619b-4218-8848-fac96d6b2204"
      },
      "execution_count": 10,
      "outputs": [
        {
          "output_type": "stream",
          "name": "stdout",
          "text": [
            "2\n",
            "4\n",
            "2\n"
          ]
        }
      ]
    },
    {
      "cell_type": "markdown",
      "source": [
        "<aside>\n",
        "💡 7. **Longest Increasing Subsequence**\n",
        "\n",
        "Given an integer array `nums`, return *the length of the longest **strictly increasing***\n",
        "\n",
        "***subsequence***\n",
        "\n",
        ".\n",
        "\n",
        "**Example 1:**\n",
        "\n",
        "```\n",
        "Input: nums = [10,9,2,5,3,7,101,18]\n",
        "Output: 4\n",
        "Explanation: The longest increasing subsequence is [2,3,7,101], therefore the length is 4.\n",
        "\n",
        "```\n",
        "\n",
        "**Example 2:**\n",
        "\n",
        "```\n",
        "Input: nums = [0,1,0,3,2,3]\n",
        "Output: 4\n",
        "\n",
        "```\n",
        "\n",
        "**Example 3:**\n",
        "\n",
        "```\n",
        "Input: nums = [7,7,7,7,7,7,7]\n",
        "Output: 1\n",
        "\n",
        "```\n",
        "\n",
        "**Constraints:**\n",
        "\n",
        "- `1 <= nums.length <= 2500`\n",
        "- `-10^4 <= nums[i] <= 10^4`\n",
        "</aside>"
      ],
      "metadata": {
        "id": "WOlnMBPD_Cnh"
      }
    },
    {
      "cell_type": "code",
      "source": [
        "def lengthOfLIS(nums):\n",
        "    if not nums:\n",
        "        return 0\n",
        "\n",
        "    n = len(nums)\n",
        "    dp = [1] * n\n",
        "\n",
        "    for i in range(1, n):\n",
        "        for j in range(i):\n",
        "            if nums[i] > nums[j]:\n",
        "                dp[i] = max(dp[i], dp[j] + 1)\n",
        "\n",
        "    return max(dp)\n",
        "\n",
        "nums1 = [10, 9, 2, 5, 3, 7, 101, 18]\n",
        "print(lengthOfLIS(nums1))\n",
        "\n",
        "nums2 = [0, 1, 0, 3, 2, 3]\n",
        "print(lengthOfLIS(nums2))\n",
        "\n",
        "nums3 = [7, 7, 7, 7, 7, 7, 7]\n",
        "print(lengthOfLIS(nums3))\n"
      ],
      "metadata": {
        "colab": {
          "base_uri": "https://localhost:8080/"
        },
        "id": "KE7QUglB-4qR",
        "outputId": "2a917e18-956e-4ed3-c649-8d621cc1fc21"
      },
      "execution_count": 11,
      "outputs": [
        {
          "output_type": "stream",
          "name": "stdout",
          "text": [
            "4\n",
            "4\n",
            "1\n"
          ]
        }
      ]
    },
    {
      "cell_type": "markdown",
      "source": [
        "<aside>\n",
        "💡 8. **132 Pattern**\n",
        "\n",
        "Given an array of `n` integers `nums`, a **132 pattern** is a subsequence of three integers `nums[i]`, `nums[j]` and `nums[k]` such that `i < j < k` and `nums[i] < nums[k] < nums[j]`.\n",
        "\n",
        "Return `true` *if there is a **132 pattern** in* `nums`*, otherwise, return* `false`*.*\n",
        "\n",
        "**Example 1:**\n",
        "\n",
        "```\n",
        "Input: nums = [1,2,3,4]\n",
        "Output: false\n",
        "Explanation: There is no 132 pattern in the sequence.\n",
        "\n",
        "```\n",
        "\n",
        "**Example 2:**\n",
        "\n",
        "```\n",
        "Input: nums = [3,1,4,2]\n",
        "Output: true\n",
        "Explanation: There is a 132 pattern in the sequence: [1, 4, 2].\n",
        "\n",
        "```\n",
        "\n",
        "**Example 3:**\n",
        "\n",
        "```\n",
        "Input: nums = [-1,3,2,0]\n",
        "Output: true\n",
        "Explanation: There are three 132 patterns in the sequence: [-1, 3, 2], [-1, 3, 0] and [-1, 2, 0].\n",
        "\n",
        "```\n",
        "\n",
        "**Constraints:**\n",
        "\n",
        "- `n == nums.length`\n",
        "- `1 <= n <= 2 * 10^5`\n",
        "- `-10^9 <= nums[i] <= 10^9`\n",
        "\n",
        "</aside>"
      ],
      "metadata": {
        "id": "EwL74pHYAL3m"
      }
    },
    {
      "cell_type": "code",
      "source": [
        "def find132pattern(nums):\n",
        "    stack = []\n",
        "    third = float('-inf')\n",
        "\n",
        "    for i in range(len(nums) - 1, -1, -1):\n",
        "        if nums[i] < third:\n",
        "            return True\n",
        "\n",
        "        while stack and nums[i] > stack[-1]:\n",
        "            third = stack.pop()\n",
        "\n",
        "        stack.append(nums[i])\n",
        "\n",
        "    return False\n",
        "nums1 = [1, 2, 3, 4]\n",
        "print(find132pattern(nums1))\n",
        "\n",
        "nums2 = [3, 1, 4, 2]\n",
        "print(find132pattern(nums2))\n",
        "\n",
        "nums3 = [-1, 3, 2, 0]\n",
        "print(find132pattern(nums3))"
      ],
      "metadata": {
        "colab": {
          "base_uri": "https://localhost:8080/"
        },
        "id": "17aLb7oK_ysm",
        "outputId": "c96b70ba-49f8-4996-dab5-15c9d2dab4fa"
      },
      "execution_count": 12,
      "outputs": [
        {
          "output_type": "stream",
          "name": "stdout",
          "text": [
            "False\n",
            "True\n",
            "True\n"
          ]
        }
      ]
    },
    {
      "cell_type": "code",
      "source": [],
      "metadata": {
        "id": "8roSyG_VAxhw"
      },
      "execution_count": null,
      "outputs": []
    }
  ]
}