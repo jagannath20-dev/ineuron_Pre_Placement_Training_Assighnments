{
  "nbformat": 4,
  "nbformat_minor": 0,
  "metadata": {
    "colab": {
      "provenance": []
    },
    "kernelspec": {
      "name": "python3",
      "display_name": "Python 3"
    },
    "language_info": {
      "name": "python"
    }
  },
  "cells": [
    {
      "cell_type": "markdown",
      "source": [
        "<aside>\n",
        "💡 **Question 1**\n",
        "Given an integer array nums of 2n integers, group these integers into n pairs (a1, b1), (a2, b2),..., (an, bn) such that the sum of min(ai, bi) for all i is maximized. Return the maximized sum.\n",
        "\n",
        "**Example 1:**\n",
        "Input: nums = [1,4,3,2]\n",
        "Output: 4\n",
        "\n",
        "**Explanation:** All possible pairings (ignoring the ordering of elements) are:\n",
        "\n",
        "1. (1, 4), (2, 3) -> min(1, 4) + min(2, 3) = 1 + 2 = 3\n",
        "2. (1, 3), (2, 4) -> min(1, 3) + min(2, 4) = 1 + 2 = 3\n",
        "3. (1, 2), (3, 4) -> min(1, 2) + min(3, 4) = 1 + 3 = 4\n",
        "So the maximum possible sum is 4\n",
        "</aside>"
      ],
      "metadata": {
        "id": "VbsBztNgkK9q"
      }
    },
    {
      "cell_type": "code",
      "execution_count": null,
      "metadata": {
        "colab": {
          "base_uri": "https://localhost:8080/"
        },
        "id": "t8JUl-A8kGPt",
        "outputId": "bfa54029-023a-455b-e724-1423fab8f51a"
      },
      "outputs": [
        {
          "output_type": "stream",
          "name": "stdout",
          "text": [
            "(4, [(1, 2), (3, 4)])\n"
          ]
        }
      ],
      "source": [
        "def max_sum(arr):\n",
        "    arr.sort()  # Sort the array in ascending order\n",
        "    max_sum = 0\n",
        "    arr1 =[]\n",
        "    for i in range(0, len(arr), 2):\n",
        "      arr2 = arr[i],arr[i+1]\n",
        "      max_sum += min(arr[i],arr[i+1])\n",
        "      arr1.append(arr2)\n",
        "    return max_sum,arr1\n",
        "###Driver Code\n",
        "nums = [1,4,3,2]\n",
        "res = max_sum(nums)\n",
        "print(res)"
      ]
    },
    {
      "cell_type": "markdown",
      "source": [
        "Question 2\n",
        "Alice has n candies, where the ith candy is of type candyType[i]. Alice noticed that she started to gain weight, so she visited a doctor. \n",
        "\n",
        "The doctor advised Alice to only eat n / 2 of the candies she has (n is always even). Alice likes her candies very much, and she wants to eat the maximum number of different types of candies while still following the doctor's advice. \n",
        "\n",
        "Given the integer array candyType of length n, return the maximum number of different types of candies she can eat if she only eats n / 2 of them.\n",
        "\n",
        "Example 1:\n",
        "Input: candyType = [1,1,2,2,3,3]\n",
        "Output: 3\n",
        "\n",
        "Explanation: Alice can only eat 6 / 2 = 3 candies. Since there are only 3 types, she can eat one of each type."
      ],
      "metadata": {
        "id": "Paccn2p715BS"
      }
    },
    {
      "cell_type": "markdown",
      "source": [
        "Brute Force Approach"
      ],
      "metadata": {
        "id": "eDwXRAOtIUOt"
      }
    },
    {
      "cell_type": "code",
      "source": [
        "def distribute_candy(arr):\n",
        "  unique_candy = 0\n",
        "  for i in range(len(arr)):\n",
        "    for j in range(0,i):\n",
        "      if arr[i] == arr[j]:\n",
        "        break\n",
        "    else:\n",
        "      unique_candy += 1\n",
        "  print(f'She can have types of candies are {unique_candy}')\n",
        "  print(f'she can eat the candies  are {len(arr)//2}')\n",
        "  \n",
        "### Driver Code\n",
        "print(\"****************************************** Test Case 1 *******************************************************\")\n",
        "Candy1 = [1,1,2,2,3,3]\n",
        "res1 = distribute_candy(Candy1)\n",
        "print(\"****************************************** Test Case 2 *******************************************************\")\n",
        "Candy2 = [1,1,2,3]\n",
        "res2 = distribute_candy(Candy2)\n",
        "print(\"****************************************** Test Case 3 *******************************************************\")\n",
        "Candy3 = [6,6,6,6]\n",
        "res3 = distribute_candy(Candy3)"
      ],
      "metadata": {
        "id": "RaER7ut0zyEz",
        "colab": {
          "base_uri": "https://localhost:8080/"
        },
        "outputId": "c6f533d2-f846-474a-c133-400b7948c447"
      },
      "execution_count": null,
      "outputs": [
        {
          "output_type": "stream",
          "name": "stdout",
          "text": [
            "****************************************** Test Case 1 *******************************************************\n",
            "She can have types of candies are 3\n",
            "she can eat the candies  are 3\n",
            "****************************************** Test Case 2 *******************************************************\n",
            "She can have types of candies are 3\n",
            "she can eat the candies  are 2\n",
            "****************************************** Test Case 3 *******************************************************\n",
            "She can have types of candies are 1\n",
            "she can eat the candies  are 2\n"
          ]
        }
      ]
    },
    {
      "cell_type": "markdown",
      "source": [
        "Time Complexity : O(nˆ2)"
      ],
      "metadata": {
        "id": "XgSLtIqOcF5K"
      }
    },
    {
      "cell_type": "markdown",
      "source": [
        "Optimal Solution Better than above solution"
      ],
      "metadata": {
        "id": "iN51idvXcRmB"
      }
    },
    {
      "cell_type": "code",
      "source": [
        "def distribute_candy(arr):\n",
        "  arr.sort()\n",
        "  unique_candy = 1\n",
        "  for i in range(1,len(arr)):\n",
        "    if arr[i] != arr[i-1]:\n",
        "      unique_candy +=1\n",
        "    if unique_candy == len(arr)//2:\n",
        "      break\n",
        "  return min(unique_candy, len(arr) // 2)\n",
        "### Driver Code\n",
        "print(\"****************************************** Test Case 1 *******************************************************\")\n",
        "Candy1 = [1,1,2,2,3,3]\n",
        "res1 = distribute_candy(Candy1)\n",
        "print(res1)\n",
        "print(\"****************************************** Test Case 2 *******************************************************\")\n",
        "Candy2 = [1,1,2,3]\n",
        "res2 = distribute_candy(Candy2)\n",
        "print(res2)\n",
        "print(\"****************************************** Test Case 3 *******************************************************\")\n",
        "Candy3 = [6,6,6,6]\n",
        "res3 = distribute_candy(Candy3)\n",
        "print(res3)"
      ],
      "metadata": {
        "id": "37IqqW-0JYP3",
        "colab": {
          "base_uri": "https://localhost:8080/"
        },
        "outputId": "9be52a1c-246b-4b0e-e4bb-63daa84f1230"
      },
      "execution_count": null,
      "outputs": [
        {
          "output_type": "stream",
          "name": "stdout",
          "text": [
            "****************************************** Test Case 1 *******************************************************\n",
            "3\n",
            "****************************************** Test Case 2 *******************************************************\n",
            "2\n",
            "****************************************** Test Case 3 *******************************************************\n",
            "1\n"
          ]
        }
      ]
    },
    {
      "cell_type": "markdown",
      "source": [
        "Time Complexity : O(n)"
      ],
      "metadata": {
        "id": "bqMZkPGycMTH"
      }
    },
    {
      "cell_type": "markdown",
      "source": [
        "Question 3\n",
        "We define a harmonious array as an array where the difference between its maximum value\n",
        "and its minimum value is exactly 1.\n",
        "\n",
        "Given an integer array nums, return the length of its longest harmonious subsequence\n",
        "among all its possible subsequences.\n",
        "\n",
        "A subsequence of an array is a sequence that can be derived from the array by deleting some or no elements without changing the order of the remaining elements.\n",
        "\n",
        "Example 1:\n",
        "Input: nums = [1,3,2,2,5,2,3,7]\n",
        "Output: 5\n",
        "\n",
        "Explanation: The longest harmonious subsequence is [3,2,2,2,3]."
      ],
      "metadata": {
        "id": "8ksDPi5Y2iQh"
      }
    },
    {
      "cell_type": "code",
      "source": [
        "def subarray(arr):\n",
        "  hashmap = {}\n",
        "  max_length = 0\n",
        "  ## TO Build a frequency map\n",
        "  for num in arr:\n",
        "    hashmap[num] = hashmap.get(num,0)+1\n",
        "  # To Calculate length of harmonious subsequence\n",
        "  for num in hashmap:\n",
        "    if num+1 in hashmap:\n",
        "      length = hashmap[num] + hashmap[num + 1]\n",
        "      max_length = max(max_length, length)\n",
        "  return max_length\n",
        "### Driver Code\n",
        "print(\"****************************************** Test Case 1 *******************************************************\")\n",
        "nums = [1,3,2,2,5,2,3,7]\n",
        "res = subarray(nums)\n",
        "print(res)\n",
        "print(\"****************************************** Test Case 2 *******************************************************\")\n",
        "nums1 = [1,2,3,4]\n",
        "res1 = subarray(nums1)\n",
        "print(res1)\n",
        "print(\"****************************************** Test Case 3 *******************************************************\")\n",
        "nums2 =[1,1,1,1]\n",
        "res2 = subarray(nums2)\n",
        "print(res2)"
      ],
      "metadata": {
        "colab": {
          "base_uri": "https://localhost:8080/"
        },
        "id": "TYJ08THZ5vqh",
        "outputId": "bcf985ba-3625-4868-cbd1-03e7a91cb141"
      },
      "execution_count": null,
      "outputs": [
        {
          "output_type": "stream",
          "name": "stdout",
          "text": [
            "****************************************** Test Case 1 *******************************************************\n",
            "5\n",
            "****************************************** Test Case 2 *******************************************************\n",
            "2\n",
            "****************************************** Test Case 3 *******************************************************\n",
            "0\n"
          ]
        }
      ]
    },
    {
      "cell_type": "markdown",
      "source": [
        "optimised solution : "
      ],
      "metadata": {
        "id": "Fu9L2sUN0rt9"
      }
    },
    {
      "cell_type": "code",
      "source": [
        "def subarray(nums):\n",
        "  nums.sort()  # Sort the array in ascending order\n",
        "  left = 0\n",
        "  right = 0\n",
        "  max_length = 0\n",
        "        \n",
        "  while right < len(nums):\n",
        "    if nums[right] - nums[left] == 1:\n",
        "      max_length = max(max_length, right - left + 1)\n",
        "    if nums[right] - nums[left] <= 1:\n",
        "      right += 1\n",
        "    else:\n",
        "      left += 1\n",
        "  return max_length\n",
        "### Driver Code\n",
        "print(\"****************************************** Test Case 1 *******************************************************\")\n",
        "nums = [1,3,2,2,5,2,3,7]\n",
        "res = subarray(nums)\n",
        "print(res)\n",
        "print(\"****************************************** Test Case 2 *******************************************************\")\n",
        "nums1 = [1,2,3,4]\n",
        "res1 = subarray(nums1)\n",
        "print(res1)\n",
        "print(\"****************************************** Test Case 3 *******************************************************\")\n",
        "nums2 =[1,1,1,1]\n",
        "res2 = subarray(nums2)\n",
        "print(res2)"
      ],
      "metadata": {
        "id": "-2OFPiS5C6_z",
        "colab": {
          "base_uri": "https://localhost:8080/"
        },
        "outputId": "e2603eae-832f-4ff4-a7ff-5c55258efe6a"
      },
      "execution_count": null,
      "outputs": [
        {
          "output_type": "stream",
          "name": "stdout",
          "text": [
            "****************************************** Test Case 1 *******************************************************\n",
            "5\n",
            "****************************************** Test Case 2 *******************************************************\n",
            "2\n",
            "****************************************** Test Case 3 *******************************************************\n",
            "0\n"
          ]
        }
      ]
    },
    {
      "cell_type": "markdown",
      "source": [
        "Time Complexity : O(nlogn)"
      ],
      "metadata": {
        "id": "NlWFW7c9-rl1"
      }
    },
    {
      "cell_type": "markdown",
      "source": [
        "Question 4\n",
        "You have a long flowerbed in which some of the plots are planted, and some are not.\n",
        "However, flowers cannot be planted in adjacent plots.\n",
        "Given an integer array flowerbed containing 0's and 1's, where 0 means empty and 1 means not empty, and an integer n, return true if n new flowers can be planted in the flowerbed without violating the no-adjacent-flowers rule and false otherwise.\n",
        "\n",
        "Example 1:\n",
        "Input: flowerbed = [1,0,0,0,1], n = 1\n",
        "Output: true"
      ],
      "metadata": {
        "id": "UHZu74aN-2rr"
      }
    },
    {
      "cell_type": "code",
      "source": [
        "def plantflowerbed(arr,ni):\n",
        "  i =0\n",
        "  n = len(arr)\n",
        "  count = 0\n",
        "  while i < n:\n",
        "    if arr[i]==0:\n",
        "      if (i == 0 or arr[i-1] == 0) and (i == n-1 or arr[i+1] == 0):\n",
        "        arr[i] = 1\n",
        "        count += 1\n",
        "        i += 2\n",
        "      else:\n",
        "        i += 1\n",
        "    else:\n",
        "      i += 2\n",
        "  if count == ni:\n",
        "    return True\n",
        "  else:\n",
        "    return False\n",
        "### Driver Code\n",
        "print(\"****************************************** Test Case 1 *******************************************************\")\n",
        "flowerbed1 = [1,0,0,0,1]\n",
        "n1 = 1\n",
        "res1 = plantflowerbed(flowerbed1,n1)\n",
        "print(res1)\n",
        "print(\"****************************************** Test Case 2 *******************************************************\")\n",
        "flowerbed2 = [1,0,0,0,1]\n",
        "n2 = 2\n",
        "res2 = plantflowerbed(flowerbed2,n2)\n",
        "print(res2)"
      ],
      "metadata": {
        "colab": {
          "base_uri": "https://localhost:8080/"
        },
        "id": "NkFbyWr87VUw",
        "outputId": "15a47979-6b26-46b7-8507-99e1b5a6e5e0"
      },
      "execution_count": null,
      "outputs": [
        {
          "output_type": "stream",
          "name": "stdout",
          "text": [
            "****************************************** Test Case 1 *******************************************************\n",
            "True\n",
            "****************************************** Test Case 2 *******************************************************\n",
            "False\n"
          ]
        }
      ]
    },
    {
      "cell_type": "code",
      "source": [
        "def plantflowerbed(flowerbed, n):\n",
        "    i = 0\n",
        "    count = 0\n",
        "    while i < len(flowerbed):\n",
        "        if flowerbed[i] == 0:\n",
        "            if (i == 0 or flowerbed[i-1] == 0) and (i == len(flowerbed)-1 or flowerbed[i+1] == 0 if i+1 < len(flowerbed) else 0):\n",
        "                flowerbed[i] = 1\n",
        "                count += 1\n",
        "                i += 2\n",
        "            else:\n",
        "                i += 1\n",
        "        else:\n",
        "            i += 1\n",
        "    if count >= n:\n",
        "        return True\n",
        "    else:\n",
        "        return False\n",
        "\n",
        "### Driver Code\n",
        "print(\"****************************************** Test Case 1 *******************************************************\")\n",
        "flowerbed1 = [1,0,0,0,1]\n",
        "n1 = 1\n",
        "res1 = plantflowerbed(flowerbed1,n1)\n",
        "print(res1)\n",
        "print(\"****************************************** Test Case 2 *******************************************************\")\n",
        "flowerbed2 = [1,0,0,0,1]\n",
        "n2 = 2\n",
        "res2 = plantflowerbed(flowerbed2,n2)\n",
        "print(res2)\n",
        "### Driver Code\n",
        "print(\"****************************************** Test Case 3 *******************************************************\")\n",
        "flowerbed1 = [0,0,1,0,0]\n",
        "n1 = 1\n",
        "res1 = plantflowerbed(flowerbed1,n1)\n",
        "print(res1)"
      ],
      "metadata": {
        "colab": {
          "base_uri": "https://localhost:8080/"
        },
        "id": "mY08YZlDOw0I",
        "outputId": "98f6c134-bd5c-4f7e-b2aa-98f11999b593"
      },
      "execution_count": null,
      "outputs": [
        {
          "output_type": "stream",
          "name": "stdout",
          "text": [
            "****************************************** Test Case 1 *******************************************************\n",
            "True\n",
            "****************************************** Test Case 2 *******************************************************\n",
            "False\n",
            "****************************************** Test Case 3 *******************************************************\n",
            "True\n"
          ]
        }
      ]
    },
    {
      "cell_type": "markdown",
      "source": [
        "Question 5\n",
        "Given an integer array nums, find three numbers whose product is maximum and return the maximum product.\n",
        "\n",
        "Example 1:\n",
        "Input: nums = [1,2,3]\n",
        "Output: 6"
      ],
      "metadata": {
        "id": "4u3D6l5QWVPq"
      }
    },
    {
      "cell_type": "code",
      "source": [
        "def max_product(arr):\n",
        "    arr.sort()\n",
        "    n = len(arr)\n",
        "    max_product = float('-inf')\n",
        "\n",
        "    for i in range(0, len(arr)):\n",
        "        l = i + 1\n",
        "        r = n - 1\n",
        "        while l < r:\n",
        "            product = arr[i] * arr[l] * arr[r]\n",
        "            max_product = max(max_product, product)\n",
        "            if product < max_product:\n",
        "                l += 1\n",
        "            else:\n",
        "                r -= 1\n",
        "\n",
        "    return max_product\n",
        "\n",
        "# Driver Code\n",
        "nums = [1, 2, 3]\n",
        "res = max_product(nums)\n",
        "print(res)\n"
      ],
      "metadata": {
        "id": "Rlnt7LEVYLHp",
        "colab": {
          "base_uri": "https://localhost:8080/"
        },
        "outputId": "8dadcccf-1ed4-42ea-97dd-670a0ef60bf8"
      },
      "execution_count": null,
      "outputs": [
        {
          "output_type": "stream",
          "name": "stdout",
          "text": [
            "6\n"
          ]
        }
      ]
    },
    {
      "cell_type": "markdown",
      "source": [
        "Time Complexity : O(nˆ2)"
      ],
      "metadata": {
        "id": "XXpAE8W1kXm4"
      }
    },
    {
      "cell_type": "markdown",
      "source": [
        "Question 6\n",
        "Given an array of integers nums which is sorted in ascending order, and an integer target,\n",
        "write a function to search target in nums. If target exists, then return its index. Otherwise,\n",
        "return -1.\n",
        "\n",
        "You must write an algorithm with O(log n) runtime complexity.\n",
        "\n",
        "Input: nums = [-1,0,3,5,9,12], target = 9\n",
        "Output: 4\n",
        "\n",
        "Explanation: 9 exists in nums and its index is 4"
      ],
      "metadata": {
        "id": "MUD8wNq2kdDd"
      }
    },
    {
      "cell_type": "code",
      "source": [
        "def find_target(arr,target):\n",
        "  left = 0\n",
        "  right = len(arr)-1\n",
        "\n",
        "  while left <= right:\n",
        "    mid = left + (right-left)//2\n",
        "\n",
        "    if arr[mid] == target:\n",
        "      return mid\n",
        "\n",
        "    elif arr[mid] < target:\n",
        "      left = mid + 1\n",
        "\n",
        "    else:\n",
        "      right = mid - 1 \n",
        "  return -1\n",
        "###Driver Code\n",
        "nums = [-1,0,3,5,9,12]\n",
        "target1 = 9\n",
        "res = find_target(nums,target1)\n",
        "print(res)    "
      ],
      "metadata": {
        "colab": {
          "base_uri": "https://localhost:8080/"
        },
        "id": "JkI9gISPZGr6",
        "outputId": "34370a94-9ece-4c92-8045-954a4776e7b6"
      },
      "execution_count": null,
      "outputs": [
        {
          "output_type": "stream",
          "name": "stdout",
          "text": [
            "4\n"
          ]
        }
      ]
    },
    {
      "cell_type": "markdown",
      "source": [
        "Question 7\n",
        "An array is monotonic if it is either monotone increasing or monotone decreasing.\n",
        "\n",
        "An array nums is monotone increasing if for all i <= j, nums[i] <= nums[j]. An array nums is\n",
        "monotone decreasing if for all i <= j, nums[i] >= nums[j].\n",
        "\n",
        "Given an integer array nums, return true if the given array is monotonic, or false otherwise.\n",
        "\n",
        "Example 1:\n",
        "Input: nums = [1,2,2,3]\n",
        "Output: true"
      ],
      "metadata": {
        "id": "FA6Qv21HrIFK"
      }
    },
    {
      "cell_type": "code",
      "source": [
        "def monotonic_sequnce(arr):\n",
        "  for i in range(len(arr)-1):\n",
        "    if arr[i] <= arr[i+1]:\n",
        "      continue\n",
        "    else:\n",
        "      return False\n",
        "  return  True\n",
        "### Driver Code\n",
        "nums = [1,2,2,3]\n",
        "res = monotonic_sequnce(nums)\n",
        "print(res)"
      ],
      "metadata": {
        "colab": {
          "base_uri": "https://localhost:8080/"
        },
        "id": "sm_1AJ-7pqZy",
        "outputId": "b1431faf-7067-4318-f058-8896a4795ddf"
      },
      "execution_count": null,
      "outputs": [
        {
          "output_type": "stream",
          "name": "stdout",
          "text": [
            "True\n"
          ]
        }
      ]
    },
    {
      "cell_type": "markdown",
      "source": [
        "Time Complexity : O(n)\n",
        "\n",
        "Space Complexity : O(1)"
      ],
      "metadata": {
        "id": "YUQjoQBQxMBi"
      }
    },
    {
      "cell_type": "markdown",
      "source": [
        "Question : - 8\n",
        "\n",
        "You are given an integer array nums and an integer k.\n",
        "\n",
        "In one operation, you can choose any index i where 0 <= i < nums.length and change nums[i] to nums[i] + x where x is an integer from the range [-k, k]. You can apply this operation at most once for each index i.\n",
        "\n",
        "The score of nums is the difference between the maximum and minimum elements in nums.\n",
        "\n",
        "Return the minimum score of nums after applying the mentioned operation at most once for each index in it.\n",
        "\n",
        "Example 1:\n",
        "Input: nums = [1], k = 0\n",
        "Output: 0\n",
        "\n",
        "Explanation: The score is max(nums) - min(nums) = 1 - 1 = 0."
      ],
      "metadata": {
        "id": "8GBZru1RKMPq"
      }
    },
    {
      "cell_type": "code",
      "source": [
        "def minimum_score(nums, k):\n",
        "    minimum = min(nums)\n",
        "    maximum = max(nums)\n",
        "    \n",
        "    initial_score = maximum - minimum\n",
        "    \n",
        "    if initial_score <= 2 * k:\n",
        "        return 0\n",
        "    \n",
        "    modified_max = maximum - k\n",
        "    modified_min = minimum + k\n",
        "    \n",
        "    new_maximum = max(modified_max, max(nums) - k)\n",
        "    new_minimum = min(modified_min, min(nums) + k)\n",
        "    \n",
        "    return new_maximum - new_minimum\n",
        "# Driver Code\n",
        "nums = [1]\n",
        "k = 0\n",
        "result = minimum_score(nums, k)\n",
        "print(result)\n"
      ],
      "metadata": {
        "id": "s6yquvwytYbe",
        "colab": {
          "base_uri": "https://localhost:8080/"
        },
        "outputId": "7e6b0a70-19a0-4575-8bc9-e3bbf5ef4775"
      },
      "execution_count": 1,
      "outputs": [
        {
          "output_type": "stream",
          "name": "stdout",
          "text": [
            "0\n"
          ]
        }
      ]
    },
    {
      "cell_type": "code",
      "source": [],
      "metadata": {
        "id": "xXzj0GN3NeRH"
      },
      "execution_count": null,
      "outputs": []
    }
  ]
}