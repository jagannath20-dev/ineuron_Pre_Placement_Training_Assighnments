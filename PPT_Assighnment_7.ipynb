{
  "nbformat": 4,
  "nbformat_minor": 0,
  "metadata": {
    "colab": {
      "provenance": []
    },
    "kernelspec": {
      "name": "python3",
      "display_name": "Python 3"
    },
    "language_info": {
      "name": "python"
    }
  },
  "cells": [
    {
      "cell_type": "markdown",
      "source": [
        "<aside>\n",
        "💡 **Question 1**\n",
        "\n",
        "Given two strings s and t, *determine if they are isomorphic*.\n",
        "\n",
        "Two strings s and t are isomorphic if the characters in s can be replaced to get t.\n",
        "\n",
        "All occurrences of a character must be replaced with another character while preserving the order of characters. No two characters may map to the same character, but a character may map to itself.\n",
        "\n",
        "**Example 1:**\n",
        "\n",
        "**Input:** s = \"egg\", t = \"add\"\n",
        "\n",
        "**Output:** true\n",
        "\n",
        "</aside>"
      ],
      "metadata": {
        "id": "V_fpVVf8C0rm"
      }
    },
    {
      "cell_type": "code",
      "execution_count": null,
      "metadata": {
        "colab": {
          "base_uri": "https://localhost:8080/"
        },
        "id": "G2utlX9hCudS",
        "outputId": "cbf02a76-6f76-4a96-ff48-ab7e8f77cff6"
      },
      "outputs": [
        {
          "output_type": "stream",
          "name": "stdout",
          "text": [
            "True\n"
          ]
        }
      ],
      "source": [
        "def Isisomorphic(s,t):\n",
        "  if len(s) != len(t):\n",
        "    return False\n",
        "  s_to_t = {}\n",
        "  t_to_s = {}\n",
        "  for c1,c2 in zip(s,t):\n",
        "    if c1 not in s_to_t and c2 not in t_to_s:\n",
        "      s_to_t[c1] = c2\n",
        "      t_to_s[c2] = c1\n",
        "    elif c1 in s_to_t and c2 in t_to_s:\n",
        "      if s_to_t[c1] != c2 or t_to_s[c2] != c1:\n",
        "        return False\n",
        "    else:\n",
        "      return False\n",
        "\n",
        "  return True\n",
        "###Driver Code\n",
        "s = \"egg\"\n",
        "t = \"add\"\n",
        "res = Isisomorphic(s,t)\n",
        "print(res)"
      ]
    },
    {
      "cell_type": "markdown",
      "source": [
        "<aside>\n",
        "💡 **Question 2**\n",
        "\n",
        "Given a string num which represents an integer, return true *if* num *is a **strobogrammatic number***.\n",
        "\n",
        "A **strobogrammatic number** is a number that looks the same when rotated 180 degrees (looked at upside down).\n",
        "\n",
        "**Example 1:**\n",
        "\n",
        "**Input:** num = \"69\"\n",
        "\n",
        "**Output:**\n",
        "\n",
        "true"
      ],
      "metadata": {
        "id": "nDq9YxSLx7sr"
      }
    },
    {
      "cell_type": "code",
      "source": [
        "def isStrobogrammatic(num):\n",
        "    left = 0\n",
        "    right = len(num) - 1\n",
        "    strobogrammatic_pairs = {'0':'0', '1':'1', '6':'9', '8':'8', '9':'6'}\n",
        "\n",
        "    while left <= right:\n",
        "        ch1 = num[left]\n",
        "        ch2 = num[right]\n",
        "\n",
        "        if ch1 not in strobogrammatic_pairs or strobogrammatic_pairs[ch1] != ch2:\n",
        "            return False\n",
        "\n",
        "        left += 1\n",
        "        right -= 1\n",
        "\n",
        "    return True\n",
        "### Driver Code\n",
        "num = \"69\"\n",
        "result = isStrobogrammatic(num)\n",
        "print(result) "
      ],
      "metadata": {
        "id": "IoqQ13IgPFDj",
        "colab": {
          "base_uri": "https://localhost:8080/"
        },
        "outputId": "78f938a3-0200-46d8-d32c-c6c4c15d04af"
      },
      "execution_count": null,
      "outputs": [
        {
          "output_type": "stream",
          "name": "stdout",
          "text": [
            "True\n"
          ]
        }
      ]
    },
    {
      "cell_type": "markdown",
      "source": [
        "💡 **Question 3**\n",
        "\n",
        "Given two non-negative integers, num1 and num2 represented as string, return *the sum of* num1 *and* num2 *as a string*.\n",
        "\n",
        "You must solve the problem without using any built-in library for handling large integers (such as BigInteger). You must also not convert the inputs to integers directly.\n",
        "\n",
        "**Example 1:**\n",
        "\n",
        "**Input:** num1 = \"11\", num2 = \"123\"\n",
        "\n",
        "**Output:**\n",
        "\n",
        "\"134\""
      ],
      "metadata": {
        "id": "9blFMXxeWyhf"
      }
    },
    {
      "cell_type": "code",
      "source": [
        "def addStrings(num1, num2):\n",
        "    i = len(num1) - 1\n",
        "    j = len(num2) - 1\n",
        "    carry = 0\n",
        "    result = []\n",
        "\n",
        "    while i >= 0 or j >= 0 or carry > 0:\n",
        "        digit1 = int(num1[i]) if i >= 0 else 0\n",
        "        digit2 = int(num2[j]) if j >= 0 else 0\n",
        "        total = digit1 + digit2 + carry\n",
        "        digit = total % 10\n",
        "        carry = total // 10\n",
        "        result.append(str(digit))\n",
        "        i -= 1\n",
        "        j -= 1\n",
        "\n",
        "    result.reverse()\n",
        "    return ''.join(result)\n",
        "\n",
        "###Driver Code\n",
        "num1 = \"11\"\n",
        "num2 = \"123\"\n",
        "result = addStrings(num1, num2)\n",
        "print(result)"
      ],
      "metadata": {
        "id": "K8HHd5BazkmE",
        "colab": {
          "base_uri": "https://localhost:8080/"
        },
        "outputId": "e47143aa-5346-444d-93ec-fc932bbef8b4"
      },
      "execution_count": 1,
      "outputs": [
        {
          "output_type": "stream",
          "name": "stdout",
          "text": [
            "134\n"
          ]
        }
      ]
    },
    {
      "cell_type": "markdown",
      "source": [
        "<aside>\n",
        "💡 **Question 4**\n",
        "\n",
        "Given a string s, reverse the order of characters in each word within a sentence while still preserving whitespace and initial word order.\n",
        "\n",
        "**Example 1:**\n",
        "\n",
        "**Input:** s = \"Let's take LeetCode contest\"\n",
        "\n",
        "**Output:** \"s'teL ekat edoCteeL tsetnoc\"\n",
        "\n",
        "</aside>"
      ],
      "metadata": {
        "id": "NeucjI3-e4MB"
      }
    },
    {
      "cell_type": "code",
      "source": [
        "def reverseWords(s):\n",
        "    # Split the sentence into words\n",
        "    words = s.split()\n",
        "\n",
        "    # Reverse each word\n",
        "    reversed_words = [word[::-1] for word in words]\n",
        "\n",
        "    # Join the reversed words back together with whitespace\n",
        "    reversed_sentence = ' '.join(reversed_words)\n",
        "\n",
        "    return reversed_sentence\n",
        "\n",
        "###Driver Code\n",
        "s = \"Let's take LeetCode contest\"\n",
        "reversed_sentence = reverseWords(s)\n",
        "print(reversed_sentence)"
      ],
      "metadata": {
        "colab": {
          "base_uri": "https://localhost:8080/"
        },
        "id": "NYFWmTSCekqV",
        "outputId": "00760cd5-99c3-407c-8c87-28f52ca5e205"
      },
      "execution_count": 2,
      "outputs": [
        {
          "output_type": "stream",
          "name": "stdout",
          "text": [
            "s'teL ekat edoCteeL tsetnoc\n"
          ]
        }
      ]
    },
    {
      "cell_type": "markdown",
      "source": [
        "<aside>\n",
        "💡 **Question 5**\n",
        "\n",
        "Given a string s and an integer k, reverse the first k characters for every 2k characters counting from the start of the string.\n",
        "\n",
        "If there are fewer than k characters left, reverse all of them. If there are less than 2k but greater than or equal to k characters, then reverse the first k characters and leave the other as original.\n",
        "\n",
        "**Example 1:**\n",
        "\n",
        "**Input:** s = \"abcdefg\", k = 2\n",
        "\n",
        "**Output:**\n",
        "\n",
        "\"bacdfeg\""
      ],
      "metadata": {
        "id": "QVlftwyVe_ed"
      }
    },
    {
      "cell_type": "code",
      "source": [
        "def reverseStr(s, k):\n",
        "    # Convert the string to a list to make it mutable\n",
        "    chars = list(s)\n",
        "    \n",
        "    # Iterate through the string in steps of 2k\n",
        "    for i in range(0, len(chars), 2 * k):\n",
        "        # Reverse the first k characters\n",
        "        chars[i:i+k] = chars[i:i+k][::-1]\n",
        "    reversed_str = ''.join(chars)\n",
        "    \n",
        "    return reversed_str\n",
        "\n",
        "###Driver Code\n",
        "s = \"abcdefg\"\n",
        "k = 2\n",
        "reversed_str = reverseStr(s, k)\n",
        "print(reversed_str)"
      ],
      "metadata": {
        "colab": {
          "base_uri": "https://localhost:8080/"
        },
        "id": "wR7g6s7Me81C",
        "outputId": "f6138ed0-6fe4-4ac4-dc17-1a4ce3e77c1a"
      },
      "execution_count": 3,
      "outputs": [
        {
          "output_type": "stream",
          "name": "stdout",
          "text": [
            "bacdfeg\n"
          ]
        }
      ]
    },
    {
      "cell_type": "markdown",
      "source": [
        "<aside>\n",
        "💡 **Question 6**\n",
        "\n",
        "Given two strings s and goal, return true *if and only if* s *can become* goal *after some number of **shifts** on* s.\n",
        "\n",
        "A **shift** on s consists of moving the leftmost character of s to the rightmost position.\n",
        "\n",
        "- For example, if s = \"abcde\", then it will be \"bcdea\" after one shift.\n",
        "\n",
        "**Example 1:**\n",
        "\n",
        "**Input:** s = \"abcde\", goal = \"cdeab\"\n",
        "\n",
        "**Output:**\n",
        "\n",
        "true"
      ],
      "metadata": {
        "id": "4euiCdrLfN42"
      }
    },
    {
      "cell_type": "code",
      "source": [
        "def isShiftedString(s, goal):\n",
        "    # Check if goal is a substring of s + s\n",
        "    return len(s) == len(goal) and goal in (s + s)\n",
        "\n",
        "###Driver Code\n",
        "s = \"abcde\"\n",
        "goal = \"cdeab\"\n",
        "result = isShiftedString(s, goal)\n",
        "print(result)"
      ],
      "metadata": {
        "colab": {
          "base_uri": "https://localhost:8080/"
        },
        "id": "qxcf4zdofJc2",
        "outputId": "dc5db40f-c0a6-4edd-e7f2-db60dfcc6490"
      },
      "execution_count": 4,
      "outputs": [
        {
          "output_type": "stream",
          "name": "stdout",
          "text": [
            "True\n"
          ]
        }
      ]
    },
    {
      "cell_type": "markdown",
      "source": [
        "<aside>\n",
        "💡 **Question 7**\n",
        "\n",
        "Given two strings s and t, return true *if they are equal when both are typed into empty text editors*. '#' means a backspace character.\n",
        "\n",
        "Note that after backspacing an empty text, the text will continue empty.\n",
        "\n",
        "**Example 1:**\n",
        "\n",
        "**Input:** s = \"ab#c\", t = \"ad#c\"\n",
        "\n",
        "**Output:** true\n",
        "\n",
        "**Explanation:**\n",
        "\n",
        "Both s and t become \"ac\"."
      ],
      "metadata": {
        "id": "co_ihcEIfdBQ"
      }
    },
    {
      "cell_type": "code",
      "source": [
        "def isTypingEqual(s, t):\n",
        "    # Function to process the string and return the final result\n",
        "    def processString(string):\n",
        "        stack = []\n",
        "        for char in string:\n",
        "            if char == '#':\n",
        "                if stack:\n",
        "                    stack.pop()\n",
        "            else:\n",
        "                stack.append(char)\n",
        "        return ''.join(stack)\n",
        "\n",
        "    # Process both strings and compare the results\n",
        "    return processString(s) == processString(t)\n",
        "\n",
        "###Driver Code\n",
        "s = \"ab#c\"\n",
        "t = \"ad#c\"\n",
        "result = isTypingEqual(s, t)\n",
        "print(result)"
      ],
      "metadata": {
        "colab": {
          "base_uri": "https://localhost:8080/"
        },
        "id": "STU-4LUEfY4D",
        "outputId": "da190dff-9a16-4d3b-9d03-9d24e67cfbf0"
      },
      "execution_count": 5,
      "outputs": [
        {
          "output_type": "stream",
          "name": "stdout",
          "text": [
            "True\n"
          ]
        }
      ]
    },
    {
      "cell_type": "markdown",
      "source": [
        "<aside>\n",
        "💡 **Question 8**\n",
        "\n",
        "You are given an array coordinates, coordinates[i] = [x, y], where [x, y] represents the coordinate of a point. Check if these points make a straight line in the XY plane.\n",
        "\n",
        "**Example 1:**\n",
        "\n",
        "**Input:** coordinates = [[1,2],[2,3],[3,4],[4,5],[5,6],[6,7]]\n",
        "\n",
        "**Output:** true"
      ],
      "metadata": {
        "id": "6sEhkuUXftVR"
      }
    },
    {
      "cell_type": "code",
      "source": [
        "def checkStraightLine(coordinates):\n",
        "    # Calculate the slope between two points (x1, y1) and (x2, y2)\n",
        "    def calculateSlope(x1, y1, x2, y2):\n",
        "        if x2 - x1 == 0:\n",
        "            return float('inf')  # Return infinity if the line is vertical\n",
        "        return (y2 - y1) / (x2 - x1)\n",
        "\n",
        "    # Check the slope between each pair of consecutive points\n",
        "    x1, y1 = coordinates[0]\n",
        "    x2, y2 = coordinates[1]\n",
        "    expected_slope = calculateSlope(x1, y1, x2, y2)\n",
        "    for i in range(2, len(coordinates)):\n",
        "        x1, y1 = coordinates[i - 1]\n",
        "        x2, y2 = coordinates[i]\n",
        "        slope = calculateSlope(x1, y1, x2, y2)\n",
        "        if slope != expected_slope:\n",
        "            return False\n",
        "\n",
        "    return True\n",
        "\n",
        "###Driver Code\n",
        "coordinates = [[1,2],[2,3],[3,4],[4,5],[5,6],[6,7]]\n",
        "result = checkStraightLine(coordinates)\n",
        "print(result)"
      ],
      "metadata": {
        "colab": {
          "base_uri": "https://localhost:8080/"
        },
        "id": "M1a2ODswfnON",
        "outputId": "4e2a2ae8-e349-4af4-ec30-30673dcd5e92"
      },
      "execution_count": 6,
      "outputs": [
        {
          "output_type": "stream",
          "name": "stdout",
          "text": [
            "True\n"
          ]
        }
      ]
    },
    {
      "cell_type": "code",
      "source": [],
      "metadata": {
        "id": "unu30T15gDl5"
      },
      "execution_count": null,
      "outputs": []
    }
  ]
}