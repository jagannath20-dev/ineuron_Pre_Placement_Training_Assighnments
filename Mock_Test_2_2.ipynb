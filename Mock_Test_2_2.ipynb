{
  "nbformat": 4,
  "nbformat_minor": 0,
  "metadata": {
    "colab": {
      "provenance": []
    },
    "kernelspec": {
      "name": "python3",
      "display_name": "Python 3"
    },
    "language_info": {
      "name": "python"
    }
  },
  "cells": [
    {
      "cell_type": "code",
      "execution_count": 2,
      "metadata": {
        "colab": {
          "base_uri": "https://localhost:8080/"
        },
        "id": "ZafoGdUQKz2G",
        "outputId": "95a0fbf2-fefa-4719-e631-2a3249e5a1de"
      },
      "outputs": [
        {
          "output_type": "stream",
          "name": "stdout",
          "text": [
            "7 0 8 \n"
          ]
        }
      ],
      "source": [
        "class ListNode:\n",
        "    def __init__(self, val=0, next=None):\n",
        "        self.val = val\n",
        "        self.next = next\n",
        "\n",
        "def addTwoNumbers(l1, l2):\n",
        "    dummy = ListNode(0)\n",
        "    current = dummy\n",
        "    carry = 0\n",
        "\n",
        "    while l1 or l2:\n",
        "        x = l1.val if l1 else 0\n",
        "        y = l2.val if l2 else 0\n",
        "        sum = carry + x + y\n",
        "        carry = sum // 10\n",
        "        current.next = ListNode(sum % 10)\n",
        "        current = current.next\n",
        "\n",
        "        if l1:\n",
        "            l1 = l1.next\n",
        "        if l2:\n",
        "            l2 = l2.next\n",
        "\n",
        "    if carry > 0:\n",
        "        current.next = ListNode(carry)\n",
        "\n",
        "    return dummy.next\n",
        "\n",
        "### Driver Code\n",
        "l1 = ListNode(2)\n",
        "l1.next = ListNode(4)\n",
        "l1.next.next = ListNode(3)\n",
        "\n",
        "l2 = ListNode(5)\n",
        "l2.next = ListNode(6)\n",
        "l2.next.next = ListNode(4)\n",
        "\n",
        "result = addTwoNumbers(l1, l2)\n",
        "while result:\n",
        "    print(result.val, end=\" \")\n",
        "    result = result.next\n",
        "print()"
      ]
    },
    {
      "cell_type": "code",
      "source": [],
      "metadata": {
        "id": "KLSTyXSTK-6U"
      },
      "execution_count": null,
      "outputs": []
    }
  ]
}