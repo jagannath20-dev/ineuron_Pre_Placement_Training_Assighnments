{
  "nbformat": 4,
  "nbformat_minor": 0,
  "metadata": {
    "colab": {
      "provenance": []
    },
    "kernelspec": {
      "name": "python3",
      "display_name": "Python 3"
    },
    "language_info": {
      "name": "python"
    }
  },
  "cells": [
    {
      "cell_type": "markdown",
      "source": [
        "<aside>\n",
        "💡\n",
        "**Question 1**\n",
        "\n",
        "Given two linked list of the same size, the task is to create a new linked list using those linked lists. The condition is that the greater node among both linked list will be added to the new linked list.\n",
        "\n",
        "**Examples:**\n",
        "\n",
        "Input: list1 = 5->2->3->8\n",
        "list2 = 1->7->4->5\n",
        "Output: New list = 5->7->4->8\n",
        "\n",
        "Input:list1 = 2->8->9->3\n",
        "list2 = 5->3->6->4\n",
        "Output: New list = 5->8->9->4"
      ],
      "metadata": {
        "id": "-QTslo9Kk-4I"
      }
    },
    {
      "cell_type": "code",
      "source": [
        "# Python3 program to create a\n",
        "# new linked list from two given\n",
        "# linked list of the same size with\n",
        "# the greater element among the two\n",
        "# at each node\n",
        "\n",
        "# Node class\n",
        "class Node:\n",
        "\n",
        "\t# Function to initialise the node object\n",
        "\tdef __init__(self, data):\n",
        "\t\tself.data = data\n",
        "\t\tself.next = None\n",
        "\n",
        "# Function to insert node in a linked list\n",
        "def insert(root, item):\n",
        "\n",
        "\ttemp = Node(0)\n",
        "\ttemp.data = item\n",
        "\ttemp.next = None\n",
        "\n",
        "\tif (root == None):\n",
        "\t\troot = temp\n",
        "\telse :\n",
        "\t\tptr = root\n",
        "\t\twhile (ptr.next != None):\n",
        "\t\t\tptr = ptr.next\n",
        "\n",
        "\t\tptr.next = temp\n",
        "\n",
        "\treturn root\n",
        "\n",
        "# Function which returns new linked list\n",
        "def newList(root1, root2):\n",
        "\n",
        "\tptr1 = root1\n",
        "\tptr2 = root2\n",
        "\n",
        "\troot = None\n",
        "\twhile (ptr1 != None) :\n",
        "\t\ttemp = Node(0)\n",
        "\t\ttemp.next = None\n",
        "\n",
        "\t\t# Compare for greater node\n",
        "\t\tif (ptr1.data < ptr2.data):\n",
        "\t\t\ttemp.data = ptr2.data\n",
        "\t\telse:\n",
        "\t\t\ttemp.data = ptr1.data\n",
        "\n",
        "\t\tif (root == None):\n",
        "\t\t\troot = temp\n",
        "\t\telse :\n",
        "\t\t\tptr = root\n",
        "\t\t\twhile (ptr.next != None):\n",
        "\t\t\t\tptr = ptr.next\n",
        "\n",
        "\t\t\tptr.next = temp\n",
        "\n",
        "\t\tptr1 = ptr1.next\n",
        "\t\tptr2 = ptr2.next\n",
        "\n",
        "\treturn root\n",
        "\n",
        "def display(root):\n",
        "\n",
        "\twhile (root != None) :\n",
        "\t\tprint(root.data, \"->\", end = \" \")\n",
        "\t\troot = root.next\n",
        "\n",
        "\tprint(\" \");\n",
        "\n",
        "# Driver Code\n",
        "if __name__=='__main__':\n",
        "\n",
        "\troot1 = None\n",
        "\troot2 = None\n",
        "\troot = None\n",
        "\n",
        "\t# First linked list\n",
        "\troot1 = insert(root1, 5)\n",
        "\troot1 = insert(root1, 2)\n",
        "\troot1 = insert(root1, 3)\n",
        "\troot1 = insert(root1, 8)\n",
        "\n",
        "\tprint(\"First List: \", end = \" \")\n",
        "\tdisplay(root1)\n",
        "\n",
        "\t# Second linked list\n",
        "\troot2 = insert(root2, 1)\n",
        "\troot2 = insert(root2, 7)\n",
        "\troot2 = insert(root2, 4)\n",
        "\troot2 = insert(root2, 5)\n",
        "\n",
        "\tprint(\"Second List: \", end = \" \")\n",
        "\tdisplay(root2)\n",
        "\n",
        "\troot = newList(root1, root2)\n",
        "\tprint(\"New List: \", end = \" \")\n",
        "\tdisplay(root)"
      ],
      "metadata": {
        "colab": {
          "base_uri": "https://localhost:8080/"
        },
        "id": "V_u0PbVjsAYn",
        "outputId": "ebd6fb84-8a71-4c74-eff4-17e501711f7d"
      },
      "execution_count": 7,
      "outputs": [
        {
          "output_type": "stream",
          "name": "stdout",
          "text": [
            "First List:  5 -> 2 -> 3 -> 8 ->  \n",
            "Second List:  1 -> 7 -> 4 -> 5 ->  \n",
            "New List:  5 -> 7 -> 4 -> 8 ->  \n"
          ]
        }
      ]
    },
    {
      "cell_type": "markdown",
      "source": [
        "<aside>\n",
        "💡 **Question 2**\n",
        "\n",
        "Write a function that takes a list sorted in non-decreasing order and deletes any duplicate nodes from the list. The list should only be traversed once.\n",
        "\n",
        "For example if the linked list is 11->11->11->21->43->43->60 then removeDuplicates() should convert the list to 11->21->43->60.\n",
        "\n",
        "**Example 1:**\n",
        "\n",
        "```\n",
        "Input:\n",
        "LinkedList:\n",
        "11->11->11->21->43->43->60\n",
        "Output:\n",
        "11->21->43->60\n",
        "```\n",
        "\n",
        "**Example 2:**\n",
        "```\n",
        "Input:\n",
        "LinkedList:\n",
        "10->12->12->25->25->25->34\n",
        "Output:\n",
        "10->12->25->34\n",
        "\n",
        "```"
      ],
      "metadata": {
        "id": "kJPWJQoQsOTQ"
      }
    },
    {
      "cell_type": "code",
      "source": [
        "import math\n",
        "\n",
        "class Node:\n",
        "\n",
        "\tdef __init__(self, data):\n",
        "\n",
        "\t\tself.data = data\n",
        "\t\tself.next = None\n",
        "\n",
        "\n",
        "\n",
        "def removeDuplicates(head):\n",
        "\n",
        "\tif (head == None and\n",
        "\t\t\thead.next == None):\n",
        "\t\treturn\n",
        "\n",
        "\tcurrent = head\n",
        "\n",
        "\twhile (current.next):\n",
        "\n",
        "\t\tif current.data == current.next.data:\n",
        "\t\t\tcurrent.next = current.next.next\n",
        "\n",
        "\t\telse:\n",
        "\t\t\tcurrent = current.next\n",
        "\n",
        "\treturn\n",
        "\n",
        "\n",
        "def push(head_ref, new_data):\n",
        "\n",
        "\tnew_node = Node(new_data)\n",
        "\n",
        "\tnew_node.data = new_data\n",
        "\n",
        "\tnew_node.next = head_ref\n",
        "\n",
        "\thead_ref = new_node\n",
        "\n",
        "\treturn head_ref\n",
        "\n",
        "def printList(node):\n",
        "\n",
        "\twhile (node != None):\n",
        "\t\tprint(node.data, end=\" \")\n",
        "\t\tnode = node.next\n",
        "\n",
        "\n",
        "# Driver code\n",
        "if __name__ == '__main__':\n",
        "\n",
        "\thead = None\n",
        "\n",
        "\thead = push(head, 60)\n",
        "\thead = push(head, 43)\n",
        "\thead = push(head, 43)\n",
        "\thead = push(head, 21)\n",
        "\thead = push(head, 11)\n",
        "\thead = push(head, 11)\n",
        "\n",
        "\tprint(\"List before removal of \"\n",
        "\t\t\"duplicates \", end=\"\")\n",
        "\tprintList(head)\n",
        "\n",
        "\tremoveDuplicates(head)\n",
        "\n",
        "\tprint(\"\\nList after removal of \"\n",
        "\t\t\"elements \", end=\"\")\n",
        "\n",
        "\tprintList(head)"
      ],
      "metadata": {
        "colab": {
          "base_uri": "https://localhost:8080/"
        },
        "id": "P3yJC9uRsG6H",
        "outputId": "17ede21f-0d11-4aa9-f574-81b8acba05d9"
      },
      "execution_count": 19,
      "outputs": [
        {
          "output_type": "stream",
          "name": "stdout",
          "text": [
            "List before removal of duplicates 11 11 21 43 43 60 \n",
            "List after removal of elements 11 21 43 60 "
          ]
        }
      ]
    },
    {
      "cell_type": "markdown",
      "source": [
        "Given a linked list of size **N**. The task is to reverse every **k** nodes (where k is an input to the function) in the linked list. If the number of nodes is not a multiple of *k* then left-out nodes, in the end, should be considered as a group and must be reversed (See Example 2 for clarification).\n",
        "\n",
        "**Example 1:**\n",
        "\n",
        "```\n",
        "Input:\n",
        "LinkedList: 1->2->2->4->5->6->7->8\n",
        "K = 4\n",
        "Output:4 2 2 1 8 7 6 5\n",
        "Explanation:\n",
        "The first 4 elements 1,2,2,4 are reversed first\n",
        "and then the next 4 elements 5,6,7,8. Hence, the\n",
        "resultant linked list is 4->2->2->1->8->7->6->5.\n",
        "\n",
        "```\n",
        "\n",
        "**Example 2:**\n",
        "```\n",
        "Input:\n",
        "LinkedList: 1->2->3->4->5\n",
        "K = 3\n",
        "Output:3 2 1 5 4\n",
        "Explanation:\n",
        "The first 3 elements are 1,2,3 are reversed\n",
        "first and then elements 4,5 are reversed.Hence,\n",
        "the resultant linked list is 3->2->1->5->4.\n",
        "```"
      ],
      "metadata": {
        "id": "WeDiDMRzubI_"
      }
    },
    {
      "cell_type": "code",
      "source": [
        "class Node:\n",
        "    def __init__(self, value):\n",
        "        self.value = value\n",
        "        self.next = None\n",
        "\n",
        "def reverse_k_nodes(head, k):\n",
        "    if not head or k <= 1:\n",
        "        return head\n",
        "\n",
        "    current = head\n",
        "    prev = None\n",
        "    next_node = None\n",
        "    count = 0\n",
        "\n",
        "    # Reverse k nodes\n",
        "    while current and count < k:\n",
        "        next_node = current.next\n",
        "        current.next = prev\n",
        "        prev = current\n",
        "        current = next_node\n",
        "        count += 1\n",
        "\n",
        "    # Recursively reverse remaining nodes\n",
        "    if next_node is not None:\n",
        "        head.next = reverse_k_nodes(next_node, k)\n",
        "\n",
        "    return prev\n",
        "\n",
        "### Driver Code\n",
        "list1 = Node(1)\n",
        "list1.next = Node(2)\n",
        "list1.next.next = Node(2)\n",
        "list1.next.next.next = Node(4)\n",
        "list1.next.next.next.next = Node(5)\n",
        "list1.next.next.next.next.next = Node(6)\n",
        "list1.next.next.next.next.next.next = Node(7)\n",
        "list1.next.next.next.next.next.next.next = Node(8)\n",
        "\n",
        "k = 4\n",
        "\n",
        "reversed_list = reverse_k_nodes(list1, k)\n",
        "while reversed_list:\n",
        "    print(reversed_list.value, end=\" \")\n",
        "    reversed_list = reversed_list.next\n"
      ],
      "metadata": {
        "colab": {
          "base_uri": "https://localhost:8080/"
        },
        "id": "JEo7L0If7Sn0",
        "outputId": "b0f808c0-4c08-45b4-9ac2-845872bb57c5"
      },
      "execution_count": 29,
      "outputs": [
        {
          "output_type": "stream",
          "name": "stdout",
          "text": [
            "4 2 2 1 8 7 6 5 "
          ]
        }
      ]
    },
    {
      "cell_type": "markdown",
      "source": [
        "<aside>\n",
        "💡 **Question 4**\n",
        "\n",
        "Given a linked list, write a function to reverse every alternate k nodes (where k is an input to the function) in an efficient way. Give the complexity of your algorithm.\n",
        "\n",
        "**Example:**\n",
        "\n",
        "Inputs:   1->2->3->4->5->6->7->8->9->NULL and k = 3\n",
        "\n",
        "Output:   3->2->1->4->5->6->9->8->7->NULL."
      ],
      "metadata": {
        "id": "yf8BFs6Y7f7G"
      }
    },
    {
      "cell_type": "code",
      "source": [
        "class Node:\n",
        "    def __init__(self, value):\n",
        "        self.value = value\n",
        "        self.next = None\n",
        "\n",
        "def reverse_alternate_k_nodes(head, k):\n",
        "    if not head or k <= 1:\n",
        "        return head\n",
        "\n",
        "    current = head\n",
        "    prev = None\n",
        "    next_node = None\n",
        "    count = 0\n",
        "\n",
        "    # Reverse the first k nodes\n",
        "    while current and count < k:\n",
        "        next_node = current.next\n",
        "        current.next = prev\n",
        "        prev = current\n",
        "        current = next_node\n",
        "        count += 1\n",
        "\n",
        "    # Connect the first reversed portion to the remaining list\n",
        "    head.next = current\n",
        "\n",
        "    # Skip the next k nodes (alternate portion)\n",
        "    count = 0\n",
        "    while count < k - 1 and current is not None:\n",
        "        current = current.next\n",
        "        count += 1\n",
        "\n",
        "    # Recursively reverse the remaining list\n",
        "    if current is not None:\n",
        "        current.next = reverse_alternate_k_nodes(current.next, k)\n",
        "\n",
        "    return prev\n",
        "\n",
        "### Driver Code\n",
        "list1 = Node(1)\n",
        "list1.next = Node(2)\n",
        "list1.next.next = Node(3)\n",
        "list1.next.next.next = Node(4)\n",
        "list1.next.next.next.next = Node(5)\n",
        "list1.next.next.next.next.next = Node(6)\n",
        "list1.next.next.next.next.next.next = Node(7)\n",
        "list1.next.next.next.next.next.next.next = Node(8)\n",
        "list1.next.next.next.next.next.next.next.next = Node(9)\n",
        "\n",
        "k = 3\n",
        "\n",
        "reversed_list = reverse_alternate_k_nodes(list1, k)\n",
        "while reversed_list:\n",
        "    print(reversed_list.value, end=\" \")\n",
        "    reversed_list = reversed_list.next"
      ],
      "metadata": {
        "colab": {
          "base_uri": "https://localhost:8080/"
        },
        "id": "ycWsK-_57zL1",
        "outputId": "ff98c758-410e-475a-c575-d5ac3e214be4"
      },
      "execution_count": 31,
      "outputs": [
        {
          "output_type": "stream",
          "name": "stdout",
          "text": [
            "3 2 1 4 5 6 9 8 7 "
          ]
        }
      ]
    },
    {
      "cell_type": "markdown",
      "source": [
        "<aside>\n",
        "💡 **Question 5**\n",
        "\n",
        "Given a linked list and a key to be deleted. Delete last occurrence of key from linked. The list may have duplicates.\n",
        "\n",
        "**Examples**:\n",
        "\n",
        "Input:   1->2->3->5->2->10, key = 2\n",
        "Output:  1->2->3->5->10"
      ],
      "metadata": {
        "id": "Ekix55vS8DW5"
      }
    },
    {
      "cell_type": "code",
      "source": [
        "class Node:\n",
        "    def __init__(self, value):\n",
        "        self.value = value\n",
        "        self.next = None\n",
        "\n",
        "def delete_last_occurrence(head, key):\n",
        "    if not head:\n",
        "        return head\n",
        "\n",
        "    # Find the last occurrence of the key\n",
        "    last_occurrence = None\n",
        "    current = head\n",
        "    prev = None\n",
        "    prev_last_occurrence = None\n",
        "\n",
        "    while current:\n",
        "        if current.value == key:\n",
        "            prev_last_occurrence = prev\n",
        "            last_occurrence = current\n",
        "        prev = current\n",
        "        current = current.next\n",
        "\n",
        "    # Delete the last occurrence if found\n",
        "    if last_occurrence:\n",
        "        if prev_last_occurrence:\n",
        "            prev_last_occurrence.next = last_occurrence.next\n",
        "        else:\n",
        "            head = head.next\n",
        "\n",
        "    return head\n",
        "\n",
        "### Driver Code\n",
        "list1 = Node(1)\n",
        "list1.next = Node(2)\n",
        "list1.next.next = Node(3)\n",
        "list1.next.next.next = Node(5)\n",
        "list1.next.next.next.next = Node(2)\n",
        "list1.next.next.next.next.next = Node(10)\n",
        "\n",
        "key = 2\n",
        "\n",
        "new_list = delete_last_occurrence(list1, key)\n",
        "while new_list:\n",
        "    print(new_list.value, end=\" \")\n",
        "    new_list = new_list.next"
      ],
      "metadata": {
        "colab": {
          "base_uri": "https://localhost:8080/"
        },
        "id": "KQ0sVzVD8dLB",
        "outputId": "bfb3ee9b-de24-4d5b-f238-85513eb7efec"
      },
      "execution_count": 33,
      "outputs": [
        {
          "output_type": "stream",
          "name": "stdout",
          "text": [
            "1 2 3 5 10 "
          ]
        }
      ]
    },
    {
      "cell_type": "markdown",
      "source": [
        "<aside>\n",
        "💡 **Question 6**\n",
        "\n",
        "Given two sorted linked lists consisting of **N** and **M** nodes respectively. The task is to merge both of the lists (in place) and return the head of the merged list.\n",
        "\n",
        "**Examples:**\n",
        "\n",
        "Input: a: 5->10->15, b: 2->3->20\n",
        "\n",
        "Output: 2->3->5->10->15->20\n",
        "\n",
        "Input: a: 1->1, b: 2->4\n",
        "\n",
        "Output: 1->1->2->4\n"
      ],
      "metadata": {
        "id": "AmoTIcDG8qd2"
      }
    },
    {
      "cell_type": "code",
      "source": [
        "class Node:\n",
        "    def __init__(self, value):\n",
        "        self.value = value\n",
        "        self.next = None\n",
        "\n",
        "def merge_sorted_lists(head1, head2):\n",
        "    if not head1:\n",
        "        return head2\n",
        "    if not head2:\n",
        "        return head1\n",
        "\n",
        "    # Determine the head of the merged list\n",
        "    if head1.value <= head2.value:\n",
        "        merged_head = head1\n",
        "        head1 = head1.next\n",
        "    else:\n",
        "        merged_head = head2\n",
        "        head2 = head2.next\n",
        "\n",
        "    current = merged_head\n",
        "\n",
        "    # Merge the lists\n",
        "    while head1 and head2:\n",
        "        if head1.value <= head2.value:\n",
        "            current.next = head1\n",
        "            head1 = head1.next\n",
        "        else:\n",
        "            current.next = head2\n",
        "            head2 = head2.next\n",
        "        current = current.next\n",
        "\n",
        "    # Attach the remaining nodes\n",
        "    if head1:\n",
        "        current.next = head1\n",
        "    if head2:\n",
        "        current.next = head2\n",
        "\n",
        "    return merged_head\n",
        "\n",
        "# Example\n",
        "list1 = Node(1)\n",
        "list1.next = Node(1)\n",
        "\n",
        "list2 = Node(2)\n",
        "list2.next = Node(4)\n",
        "\n",
        "merged_list = merge_sorted_lists(list1, list2)\n",
        "while merged_list:\n",
        "    print(merged_list.value, end=\" \")\n",
        "    merged_list = merged_list.next\n",
        "# Output: 1 1 2 4\n"
      ],
      "metadata": {
        "colab": {
          "base_uri": "https://localhost:8080/"
        },
        "id": "HkUIYWn_9LPK",
        "outputId": "5be49128-1e69-4654-9c98-34dae5c27aee"
      },
      "execution_count": 37,
      "outputs": [
        {
          "output_type": "stream",
          "name": "stdout",
          "text": [
            "1 1 2 4 "
          ]
        }
      ]
    },
    {
      "cell_type": "markdown",
      "source": [
        "<aside>\n",
        "💡 **Question 7**\n",
        "\n",
        "Given a **Doubly Linked List**, the task is to reverse the given Doubly Linked List.\n",
        "\n",
        "**Example:**\n",
        "\n",
        "Original Linked list 10 8 4 2\n",
        "Reversed Linked list 2 4 8 10"
      ],
      "metadata": {
        "id": "2e-IMSH79iVU"
      }
    },
    {
      "cell_type": "code",
      "source": [
        "class Node:\n",
        "    def __init__(self, value):\n",
        "        self.value = value\n",
        "        self.prev = None\n",
        "        self.next = None\n",
        "\n",
        "def reverse_doubly_linked_list(head):\n",
        "    if not head:\n",
        "        return None\n",
        "\n",
        "    current = head\n",
        "    prev = None\n",
        "\n",
        "    while current:\n",
        "        next_node = current.next\n",
        "        current.next = prev\n",
        "        current.prev = next_node\n",
        "        prev = current\n",
        "        current = next_node\n",
        "\n",
        "    return prev\n",
        "\n",
        "### Driver COde\n",
        "list1 = Node(10)\n",
        "list1.next = Node(8)\n",
        "list1.next.prev = list1\n",
        "list1.next.next = Node(4)\n",
        "list1.next.next.prev = list1.next\n",
        "list1.next.next.next = Node(2)\n",
        "list1.next.next.next.prev = list1.next.next\n",
        "\n",
        "reversed_list = reverse_doubly_linked_list(list1)\n",
        "while reversed_list:\n",
        "    print(reversed_list.value, end=\" \")\n",
        "    reversed_list = reversed_list.next"
      ],
      "metadata": {
        "colab": {
          "base_uri": "https://localhost:8080/"
        },
        "id": "EB66xWIP9aG3",
        "outputId": "963655c9-06a0-4df0-8e0c-e448eadc71f3"
      },
      "execution_count": 38,
      "outputs": [
        {
          "output_type": "stream",
          "name": "stdout",
          "text": [
            "2 4 8 10 "
          ]
        }
      ]
    },
    {
      "cell_type": "markdown",
      "source": [
        "<aside>\n",
        "💡 **Question 8**\n",
        "\n",
        "Given a doubly linked list and a position. The task is to delete a node from given position in a doubly linked list.\n",
        "\n",
        "**Example 1:**\n",
        "\n",
        "```\n",
        "Input:\n",
        "LinkedList = 1 <--> 3 <--> 4\n",
        "x = 3\n",
        "Output:1 3\n",
        "Explanation:After deleting the node at\n",
        "position 3 (position starts from 1),\n",
        "the linked list will be now as 1->3.\n",
        "\n",
        "```\n",
        "\n",
        "**Example 2:**\n",
        "```\n",
        "Input:\n",
        "LinkedList = 1 <--> 5 <--> 2 <--> 9\n",
        "x = 1\n",
        "Output:5 2 9\n",
        "```"
      ],
      "metadata": {
        "id": "Eh5Is0awCR3d"
      }
    },
    {
      "cell_type": "code",
      "source": [
        "class Node:\n",
        "    def __init__(self, value):\n",
        "        self.value = value\n",
        "        self.prev = None\n",
        "        self.next = None\n",
        "\n",
        "def delete_node(head, position):\n",
        "    if not head:\n",
        "        return None\n",
        "\n",
        "    if position == 1:\n",
        "        new_head = head.next\n",
        "        if new_head:\n",
        "            new_head.prev = None\n",
        "        return new_head\n",
        "\n",
        "    current = head\n",
        "    count = 1\n",
        "\n",
        "    while current and count < position:\n",
        "        current = current.next\n",
        "        count += 1\n",
        "\n",
        "    if not current:\n",
        "        return head\n",
        "\n",
        "    prev_node = current.prev\n",
        "    prev_node.next = current.next\n",
        "\n",
        "    if current.next:\n",
        "        current.next.prev = prev_node\n",
        "\n",
        "    return head\n",
        "\n",
        "### Driver Code\n",
        "list1 = Node(1)\n",
        "list1.next = Node(3)\n",
        "list1.next.prev = list1\n",
        "list1.next.next = Node(4)\n",
        "list1.next.next.prev = list1.next\n",
        "\n",
        "position = 3\n",
        "new_head = delete_node(list1, position)\n",
        "while new_head:\n",
        "    print(new_head.value, end=\" \")\n",
        "    new_head = new_head.next"
      ],
      "metadata": {
        "colab": {
          "base_uri": "https://localhost:8080/"
        },
        "id": "LuFc4znkCKDm",
        "outputId": "bc3e8f23-0344-4fef-f1a5-3814f1d8d976"
      },
      "execution_count": 39,
      "outputs": [
        {
          "output_type": "stream",
          "name": "stdout",
          "text": [
            "1 3 "
          ]
        }
      ]
    },
    {
      "cell_type": "code",
      "source": [],
      "metadata": {
        "id": "E1-81nSSCirV"
      },
      "execution_count": null,
      "outputs": []
    }
  ]
}