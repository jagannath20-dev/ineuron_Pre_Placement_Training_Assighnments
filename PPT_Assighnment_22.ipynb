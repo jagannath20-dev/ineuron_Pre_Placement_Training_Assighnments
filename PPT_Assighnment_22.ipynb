{
  "nbformat": 4,
  "nbformat_minor": 0,
  "metadata": {
    "colab": {
      "provenance": []
    },
    "kernelspec": {
      "name": "python3",
      "display_name": "Python 3"
    },
    "language_info": {
      "name": "python"
    }
  },
  "cells": [
    {
      "cell_type": "markdown",
      "source": [
        "<aside>\n",
        "💡 Question-1:\n",
        "\n",
        "Given a Binary Tree (Bt), convert it to a Doubly Linked List(DLL). The left and right pointers in nodes are to be used as previous and next pointers respectively in converted DLL. The order of nodes in DLL must be the same as in Inorder for the given Binary Tree. The first node of Inorder traversal (leftmost node in BT) must be the head node of the DLL."
      ],
      "metadata": {
        "id": "MmBta29Vnvlw"
      }
    },
    {
      "cell_type": "code",
      "execution_count": 3,
      "metadata": {
        "colab": {
          "base_uri": "https://localhost:8080/"
        },
        "id": "-Nh7zaEsnkAX",
        "outputId": "2816ad7e-72b1-49bd-86cb-d239f76263fe"
      },
      "outputs": [
        {
          "output_type": "stream",
          "name": "stdout",
          "text": [
            "25 12 30 10 36 15 "
          ]
        }
      ],
      "source": [
        "class TreeNode:\n",
        "    def __init__(self, value):\n",
        "        self.val = value\n",
        "        self.left = None\n",
        "        self.right = None\n",
        "\n",
        "class DoublyLinkedListNode:\n",
        "    def __init__(self, value):\n",
        "        self.val = value\n",
        "        self.prev = None\n",
        "        self.next = None\n",
        "\n",
        "def binaryTreeToDLL(root):\n",
        "    if root is None:\n",
        "        return None\n",
        "\n",
        "    def convert(node, prev):\n",
        "        nonlocal head\n",
        "\n",
        "        if node is None:\n",
        "            return prev\n",
        "\n",
        "        # Convert the left subtree\n",
        "        prev = convert(node.left, prev)\n",
        "\n",
        "        # Create a new DoublyLinkedListNode\n",
        "        new_node = DoublyLinkedListNode(node.val)\n",
        "\n",
        "        if prev:\n",
        "            prev.next = new_node\n",
        "            new_node.prev = prev\n",
        "        else:\n",
        "            head = new_node\n",
        "\n",
        "        prev = new_node\n",
        "\n",
        "        # Convert the right subtree\n",
        "        prev = convert(node.right, prev)\n",
        "\n",
        "        return prev\n",
        "\n",
        "    head = None\n",
        "    convert(root, None)\n",
        "    return head\n",
        "\n",
        "# Example usage:\n",
        "# Create the input binary tree\n",
        "root = TreeNode(10)\n",
        "root.left = TreeNode(12)\n",
        "root.right = TreeNode(15)\n",
        "root.right.left = TreeNode(36)\n",
        "root.left.left = TreeNode(25)\n",
        "root.left.right = TreeNode(30)\n",
        "\n",
        "\n",
        "# Convert the binary tree to a doubly linked list\n",
        "head = binaryTreeToDLL(root)\n",
        "\n",
        "# Traverse the doubly linked list forwards to verify the output\n",
        "current = head\n",
        "while current is not None:\n",
        "    print(current.val, end=\" \")\n",
        "    current = current.next\n"
      ]
    },
    {
      "cell_type": "markdown",
      "source": [
        "<aside>\n",
        "💡 Question-2\n",
        "\n",
        "A Given a binary tree, the task is to flip the binary tree towards the right direction that is clockwise. See the below examples to see the transformation.\n",
        "\n",
        "In the flip operation, the leftmost node becomes the root of the flipped tree and its parent becomes its right child and the right sibling becomes its left child and the same should be done for all left most nodes recursively.\n",
        "\n",
        "</aside>"
      ],
      "metadata": {
        "id": "WLwmLbtlsiNC"
      }
    },
    {
      "cell_type": "code",
      "source": [
        "class TreeNode:\n",
        "    def __init__(self, value):\n",
        "        self.val = value\n",
        "        self.left = None\n",
        "        self.right = None\n",
        "\n",
        "def flipBinaryTree(root):\n",
        "    if root is None or (root.left is None and root.right is None):\n",
        "        return root\n",
        "\n",
        "    flipped_root = flipBinaryTree(root.left)\n",
        "\n",
        "    root.left.left = root.right\n",
        "    root.left.right = root\n",
        "\n",
        "    root.left = None\n",
        "    root.right = None\n",
        "\n",
        "    return flipped_root\n",
        "\n",
        "# Create the original binary tree\n",
        "root = TreeNode(1)\n",
        "root.left = TreeNode(2)\n",
        "root.right = TreeNode(3)\n",
        "root.left.left = TreeNode(4)\n",
        "root.left.right = TreeNode(5)\n",
        "root.right.left = TreeNode(6)\n",
        "root.right.right = TreeNode(7)\n",
        "\n",
        "# Perform the flip operation on the binary tree\n",
        "flipped_root = flipBinaryTree(root)\n",
        "\n",
        "# Function to perform an inorder traversal of the flipped binary tree\n",
        "def inorderTraversal(node):\n",
        "    if node is None:\n",
        "        return\n",
        "\n",
        "    inorderTraversal(node.left)\n",
        "    print(node.val, end=\" \")\n",
        "    inorderTraversal(node.right)\n",
        "\n",
        "# Print the values of the flipped binary tree using inorder traversal\n",
        "inorderTraversal(flipped_root)\n"
      ],
      "metadata": {
        "colab": {
          "base_uri": "https://localhost:8080/"
        },
        "id": "kMok0Otfn3Jf",
        "outputId": "b0862946-8d60-453a-cce1-6ebdc7d2c677"
      },
      "execution_count": 4,
      "outputs": [
        {
          "output_type": "stream",
          "name": "stdout",
          "text": [
            "5 4 6 3 7 2 1 "
          ]
        }
      ]
    },
    {
      "cell_type": "markdown",
      "source": [
        "<aside>\n",
        "💡 Question-3:\n",
        "\n",
        "Given a binary tree, print all its root-to-leaf paths without using recursion. For example, consider the following Binary Tree.\n",
        "\n",
        "Input:\n",
        "\n",
        "        6\n",
        "     /    \\\n",
        "    3      5\n",
        "  /   \\     \\\n",
        " 2     5     4\n",
        "     /   \\\n",
        "    7     4\n",
        "\n",
        "Output:\n",
        "\n",
        "There are 4 leaves, hence 4 root to leaf paths -\n",
        "  6->3->2\n",
        "  6->3->5->7\n",
        "  6->3->5->4\n",
        "  6->5>4\n",
        "\n",
        "</aside>"
      ],
      "metadata": {
        "id": "Elt8sBspsm0j"
      }
    },
    {
      "cell_type": "code",
      "source": [
        "class TreeNode:\n",
        "    def __init__(self, value):\n",
        "        self.val = value\n",
        "        self.left = None\n",
        "        self.right = None\n",
        "\n",
        "def printRootToLeafPaths(root):\n",
        "    if root is None:\n",
        "        return\n",
        "\n",
        "    stack = [(root, str(root.val))]  # Initialize stack with root and its value\n",
        "\n",
        "    while stack:\n",
        "        node, path = stack.pop()\n",
        "\n",
        "        # If node is a leaf, print the path\n",
        "        if node.left is None and node.right is None:\n",
        "            print(path)\n",
        "\n",
        "        # Push the right child to the stack if exists\n",
        "        if node.right is not None:\n",
        "            stack.append((node.right, path + \"->\" + str(node.right.val)))\n",
        "\n",
        "        # Push the left child to the stack if exists\n",
        "        if node.left is not None:\n",
        "            stack.append((node.left, path + \"->\" + str(node.left.val)))\n",
        "\n",
        "# Create the binary tree\n",
        "root = TreeNode(6)\n",
        "root.left = TreeNode(3)\n",
        "root.right = TreeNode(5)\n",
        "root.left.left = TreeNode(2)\n",
        "root.left.right = TreeNode(5)\n",
        "root.right.right = TreeNode(4)\n",
        "root.left.right.left = TreeNode(7)\n",
        "root.left.right.right = TreeNode(4)\n",
        "\n",
        "# Print all root-to-leaf paths\n",
        "printRootToLeafPaths(root)\n"
      ],
      "metadata": {
        "colab": {
          "base_uri": "https://localhost:8080/"
        },
        "id": "EjT3O2UTqMAe",
        "outputId": "f2a175e6-0201-454a-ed8e-b3fa6039fb1c"
      },
      "execution_count": 5,
      "outputs": [
        {
          "output_type": "stream",
          "name": "stdout",
          "text": [
            "6->3->2\n",
            "6->3->5->7\n",
            "6->3->5->4\n",
            "6->5->4\n"
          ]
        }
      ]
    },
    {
      "cell_type": "markdown",
      "source": [
        "<aside>\n",
        "💡 Question-4:\n",
        "\n",
        "Given Preorder, Inorder and Postorder traversals of some tree. Write a program to check if they all are of the same tree.\n",
        "\n",
        "**Examples:**\n",
        "\n",
        "Input :\n",
        "\n",
        "        Inorder -> 4 2 5 1 3\n",
        "        Preorder -> 1 2 4 5 3\n",
        "        Postorder -> 4 5 2 3 1\n",
        "Output :\n",
        "\n",
        "Yes\n",
        "Explanation :\n",
        "\n",
        "All of the above three traversals are of\n",
        "the same tree\n",
        "\n",
        "                           1\n",
        "                         /   \\\n",
        "                        2     3\n",
        "                      /   \\\n",
        "                     4     5\n",
        "\n",
        "Input :\n",
        "\n",
        "        Inorder -> 4 2 5 1 3\n",
        "        Preorder -> 1 5 4 2 3\n",
        "        Postorder -> 4 1 2 3 5\n",
        "Output :\n",
        "\n",
        "No\n",
        "\n",
        "</aside>"
      ],
      "metadata": {
        "id": "vPUN7f5ts0yo"
      }
    },
    {
      "cell_type": "code",
      "source": [
        "def checkSameTree(inorder, preorder, postorder):\n",
        "    if len(inorder) != len(preorder) or len(inorder) != len(postorder):\n",
        "        return False\n",
        "\n",
        "    # Base case: If the traversals are empty, they correspond to the same empty tree\n",
        "    if len(inorder) == 0:\n",
        "        return True\n",
        "\n",
        "    # The first element in preorder is the root of the tree\n",
        "    root = preorder[0]\n",
        "\n",
        "    # Find the index of the root in the inorder traversal\n",
        "    root_index = inorder.index(root)\n",
        "\n",
        "    # Split the inorder, preorder, and postorder traversals based on the root index\n",
        "    left_inorder = inorder[:root_index]\n",
        "    right_inorder = inorder[root_index+1:]\n",
        "\n",
        "    left_preorder = preorder[1:root_index+1]\n",
        "    right_preorder = preorder[root_index+1:]\n",
        "\n",
        "    left_postorder = postorder[:root_index]\n",
        "    right_postorder = postorder[root_index:-1]\n",
        "\n",
        "    # Recursively check if the left and right subtrees are the same trees\n",
        "    return (checkSameTree(left_inorder, left_preorder, left_postorder) and\n",
        "            checkSameTree(right_inorder, right_preorder, right_postorder))\n",
        "\n",
        "# Example 1\n",
        "inorder1 = [4, 2, 5, 1, 3]\n",
        "preorder1 = [1, 2, 4, 5, 3]\n",
        "postorder1 = [4, 5, 2, 3, 1]\n",
        "\n",
        "print(checkSameTree(inorder1, preorder1, postorder1))  # Output: True"
      ],
      "metadata": {
        "colab": {
          "base_uri": "https://localhost:8080/"
        },
        "id": "c8XZ61-ks8sT",
        "outputId": "211f78e6-3294-486f-a94d-ca392f68fb34"
      },
      "execution_count": 8,
      "outputs": [
        {
          "output_type": "stream",
          "name": "stdout",
          "text": [
            "True\n"
          ]
        }
      ]
    },
    {
      "cell_type": "code",
      "source": [],
      "metadata": {
        "id": "UDTg3nFNtjG6"
      },
      "execution_count": null,
      "outputs": []
    }
  ]
}