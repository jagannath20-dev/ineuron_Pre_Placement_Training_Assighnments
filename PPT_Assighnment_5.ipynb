{
  "nbformat": 4,
  "nbformat_minor": 0,
  "metadata": {
    "colab": {
      "provenance": []
    },
    "kernelspec": {
      "name": "python3",
      "display_name": "Python 3"
    },
    "language_info": {
      "name": "python"
    }
  },
  "cells": [
    {
      "cell_type": "markdown",
      "source": [
        "💡 **Question 1**\n",
        "\n",
        "Convert 1D Array Into 2D Array\n",
        "\n",
        "You are given a **0-indexed** 1-dimensional (1D) integer array original, and two integers, m and n. You are tasked with creating a 2-dimensional (2D) array with  m rows and n columns using **all** the elements from original.\n",
        "\n",
        "The elements from indices 0 to n - 1 (**inclusive**) of original should form the first row of the constructed 2D array, the elements from indices n to 2 * n - 1 (**inclusive**) should form the second row of the constructed 2D array, and so on.\n",
        "\n",
        "Return *an* m x n *2D array constructed according to the above procedure, or an empty 2D array if it is impossible*.\n",
        "\n",
        "**Input:** original = [1,2,3,4], m = 2, n = 2\n",
        "\n",
        "**Output:** [[1,2],[3,4]]\n",
        "\n",
        "**Explanation:** The constructed 2D array should contain 2 rows and 2 columns.\n",
        "\n",
        "The first group of n=2 elements in original, [1,2], becomes the first row in the constructed 2D array.\n",
        "\n",
        "The second group of n=2 elements in original, [3,4], becomes the second row in the constructed 2D array."
      ],
      "metadata": {
        "id": "ZrtOU8oZK0QN"
      }
    },
    {
      "cell_type": "code",
      "execution_count": null,
      "metadata": {
        "id": "OrAX0AH7KU8U",
        "colab": {
          "base_uri": "https://localhost:8080/"
        },
        "outputId": "4fa8f98a-38c0-41c4-febe-e08dd9f63faf"
      },
      "outputs": [
        {
          "output_type": "stream",
          "name": "stdout",
          "text": [
            "[[1, 2], [3, 4]]\n"
          ]
        }
      ],
      "source": [
        "def two_d_array(arr,m,n):\n",
        "  if m*n != len(arr):\n",
        "    return [] ### Returning the empty array if there is no possibility of constructing 2D array\n",
        "  result = []\n",
        "  for i in range(m):\n",
        "    result.append(arr[i*n:(i+1)*n])\n",
        "  return result\n",
        "\n",
        "###Driver Code\n",
        "original = [1,2,3,4]\n",
        "m = 2\n",
        "n = 2\n",
        "res = two_d_array(original,m,n)\n",
        "print(res)"
      ]
    },
    {
      "cell_type": "markdown",
      "source": [
        "You have n coins and you want to build a staircase with these coins. The staircase consists of k rows where the ith row has exactly i coins. The last row of the staircase **may be** incomplete.\n",
        "\n",
        "Given the integer n, return *the number of **complete rows** of the staircase you will build*.\n",
        "\n",
        "**Input:** n = 5\n",
        "\n",
        "**Output:** 2\n",
        "\n",
        "**Explanation:** Because the 3rd row is incomplete, we return 2"
      ],
      "metadata": {
        "id": "KBi3LkwqyD6c"
      }
    },
    {
      "cell_type": "code",
      "source": [
        "def arrange_matrix(n):\n",
        "  left = 0\n",
        "  right = n\n",
        "  while left <= right:\n",
        "    mid = (left + right) // 2\n",
        "    curr_sum = (mid * (mid + 1)) // 2\n",
        "        \n",
        "    if curr_sum <= n:\n",
        "      left = mid + 1\n",
        "    else:\n",
        "      right = mid - 1\n",
        "    \n",
        "  return right\n",
        "### Driver Code\n",
        "n = 5\n",
        "res = arrange_matrix(n)\n",
        "print(res)"
      ],
      "metadata": {
        "id": "wguDsv4FFfLX",
        "colab": {
          "base_uri": "https://localhost:8080/"
        },
        "outputId": "b9d44322-ee86-40d4-c7a8-6b44429b17fc"
      },
      "execution_count": 1,
      "outputs": [
        {
          "output_type": "stream",
          "name": "stdout",
          "text": [
            "2\n"
          ]
        }
      ]
    },
    {
      "cell_type": "markdown",
      "source": [
        "<aside>\n",
        "💡 **Question 3**\n",
        "\n",
        "Given an integer array nums sorted in **non-decreasing** order, return *an array of **the squares of each number** sorted in non-decreasing order*.\n",
        "\n",
        "**Example 1:**\n",
        "\n",
        "**Input:** nums = [-4,-1,0,3,10]\n",
        "\n",
        "**Output:** [0,1,9,16,100]\n",
        "\n",
        "**Explanation:** After squaring, the array becomes [16,1,0,9,100].\n",
        "\n",
        "After sorting, it becomes [0,1,9,16,100].\n",
        "\n",
        "</aside>"
      ],
      "metadata": {
        "id": "2xbveO9Dz0P7"
      }
    },
    {
      "cell_type": "code",
      "source": [
        "def square_array(arr):\n",
        "  arr2 =[]\n",
        "  for i in range(0,len(arr)):\n",
        "    res = arr[i]**2\n",
        "    arr2.append(res)\n",
        "    arr2.sort()\n",
        "  return arr2\n",
        "### Driver Code\n",
        "nums = [-4,-1,0,3,10]\n",
        "res = square_array(nums)\n",
        "print(res)"
      ],
      "metadata": {
        "colab": {
          "base_uri": "https://localhost:8080/"
        },
        "id": "0EuEfX-LzCVU",
        "outputId": "8233a720-aa19-42f4-8367-12dc2034fb03"
      },
      "execution_count": 2,
      "outputs": [
        {
          "output_type": "stream",
          "name": "stdout",
          "text": [
            "[0, 1, 9, 16, 100]\n"
          ]
        }
      ]
    },
    {
      "cell_type": "markdown",
      "source": [
        "Given two **0-indexed** integer arrays nums1 and nums2, return *a list* answer *of size* 2 *where:*\n",
        "\n",
        "- answer[0] *is a list of all **distinct** integers in* nums1 *which are **not** present in* nums2*.*\n",
        "- answer[1] *is a list of all **distinct** integers in* nums2 *which are **not** present in* nums1.\n",
        "\n",
        "**Note** that the integers in the lists may be returned in **any** order.\n",
        "\n",
        "**Example 1:**\n",
        "\n",
        "**Input:** nums1 = [1,2,3], nums2 = [2,4,6]\n",
        "\n",
        "**Output:** [[1,3],[4,6]]\n",
        "\n",
        "**Explanation:**\n",
        "\n",
        "For nums1, nums1[1] = 2 is present at index 0 of nums2, whereas nums1[0] = 1 and nums1[2] = 3 are not present in nums2. Therefore, answer[0] = [1,3].\n",
        "\n",
        "For nums2, nums2[0] = 2 is present at index 1 of nums1, whereas nums2[1] = 4 and nums2[2] = 6 are not present in nums2. Therefore, answer[1] = [4,6]."
      ],
      "metadata": {
        "id": "r_NAtqFt00kF"
      }
    },
    {
      "cell_type": "code",
      "source": [
        "def distinct_nums(arr1,arr2):\n",
        "  set1 = set(arr1)\n",
        "  set2 = set(arr2)\n",
        "  arr3 = []\n",
        "  arr4 = []\n",
        "\n",
        "  for num in set1:\n",
        "    if num not in set2:\n",
        "      arr3.append(num)\n",
        "  for num in set2:\n",
        "    if num not in set1:\n",
        "      arr4.append(num)\n",
        "  return [arr3,arr4]\n",
        "###Driver Code\n",
        "nums1 = [1,2,3]\n",
        "nums2 = [2,4,6]\n",
        "res = distinct_nums(nums1,nums2)\n",
        "print(res)"
      ],
      "metadata": {
        "colab": {
          "base_uri": "https://localhost:8080/"
        },
        "id": "syyVZFMw0tRV",
        "outputId": "de0d2587-2def-4876-fff8-63cc0270081d"
      },
      "execution_count": 6,
      "outputs": [
        {
          "output_type": "stream",
          "name": "stdout",
          "text": [
            "[[1, 3], [4, 6]]\n"
          ]
        }
      ]
    },
    {
      "cell_type": "markdown",
      "source": [
        "<aside>\n",
        "💡 **Question 5**\n",
        "\n",
        "Given two integer arrays arr1 and arr2, and the integer d, *return the distance value between the two arrays*.\n",
        "\n",
        "The distance value is defined as the number of elements arr1[i] such that there is not any element arr2[j] where |arr1[i]-arr2[j]| <= d.\n",
        "\n",
        "**Example 1:**\n",
        "\n",
        "**Input:** arr1 = [4,5,8], arr2 = [10,9,1,8], d = 2\n",
        "\n",
        "**Output:** 2\n",
        "\n",
        "**Explanation:**\n",
        "\n",
        "For arr1[0]=4 we have:\n",
        "\n",
        "|4-10|=6 > d=2\n",
        "\n",
        "|4-9|=5 > d=2\n",
        "\n",
        "|4-1|=3 > d=2\n",
        "\n",
        "|4-8|=4 > d=2\n",
        "\n",
        "For arr1[1]=5 we have:\n",
        "\n",
        "|5-10|=5 > d=2\n",
        "\n",
        "|5-9|=4 > d=2\n",
        "\n",
        "|5-1|=4 > d=2\n",
        "\n",
        "|5-8|=3 > d=2\n",
        "\n",
        "For arr1[2]=8 we have:\n",
        "\n",
        "**|8-10|=2 <= d=2**\n",
        "\n",
        "**|8-9|=1 <= d=2**\n",
        "\n",
        "|8-1|=7 > d=2\n",
        "\n",
        "**|8-8|=0 <= d=2**\n",
        "\n",
        "</aside>"
      ],
      "metadata": {
        "id": "J5CH-Gdo4o4U"
      }
    },
    {
      "cell_type": "code",
      "source": [
        "def find_distance(arr1,arr2,d):\n",
        "  distance = 0\n",
        "  for num1 in arr1:\n",
        "    valid = True\n",
        "    for num2 in arr2:\n",
        "      if abs(num1 - num2) <= d:\n",
        "        valid = False\n",
        "        break\n",
        "    if valid:\n",
        "      distance += 1\n",
        "  return distance\n",
        "###Driver Code\n",
        "arr1 = [4,5,8]\n",
        "arr2 = [10,9,1,8]\n",
        "d = 2\n",
        "res = find_distance(arr1,arr2,d)\n",
        "print(res)"
      ],
      "metadata": {
        "colab": {
          "base_uri": "https://localhost:8080/"
        },
        "id": "z2986BIE217b",
        "outputId": "008a2e78-0d94-4445-cd3f-7774011a5171"
      },
      "execution_count": 7,
      "outputs": [
        {
          "output_type": "stream",
          "name": "stdout",
          "text": [
            "2\n"
          ]
        }
      ]
    },
    {
      "cell_type": "markdown",
      "source": [
        "💡 **Question 6**\n",
        "\n",
        "Given an integer array nums of length n where all the integers of nums are in the range [1, n] and each integer appears **once** or **twice**, return *an array of all the integers that appears **twice***.\n",
        "\n",
        "You must write an algorithm that runs in O(n) time and uses only constant extra space.\n",
        "\n",
        "**Example 1:**\n",
        "\n",
        "**Input:** nums = [4,3,2,7,8,2,3,1]\n",
        "\n",
        "**Output:**\n",
        "\n",
        "[2,3]"
      ],
      "metadata": {
        "id": "IcIh0U50CRdt"
      }
    },
    {
      "cell_type": "code",
      "source": [
        "def findDuplicate(nums):\n",
        "    seen = set()\n",
        "    duplicates = set()\n",
        "    for num in nums:\n",
        "        if num in seen:\n",
        "            duplicates.add(num)\n",
        "        else:\n",
        "            seen.add(num)\n",
        "    return list(duplicates)\n",
        "### Driver Code\n",
        "nums = [4,3,2,7,8,2,3,1]\n",
        "res = findDuplicate(nums)\n",
        "print(res)"
      ],
      "metadata": {
        "colab": {
          "base_uri": "https://localhost:8080/"
        },
        "id": "DL0rEb_eEfws",
        "outputId": "7baed567-d2c0-4f1c-c762-124d56d07557"
      },
      "execution_count": 10,
      "outputs": [
        {
          "output_type": "stream",
          "name": "stdout",
          "text": [
            "[2, 3]\n"
          ]
        }
      ]
    },
    {
      "cell_type": "markdown",
      "source": [
        "Time Complexity : O(n)\n",
        "Space Complexity : O(n)"
      ],
      "metadata": {
        "id": "qRn_2faCGFkI"
      }
    },
    {
      "cell_type": "code",
      "source": [
        "def findDuplicates(nums):\n",
        "    duplicates = []\n",
        "    for num in nums:\n",
        "        index = abs(num) - 1\n",
        "        if nums[index] < 0:\n",
        "            duplicates.append(abs(num))\n",
        "        else:\n",
        "            nums[index] = -nums[index]\n",
        "    return duplicates\n",
        "### Driver Code\n",
        "nums = [4,3,2,7,8,2,3,1]\n",
        "res = findDuplicates(nums)\n",
        "print(res)"
      ],
      "metadata": {
        "colab": {
          "base_uri": "https://localhost:8080/"
        },
        "id": "0YI8OvsPFzH6",
        "outputId": "3918e4d3-d031-4a8e-fd1d-d863f5a22373"
      },
      "execution_count": 12,
      "outputs": [
        {
          "output_type": "stream",
          "name": "stdout",
          "text": [
            "[2, 3]\n"
          ]
        }
      ]
    },
    {
      "cell_type": "markdown",
      "source": [
        "Time Complexity : O(n)\n",
        "\n",
        "Space Complexity : O(1)"
      ],
      "metadata": {
        "id": "KDWyVAKtGWIs"
      }
    },
    {
      "cell_type": "markdown",
      "source": [
        "<aside>\n",
        "💡 **Question 7**\n",
        "\n",
        "Suppose an array of length n sorted in ascending order is **rotated** between 1 and n times. For example, the array nums = [0,1,2,4,5,6,7] might become:\n",
        "\n",
        "- [4,5,6,7,0,1,2] if it was rotated 4 times.\n",
        "- [0,1,2,4,5,6,7] if it was rotated 7 times.\n",
        "\n",
        "Notice that **rotating** an array [a[0], a[1], a[2], ..., a[n-1]] 1 time results in the array [a[n-1], a[0], a[1], a[2], ..., a[n-2]].\n",
        "\n",
        "Given the sorted rotated array nums of **unique** elements, return *the minimum element of this array*.\n",
        "\n",
        "You must write an algorithm that runs in O(log n) time.\n",
        "\n",
        "**Example 1:**\n",
        "\n",
        "**Input:** nums = [3,4,5,1,2]\n",
        "\n",
        "**Output:** 1\n",
        "\n",
        "**Explanation:**\n",
        "\n",
        "The original array was [1,2,3,4,5] rotated 3 times.\n",
        "\n",
        "</aside>"
      ],
      "metadata": {
        "id": "QJfFAqfuGhKj"
      }
    },
    {
      "cell_type": "code",
      "source": [
        "def findMin(nums):\n",
        "  if len(nums) == 1:\n",
        "    return nums[0]\n",
        "  left = 0\n",
        "  right = len(nums) - 1\n",
        "  if nums[right] > nums[0]:\n",
        "    return nums[0]\n",
        "  while right >= left:\n",
        "    mid = left + (right - left) // 2\n",
        "    if nums[mid] > nums[mid + 1]:\n",
        "      return nums[mid + 1]\n",
        "    if nums[mid - 1] > nums[mid]:\n",
        "      return nums[mid]\n",
        "    if nums[mid] > nums[0]:\n",
        "      left = mid + 1\n",
        "    else:\n",
        "      right = mid - 1\n",
        "###Driver Code\n",
        "nums = [3,4,5,1,2]\n",
        "res = findMin(nums)\n",
        "print(res)"
      ],
      "metadata": {
        "colab": {
          "base_uri": "https://localhost:8080/"
        },
        "id": "Lgy_oS2yGEhD",
        "outputId": "2915bb52-0a2e-49ee-cb05-18cd87f51899"
      },
      "execution_count": 14,
      "outputs": [
        {
          "output_type": "stream",
          "name": "stdout",
          "text": [
            "1\n"
          ]
        }
      ]
    },
    {
      "cell_type": "markdown",
      "source": [
        "Time Complexity : O(logn)"
      ],
      "metadata": {
        "id": "8XttSyLQM0lz"
      }
    },
    {
      "cell_type": "markdown",
      "source": [
        "<aside>\n",
        "💡 **Question 8**\n",
        "\n",
        "An integer array original is transformed into a **doubled** array changed by appending **twice the value** of every element in original, and then randomly **shuffling** the resulting array.\n",
        "\n",
        "Given an array changed, return original *if* changed *is a **doubled** array. If* changed *is not a **doubled** array, return an empty array. The elements in* original *may be returned in **any** order*.\n",
        "\n",
        "**Example 1:**\n",
        "\n",
        "**Input:** changed = [1,3,4,2,6,8]\n",
        "\n",
        "**Output:** [1,3,4]\n",
        "\n",
        "**Explanation:** One possible original array could be [1,3,4]:\n",
        "\n",
        "- Twice the value of 1 is 1 * 2 = 2.\n",
        "- Twice the value of 3 is 3 * 2 = 6.\n",
        "- Twice the value of 4 is 4 * 2 = 8.\n",
        "\n",
        "Other original arrays could be [4,3,1] or [3,1,4].\n",
        "\n",
        "</aside>"
      ],
      "metadata": {
        "id": "jtn4A6e0M5bW"
      }
    },
    {
      "cell_type": "code",
      "source": [
        "def findOriginalArray(changed):\n",
        "    if len(changed) % 2 != 0:\n",
        "        return []\n",
        "\n",
        "    count = {}\n",
        "    for num in changed:\n",
        "        count[num] = count.get(num, 0) + 1\n",
        "\n",
        "    original = []\n",
        "    for num in sorted(changed):\n",
        "        if count.get(num, 0) == 0:\n",
        "            continue\n",
        "        if count.get(2 * num, 0) == 0:\n",
        "            return []\n",
        "        original.append(num)\n",
        "        count[num] -= 1\n",
        "        count[2 * num] -= 1\n",
        "\n",
        "    return original\n",
        "changed = [1, 3, 4, 2, 6, 8]\n",
        "res = findOriginalArray(changed)\n",
        "print(res)\n"
      ],
      "metadata": {
        "colab": {
          "base_uri": "https://localhost:8080/"
        },
        "id": "MBjtIXHJNpDJ",
        "outputId": "93119638-1bc2-41a2-ff0f-4c31fb9f1b12"
      },
      "execution_count": 16,
      "outputs": [
        {
          "output_type": "stream",
          "name": "stdout",
          "text": [
            "[1, 3, 4]\n"
          ]
        }
      ]
    },
    {
      "cell_type": "code",
      "source": [],
      "metadata": {
        "id": "Md6QMImKOFnL"
      },
      "execution_count": null,
      "outputs": []
    }
  ]
}