{
  "nbformat": 4,
  "nbformat_minor": 0,
  "metadata": {
    "colab": {
      "provenance": []
    },
    "kernelspec": {
      "name": "python3",
      "display_name": "Python 3"
    },
    "language_info": {
      "name": "python"
    }
  },
  "cells": [
    {
      "cell_type": "markdown",
      "source": [
        "💡 **Question 1**\n",
        "Given three integer arrays arr1, arr2 and arr3 **sorted** in **strictly increasing** order, return a sorted array of **only** the integers that appeared in **all** three arrays.\n",
        "\n",
        "**Example 1:**\n",
        "\n",
        "Input: arr1 = [1,2,3,4,5], arr2 = [1,2,5,7,9], arr3 = [1,3,4,5,8]\n",
        "\n",
        "Output: [1,5]\n",
        "\n",
        "**Explanation:** Only 1 and 5 appeared in the three arrays."
      ],
      "metadata": {
        "id": "__O5ojRWHAxj"
      }
    },
    {
      "cell_type": "code",
      "execution_count": null,
      "metadata": {
        "id": "08fEH1Z3GTVN",
        "colab": {
          "base_uri": "https://localhost:8080/"
        },
        "outputId": "1a2c00b1-ef7d-4e73-ed1c-5a2d5a71446f"
      },
      "outputs": [
        {
          "output_type": "stream",
          "name": "stdout",
          "text": [
            "[1, 5]\n"
          ]
        }
      ],
      "source": [
        "def array2(arr1,arr2,arr3):\n",
        "  arr4 = []\n",
        "  n1 = len(arr1)-1\n",
        "  n2 = len(arr2)-1\n",
        "  n3 = len(arr3)-1\n",
        "  i = 0\n",
        "  j = 0\n",
        "  k = 0\n",
        "  while ((i <= n1) and (j <= n2) and (k <= n3)):\n",
        "    if (arr1[i] == arr2[j]) and (arr2[j] == arr3[k]):\n",
        "      arr4.append(arr1[i])\n",
        "      i += 1\n",
        "      j += 1\n",
        "      k += 1\n",
        "\n",
        "    elif arr1[i] < arr2[j] :\n",
        "      i += 1\n",
        "    elif (arr1[i] == arr2[j]) and (arr2[j] < arr3[k]):\n",
        "      i += 1\n",
        "      j += 1\n",
        "    else:\n",
        "      k += 1\n",
        "\n",
        "  \n",
        "  return arr4\n",
        "### Driver Code\n",
        "arr1 = [1,2,3,4,5]\n",
        "arr2 = [1,2,5,7,9]\n",
        "arr3 = [1,3,4,5,8]\n",
        "res = array2(arr1,arr2,arr3)\n",
        "print(res)"
      ]
    },
    {
      "cell_type": "code",
      "source": [
        "def array(arr1,arr2,arr3,n1,n2,n3):\n",
        "  return sorted(set(arr1)&set(arr2)& set(arr3))\n",
        "### Driver Code\n",
        "arr1 = [1,2,3,4,5]\n",
        "arr2 = [1,2,5,7,9]\n",
        "arr3 = [1,3,4,5,8]\n",
        "n1 = len(arr1)\n",
        "n2 = len(arr2)\n",
        "n3 = len(arr3)\n",
        "res = array(arr1,arr2,arr3,n1,n2,n3)\n",
        "print(res)"
      ],
      "metadata": {
        "id": "Gg2KQNWauzwd",
        "colab": {
          "base_uri": "https://localhost:8080/"
        },
        "outputId": "703c9d75-4876-4165-c631-5e785d24bfcf"
      },
      "execution_count": null,
      "outputs": [
        {
          "output_type": "stream",
          "name": "stdout",
          "text": [
            "[1, 5]\n"
          ]
        }
      ]
    },
    {
      "cell_type": "markdown",
      "source": [
        "<aside>\n",
        "💡 **Question 2**\n",
        "\n",
        "Given two **0-indexed** integer arrays nums1 and nums2, return *a list* answer *of size* 2 *where:*\n",
        "\n",
        "- answer[0] *is a list of all **distinct** integers in* nums1 *which are **not** present in* nums2*.*\n",
        "- answer[1] *is a list of all **distinct** integers in* nums2 *which are **not** present in* nums1.\n",
        "\n",
        "**Note** that the integers in the lists may be returned in **any** order.\n",
        "\n",
        "**Example 1:**\n",
        "\n",
        "**Input:** nums1 = [1,2,3], nums2 = [2,4,6]\n",
        "\n",
        "**Output:** [[1,3],[4,6]]\n",
        "\n",
        "**Explanation:**\n",
        "\n",
        "For nums1, nums1[1] = 2 is present at index 0 of nums2, whereas nums1[0] = 1 and nums1[2] = 3 are not present in nums2. Therefore, answer[0] = [1,3].\n",
        "\n",
        "For nums2, nums2[0] = 2 is present at index 1 of nums1, whereas nums2[1] = 4 and nums2[2] = 6 are not present in nums2. Therefore, answer[1] = [4,6].\n",
        "\n",
        "</aside>"
      ],
      "metadata": {
        "id": "0dR5JxoXGr__"
      }
    },
    {
      "cell_type": "code",
      "source": [
        "def distinct_elements(arr1,arr2):\n",
        "  set1 = set(arr1)\n",
        "  set2 = set(arr2)\n",
        "  distinct_nums1 = [num for num in arr1 if num not in set2]\n",
        "  distinct_nums2 = [num for num in arr2 if num not in set1]\n",
        "\n",
        "  return [distinct_nums1,distinct_nums2]\n",
        "\n",
        "###Driver Code\n",
        "nums1 = [1,2,3]\n",
        "nums2 = [2,4,6]\n",
        "res = distinct_elements(nums1,nums2)\n",
        "print(res)"
      ],
      "metadata": {
        "colab": {
          "base_uri": "https://localhost:8080/"
        },
        "id": "KSv4OQ0bArhp",
        "outputId": "5b86a324-86e2-471d-eb37-5615095aa52d"
      },
      "execution_count": null,
      "outputs": [
        {
          "output_type": "stream",
          "name": "stdout",
          "text": [
            "[[1, 3], [4, 6]]\n"
          ]
        }
      ]
    },
    {
      "cell_type": "markdown",
      "source": [
        "Time Complexity : O(m+n)\n",
        "Space Complexity : O(m+n)"
      ],
      "metadata": {
        "id": "oVFybDufWBwW"
      }
    },
    {
      "cell_type": "code",
      "source": [
        "def dis_ele(arr1,arr2):\n",
        "  set1 = set(arr1)\n",
        "  set2 = set(arr2)\n",
        "  arr3 = []\n",
        "  arr4 = []\n",
        "  for num in set1:\n",
        "    if num not in set2:\n",
        "      arr3.append(num)\n",
        "      num += 1\n",
        "  for num in set2:\n",
        "    if num not in set1:\n",
        "      arr4.append(num)\n",
        "      num += 1\n",
        "  return [arr3,arr4]\n",
        "###Driver Code\n",
        "nums1 = [1,2,3]\n",
        "nums2 = [2,4,6]\n",
        "res = dis_ele(nums1,nums2)\n",
        "print(res)"
      ],
      "metadata": {
        "colab": {
          "base_uri": "https://localhost:8080/"
        },
        "id": "p6rRO4oXTskq",
        "outputId": "4c6b4874-e38d-4556-e72b-1e5ea5af7260"
      },
      "execution_count": null,
      "outputs": [
        {
          "output_type": "stream",
          "name": "stdout",
          "text": [
            "[[1, 3], [4, 6]]\n"
          ]
        }
      ]
    },
    {
      "cell_type": "markdown",
      "source": [
        "💡 **Question 3**\n",
        "Given a 2D integer array matrix, return *the **transpose** of* matrix.\n",
        "\n",
        "The **transpose** of a matrix is the matrix flipped over its main diagonal, switching the matrix's row and column indices.\n",
        "\n",
        "**Example 1:**\n",
        "\n",
        "Input: matrix = [[1,2,3],[4,5,6],[7,8,9]]\n",
        "\n",
        "Output: [[1,4,7],[2,5,8],[3,6,9]]"
      ],
      "metadata": {
        "id": "iJ6HupsTaugH"
      }
    },
    {
      "cell_type": "code",
      "source": [
        "def transpose_matrix(matrix):\n",
        "  n_rows = len(matrix)\n",
        "  n_columns = len(matrix[0])\n",
        "  # Create an empty matrix with dimensions [n_columns, n_rows]\n",
        "  transpose = [[0 for _ in range(n_rows)] for _ in range(n_columns)]\n",
        "  for i in range(n_rows):\n",
        "    for j in range(n_columns):\n",
        "      # Assign the element at current row and column indices\n",
        "      # to the corresponding column and row indices in transpose matrix\n",
        "      transpose[j][i] = matrix[i][j]\n",
        "    \n",
        "  return transpose\n",
        "\n",
        "###Driver Code\n",
        "matrix = [[1,2,3],[4,5,6],[7,8,9]]\n",
        "res = transpose_matrix(matrix)\n",
        "print(res)"
      ],
      "metadata": {
        "id": "PRlShJUVYx-l",
        "colab": {
          "base_uri": "https://localhost:8080/"
        },
        "outputId": "1bf2f9f8-93c3-4094-f77b-4d3ce0ebeb8d"
      },
      "execution_count": null,
      "outputs": [
        {
          "output_type": "stream",
          "name": "stdout",
          "text": [
            "[[1, 4, 7], [2, 5, 8], [3, 6, 9]]\n"
          ]
        }
      ]
    },
    {
      "cell_type": "markdown",
      "source": [
        "<aside>\n",
        "💡 **Question 4**\n",
        "Given an integer array nums of 2n integers, group these integers into n pairs (a1, b1), (a2, b2), ..., (an, bn) such that the sum of min(ai, bi) for all i is **maximized**. Return *the maximized sum*.\n",
        "\n",
        "**Example 1:**\n",
        "\n",
        "Input: nums = [1,4,3,2]\n",
        "\n",
        "Output: 4\n",
        "\n",
        "**Explanation:** All possible pairings (ignoring the ordering of elements) are:\n",
        "\n",
        "1. (1, 4), (2, 3) -> min(1, 4) + min(2, 3) = 1 + 2 = 3\n",
        "\n",
        "2. (1, 3), (2, 4) -> min(1, 3) + min(2, 4) = 1 + 2 = 3\n",
        "\n",
        "3. (1, 2), (3, 4) -> min(1, 2) + min(3, 4) = 1 + 3 = 4\n",
        "\n",
        "So the maximum possible sum is 4.\n",
        "\n",
        "</aside>"
      ],
      "metadata": {
        "id": "9y6EScy8iGqD"
      }
    },
    {
      "cell_type": "code",
      "source": [
        "def max_sum(arr):\n",
        "    arr.sort() \n",
        "    max_sum = 0\n",
        "    arr1 =[]\n",
        "    for i in range(0, len(arr), 2):\n",
        "      arr2 = arr[i],arr[i+1]\n",
        "      max_sum += min(arr[i],arr[i+1])\n",
        "      arr1.append(arr2)\n",
        "    return max_sum\n",
        "###Driver Code\n",
        "nums = [1,4,3,2]\n",
        "res = max_sum(nums)\n",
        "print(res)"
      ],
      "metadata": {
        "colab": {
          "base_uri": "https://localhost:8080/"
        },
        "id": "KrWZLTdniDxw",
        "outputId": "e81736a2-b6ff-4fa2-fa38-1cbc98e25bca"
      },
      "execution_count": null,
      "outputs": [
        {
          "output_type": "stream",
          "name": "stdout",
          "text": [
            "4\n"
          ]
        }
      ]
    },
    {
      "cell_type": "markdown",
      "source": [
        "<aside>\n",
        "💡 **Question 5**\n",
        "You have n coins and you want to build a staircase with these coins. The staircase consists of k rows where the ith row has exactly i coins. The last row of the staircase **may be** incomplete.\n",
        "\n",
        "Given the integer n, return *the number of **complete rows** of the staircase you will build*.\n",
        "\n",
        "**Input:** n = 5\n",
        "\n",
        "**Output:** 2\n",
        "\n",
        "**Explanation:** Because the 3rd row is incomplete, we return 2."
      ],
      "metadata": {
        "id": "ZV4SZY0NqMNc"
      }
    },
    {
      "cell_type": "code",
      "source": [
        "def arrange_coin(n):\n",
        "  left = 0\n",
        "  right = n\n",
        "  while left <= right:\n",
        "    mid = (left + right) // 2\n",
        "    curr_sum = (mid * (mid + 1)) // 2\n",
        "        \n",
        "    if curr_sum <= n:\n",
        "      left = mid + 1\n",
        "    else:\n",
        "      right = mid - 1\n",
        "    \n",
        "  return right\n",
        "###Driver Code\n",
        "n = 5\n",
        "result = arrange_coin(n)\n",
        "print(result)"
      ],
      "metadata": {
        "colab": {
          "base_uri": "https://localhost:8080/"
        },
        "id": "FiDUVKHjnwiT",
        "outputId": "985cc797-8b16-4842-f9a0-926412c2d75b"
      },
      "execution_count": null,
      "outputs": [
        {
          "output_type": "stream",
          "name": "stdout",
          "text": [
            "2\n"
          ]
        }
      ]
    },
    {
      "cell_type": "markdown",
      "source": [
        "💡 **Question 6**\n",
        "Given an integer array nums sorted in **non-decreasing** order, return *an array of **the squares of each number** sorted in non-decreasing order*.\n",
        "\n",
        "**Example 1:**\n",
        "\n",
        "Input: nums = [-4,-1,0,3,10]\n",
        "\n",
        "Output: [0,1,9,16,100]\n",
        "\n",
        "**Explanation:** After squaring, the array becomes [16,1,0,9,100].\n",
        "After sorting, it becomes [0,1,9,16,100]\n",
        "\n",
        "</aside>"
      ],
      "metadata": {
        "id": "voKaMy_zrONz"
      }
    },
    {
      "cell_type": "code",
      "source": [
        "def square_arr(arr):\n",
        "  arr2 = []\n",
        "  for i in range(0,len(arr)):\n",
        "    square = arr[i]**2\n",
        "    arr2.append(square)\n",
        "    arr2.sort()\n",
        "  return arr2\n",
        "### Driver Code\n",
        "nums = [-4,-1,0,3,10]\n",
        "res = square_arr(nums)\n",
        "print(res)"
      ],
      "metadata": {
        "colab": {
          "base_uri": "https://localhost:8080/"
        },
        "id": "wGvFC3SIrcB8",
        "outputId": "d8a9c18a-1f28-4497-bcb9-0042464c40cf"
      },
      "execution_count": null,
      "outputs": [
        {
          "output_type": "stream",
          "name": "stdout",
          "text": [
            "[0, 1, 9, 16, 100]\n"
          ]
        }
      ]
    },
    {
      "cell_type": "markdown",
      "source": [
        "<aside>\n",
        "💡 **Question 7**\n",
        "You are given an m x n matrix M initialized with all 0's and an array of operations ops, where ops[i] = [ai, bi] means M[x][y] should be incremented by one for all 0 <= x < ai and 0 <= y < bi.\n",
        "\n",
        "Count and return *the number of maximum integers in the matrix after performing all the operations*\n",
        "\n",
        "**Input:** m = 3, n = 3, ops = [[2,2],[3,3]]\n",
        "\n",
        "**Output:** 4\n",
        "\n",
        "**Explanation:** The maximum integer in M is 2, and there are four of it in M. So return 4."
      ],
      "metadata": {
        "id": "4fdxcnr6yrsL"
      }
    },
    {
      "cell_type": "code",
      "source": [
        "from typing import List\n",
        "def max_int(m: int,n : int,ops: List[List[int]]) -> int:\n",
        "  if not ops:\n",
        "        return m * n\n",
        "  minimum_row = m\n",
        "  minimum_col = n\n",
        "  for operation in ops:\n",
        "    minimum_row = min(minimum_row,operation[0])\n",
        "    minimum_col = min(minimum_col,operation[1])\n",
        "  return  minimum_row * minimum_col\n",
        "###Driver Code\n",
        "m = 3\n",
        "n = 3\n",
        "ops = [[2,2],[3,3]]\n",
        "res = max_int(m,n,ops)\n",
        "print(res)"
      ],
      "metadata": {
        "id": "FJadHglEsB6B",
        "colab": {
          "base_uri": "https://localhost:8080/"
        },
        "outputId": "26adda6e-1b0c-4dad-8579-731a97208a94"
      },
      "execution_count": null,
      "outputs": [
        {
          "output_type": "stream",
          "name": "stdout",
          "text": [
            "4\n"
          ]
        }
      ]
    },
    {
      "cell_type": "markdown",
      "source": [
        "<aside>\n",
        "💡 **Question 8**\n",
        "\n",
        "Given the array nums consisting of 2n elements in the form [x1,x2,...,xn,y1,y2,...,yn].\n",
        "\n",
        "*Return the array in the form* [x1,y1,x2,y2,...,xn,yn].\n",
        "\n",
        "**Example 1:**\n",
        "\n",
        "**Input:** nums = [2,5,1,3,4,7], n = 3\n",
        "\n",
        "**Output:** [2,3,5,4,1,7]\n",
        "\n",
        "**Explanation:** Since x1=2, x2=5, x3=1, y1=3, y2=4, y3=7 then the answer is [2,3,5,4,1,7]."
      ],
      "metadata": {
        "id": "60pfAagX5m4I"
      }
    },
    {
      "cell_type": "code",
      "source": [
        "def array1(arr, n):\n",
        "    arr1 = arr[:n]\n",
        "    arr2 = arr[n:]\n",
        "    arr3 = []\n",
        "    l = 0\n",
        "    r = 0\n",
        "    while l < len(arr1) and r < len(arr2):\n",
        "        arr3.append(arr1[l])\n",
        "        arr3.append(arr2[r])\n",
        "        l += 1\n",
        "        r += 1\n",
        "    # Add any remaining elements from arr1 or arr2 if one is longer than the other\n",
        "    arr3.extend(arr1[l:])\n",
        "    arr3.extend(arr2[r:])\n",
        "    return arr3\n",
        "\n",
        "# Driver Code\n",
        "nums = [2, 5, 1, 3, 4, 7]\n",
        "n1 = 3\n",
        "res = array1(nums, n1)\n",
        "print(res)\n"
      ],
      "metadata": {
        "colab": {
          "base_uri": "https://localhost:8080/"
        },
        "id": "TgaBzvTy_g5d",
        "outputId": "25b3a8c0-2625-4504-dd08-31b5c993e679"
      },
      "execution_count": null,
      "outputs": [
        {
          "output_type": "stream",
          "name": "stdout",
          "text": [
            "[2, 3, 5, 4, 1, 7]\n"
          ]
        }
      ]
    },
    {
      "cell_type": "code",
      "source": [],
      "metadata": {
        "id": "k-HVlvkU_sq2"
      },
      "execution_count": null,
      "outputs": []
    }
  ]
}