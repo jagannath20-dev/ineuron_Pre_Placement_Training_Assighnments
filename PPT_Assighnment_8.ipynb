{
  "nbformat": 4,
  "nbformat_minor": 0,
  "metadata": {
    "colab": {
      "provenance": []
    },
    "kernelspec": {
      "name": "python3",
      "display_name": "Python 3"
    },
    "language_info": {
      "name": "python"
    }
  },
  "cells": [
    {
      "cell_type": "markdown",
      "source": [
        "Given two strings s1 and s2, return *the lowest **ASCII** sum of deleted characters to make two strings equal*.\n",
        "\n",
        "**Example 1:**\n",
        "\n",
        "**Input:** s1 = \"sea\", s2 = \"eat\"\n",
        "\n",
        "**Output:** 231\n",
        "\n",
        "**Explanation:** Deleting \"s\" from \"sea\" adds the ASCII value of \"s\" (115) to the sum.\n",
        "\n",
        "Deleting \"t\" from \"eat\" adds 116 to the sum.\n",
        "\n",
        "At the end, both strings are equal, and 115 + 116 = 231 is the minimum sum possible to achieve this."
      ],
      "metadata": {
        "id": "sOLIk1ccI48N"
      }
    },
    {
      "cell_type": "code",
      "source": [
        "def minimumDeleteSum(s1, s2):\n",
        "    memo = {} \n",
        "    \n",
        "    def helper(i, j):\n",
        "        if i == len(s1) and j == len(s2):\n",
        "            return 0\n",
        "        \n",
        "        if (i, j) in memo:\n",
        "            return memo[(i, j)]\n",
        "        \n",
        "        if i == len(s1):\n",
        "            result = ord(s2[j]) + helper(i, j+1)\n",
        "        elif j == len(s2):\n",
        "            result = ord(s1[i]) + helper(i+1, j)\n",
        "        elif s1[i] == s2[j]:\n",
        "            result = helper(i+1, j+1)\n",
        "        else:\n",
        "            result = min(ord(s1[i]) + helper(i+1, j), ord(s2[j]) + helper(i, j+1))\n",
        "        \n",
        "        memo[(i, j)] = result\n",
        "        return result\n",
        "    \n",
        "    return helper(0, 0)\n",
        "###Driver Code\n",
        "s1 = \"sea\"\n",
        "s2 = \"eat\"\n",
        "res = minimumDeleteSum(s1,s2)\n",
        "print(res)"
      ],
      "metadata": {
        "colab": {
          "base_uri": "https://localhost:8080/"
        },
        "id": "1mponIIkVAOm",
        "outputId": "88e17124-7af9-4b78-8ff9-d468d1c1c100"
      },
      "execution_count": 10,
      "outputs": [
        {
          "output_type": "stream",
          "name": "stdout",
          "text": [
            "231\n"
          ]
        }
      ]
    },
    {
      "cell_type": "markdown",
      "source": [
        "<aside>\n",
        "💡 **Question 2**\n",
        "\n",
        "Given a string s containing only three types of characters: '(', ')' and '*', return true *if* s *is **valid***.\n",
        "\n",
        "The following rules define a **valid** string:\n",
        "\n",
        "- Any left parenthesis '(' must have a corresponding right parenthesis ')'.\n",
        "- Any right parenthesis ')' must have a corresponding left parenthesis '('.\n",
        "- Left parenthesis '(' must go before the corresponding right parenthesis ')'.\n",
        "- '*' could be treated as a single right parenthesis ')' or a single left parenthesis '(' or an empty string \"\".\n",
        "\n",
        "**Example 1:**\n",
        "\n",
        "**Input:** s = \"()\"\n",
        "\n",
        "**Output:**\n",
        "\n",
        "true"
      ],
      "metadata": {
        "id": "TJ81G9zxVbWn"
      }
    },
    {
      "cell_type": "code",
      "source": [
        "def checkValidString(s):\n",
        "    stack = []\n",
        "    asterisks = []\n",
        "    \n",
        "    for i, char in enumerate(s):\n",
        "        if char == '(':\n",
        "            stack.append(i)\n",
        "        elif char == '*':\n",
        "            asterisks.append(i)\n",
        "        else:\n",
        "            if stack:\n",
        "                stack.pop()\n",
        "            elif asterisks:\n",
        "                asterisks.pop()\n",
        "            else:\n",
        "                return False\n",
        "    \n",
        "    while stack and asterisks:\n",
        "        if stack[-1] > asterisks[-1]:\n",
        "            return False\n",
        "        stack.pop()\n",
        "        asterisks.pop()\n",
        "    \n",
        "    return len(stack) == 0\n",
        "###Driver Code\n",
        "s = \"()\"\n",
        "res = checkValidString(s)\n",
        "print(res)"
      ],
      "metadata": {
        "colab": {
          "base_uri": "https://localhost:8080/"
        },
        "id": "udlu5B0eVMku",
        "outputId": "5111eb87-45a9-4a3a-cf05-7a1bde3f0d68"
      },
      "execution_count": 11,
      "outputs": [
        {
          "output_type": "stream",
          "name": "stdout",
          "text": [
            "True\n"
          ]
        }
      ]
    },
    {
      "cell_type": "markdown",
      "source": [
        "<aside>\n",
        "💡 **Question 3**\n",
        "\n",
        "Given two strings word1 and word2, return *the minimum number of **steps** required to make* word1 *and* word2 *the same*.\n",
        "\n",
        "In one **step**, you can delete exactly one character in either string.\n",
        "\n",
        "**Example 1:**\n",
        "\n",
        "**Input:** word1 = \"sea\", word2 = \"eat\"\n",
        "\n",
        "**Output:** 2\n",
        "\n",
        "**Explanation:** You need one step to make \"sea\" to \"ea\" and another step to make \"eat\" to \"ea\".\n",
        "\n",
        "</aside>"
      ],
      "metadata": {
        "id": "Cd9j8IQ5V1Ac"
      }
    },
    {
      "cell_type": "code",
      "source": [
        "def minDistance(word1, word2):\n",
        "    m, n = len(word1), len(word2)\n",
        "    dp = [[0] * (n+1) for _ in range(m+1)]\n",
        "    \n",
        "    for i in range(1, m+1):\n",
        "        for j in range(1, n+1):\n",
        "            if word1[i-1] == word2[j-1]:\n",
        "                dp[i][j] = dp[i-1][j-1] + 1\n",
        "            else:\n",
        "                dp[i][j] = max(dp[i-1][j], dp[i][j-1])\n",
        "    \n",
        "    return m + n - 2 * dp[m][n]\n",
        "###Driver Code\n",
        "word1 = \"sea\"\n",
        "word2 = \"eat\"\n",
        "res = minDistance(word1,word2)\n",
        "print(res)"
      ],
      "metadata": {
        "colab": {
          "base_uri": "https://localhost:8080/"
        },
        "id": "xue7HJKYVwwj",
        "outputId": "6e85b643-85c6-467b-fe25-c684e079f918"
      },
      "execution_count": 12,
      "outputs": [
        {
          "output_type": "stream",
          "name": "stdout",
          "text": [
            "2\n"
          ]
        }
      ]
    },
    {
      "cell_type": "markdown",
      "source": [
        "<aside>\n",
        "💡 **Question 4**\n",
        "\n",
        "You need to construct a binary tree from a string consisting of parenthesis and integers.\n",
        "\n",
        "The whole input represents a binary tree. It contains an integer followed by zero, one or two pairs of parenthesis. The integer represents the root's value and a pair of parenthesis contains a child binary tree with the same structure.\n",
        "You always start to construct the **left** child node of the parent first if it exists.\n",
        "\n",
        "**Input:** s = \"4(2(3)(1))(6(5))\"\n",
        "\n",
        "**Output:** [4,2,6,3,1,5]"
      ],
      "metadata": {
        "id": "UPX0NHK2WRsP"
      }
    },
    {
      "cell_type": "code",
      "source": [],
      "metadata": {
        "id": "RZWvI9pUXsDa"
      },
      "execution_count": null,
      "outputs": []
    },
    {
      "cell_type": "markdown",
      "source": [
        "<aside>\n",
        "💡 **Question 5**\n",
        "\n",
        "Given an array of characters chars, compress it using the following algorithm:\n",
        "\n",
        "Begin with an empty string s. For each group of **consecutive repeating characters** in chars:\n",
        "\n",
        "- If the group's length is 1, append the character to s.\n",
        "- Otherwise, append the character followed by the group's length.\n",
        "\n",
        "The compressed string s **should not be returned separately**, but instead, be stored **in the input character array chars**. Note that group lengths that are 10 or longer will be split into multiple characters in chars.\n",
        "\n",
        "After you are done **modifying the input array,** return *the new length of the array*.\n",
        "\n",
        "You must write an algorithm that uses only constant extra space.\n",
        "\n",
        "**Example 1:**\n",
        "\n",
        "**Input:** chars = [\"a\",\"a\",\"b\",\"b\",\"c\",\"c\",\"c\"]\n",
        "\n",
        "**Output:** Return 6, and the first 6 characters of the input array should be: [\"a\",\"2\",\"b\",\"2\",\"c\",\"3\"]\n",
        "\n",
        "**Explanation:**\n",
        "\n",
        "The groups are \"aa\", \"bb\", and \"ccc\". This compresses to \"a2b2c3\"\n",
        "\n",
        "</aside>"
      ],
      "metadata": {
        "id": "WHo0_lJiXjKg"
      }
    },
    {
      "cell_type": "code",
      "source": [
        "def compress(chars):\n",
        "    if not chars:\n",
        "        return 0\n",
        "\n",
        "    write = 0  # position to write the compressed characters\n",
        "    count = 1  # count of consecutive repeating characters\n",
        "\n",
        "    for i in range(1, len(chars)):\n",
        "        if chars[i] == chars[i - 1]:\n",
        "            count += 1\n",
        "        else:\n",
        "            chars[write] = chars[i - 1]\n",
        "            write += 1\n",
        "\n",
        "            if count > 1:\n",
        "                count_str = str(count)\n",
        "                for j in range(len(count_str)):\n",
        "                    chars[write] = count_str[j]\n",
        "                    write += 1\n",
        "\n",
        "            count = 1\n",
        "\n",
        "    chars[write] = chars[-1]\n",
        "    write += 1\n",
        "\n",
        "    if count > 1:\n",
        "        count_str = str(count)\n",
        "        for j in range(len(count_str)):\n",
        "            chars[write] = count_str[j]\n",
        "            write += 1\n",
        "\n",
        "    return write\n",
        "\n",
        "##Driver Code\n",
        "chars = [\"a\",\"a\",\"b\",\"b\",\"c\",\"c\",\"c\"]\n",
        "length = compress(chars)\n",
        "print(length)\n",
        "print(chars[:length])"
      ],
      "metadata": {
        "colab": {
          "base_uri": "https://localhost:8080/"
        },
        "id": "n0T49eXtXeXa",
        "outputId": "d9ca211f-f7ab-4362-934f-36e1ae1bdb12"
      },
      "execution_count": 17,
      "outputs": [
        {
          "output_type": "stream",
          "name": "stdout",
          "text": [
            "6\n",
            "['a', '2', 'b', '2', 'c', '3']\n"
          ]
        }
      ]
    },
    {
      "cell_type": "markdown",
      "source": [
        "<aside>\n",
        "💡 **Question 6**\n",
        "\n",
        "Given two strings s and p, return *an array of all the start indices of* p*'s anagrams in* s. You may return the answer in **any order**.\n",
        "\n",
        "An **Anagram** is a word or phrase formed by rearranging the letters of a different word or phrase, typically using all the original letters exactly once.\n",
        "\n",
        "**Example 1:**\n",
        "\n",
        "**Input:** s = \"cbaebabacd\", p = \"abc\"\n",
        "\n",
        "**Output:** [0,6]\n",
        "\n",
        "**Explanation:**\n",
        "\n",
        "The substring with start index = 0 is \"cba\", which is an anagram of \"abc\".\n",
        "\n",
        "The substring with start index = 6 is \"bac\", which is an anagram of \"abc\".\n",
        "\n",
        "</aside>"
      ],
      "metadata": {
        "id": "mq_gVARdX6k0"
      }
    },
    {
      "cell_type": "code",
      "source": [
        "from collections import Counter\n",
        "\n",
        "def findAnagrams(s, p):\n",
        "    result = []\n",
        "    p_freq = Counter(p)\n",
        "    s_freq = Counter(s[:len(p)])\n",
        "\n",
        "    if s_freq == p_freq:\n",
        "        result.append(0)\n",
        "\n",
        "    for i in range(len(p), len(s)):\n",
        "        s_freq[s[i - len(p)]] -= 1\n",
        "        if s_freq[s[i - len(p)]] == 0:\n",
        "            del s_freq[s[i - len(p)]]\n",
        "\n",
        "        s_freq[s[i]] += 1\n",
        "\n",
        "        if s_freq == p_freq:\n",
        "            result.append(i - len(p) + 1)\n",
        "\n",
        "    return result\n",
        "\n",
        "### Driver code\n",
        "s = \"cbaebabacd\"\n",
        "p = \"abc\"\n",
        "indices = findAnagrams(s, p)\n",
        "print(indices)"
      ],
      "metadata": {
        "colab": {
          "base_uri": "https://localhost:8080/"
        },
        "id": "yoY3flbjXyFY",
        "outputId": "61bbfd6b-3e73-44af-e14b-7c8d4aeab669"
      },
      "execution_count": 18,
      "outputs": [
        {
          "output_type": "stream",
          "name": "stdout",
          "text": [
            "[0, 6]\n"
          ]
        }
      ]
    },
    {
      "cell_type": "markdown",
      "source": [
        "<aside>\n",
        "💡 **Question 7**\n",
        "\n",
        "Given an encoded string, return its decoded string.\n",
        "\n",
        "The encoding rule is: k[encoded_string], where the encoded_string inside the square brackets is being repeated exactly k times. Note that k is guaranteed to be a positive integer.\n",
        "\n",
        "You may assume that the input string is always valid; there are no extra white spaces, square brackets are well-formed, etc. Furthermore, you may assume that the original data does not contain any digits and that digits are only for those repeat numbers, k. For example, there will not be input like 3a or 2[4].\n",
        "\n",
        "The test cases are generated so that the length of the output will never exceed 105.\n",
        "\n",
        "**Example 1:**\n",
        "\n",
        "**Input:** s = \"3[a]2[bc]\"\n",
        "\n",
        "**Output:** \"aaabcbc\"\n",
        "\n",
        "</aside>"
      ],
      "metadata": {
        "id": "47BGGsq2YSxw"
      }
    },
    {
      "cell_type": "code",
      "source": [
        "def decodeString(s):\n",
        "    stack = []\n",
        "    for char in s:\n",
        "        if char == ']':\n",
        "            substr = ''\n",
        "            while stack[-1] != '[':\n",
        "                substr = stack.pop() + substr\n",
        "            stack.pop()  # Remove the opening bracket '['\n",
        "\n",
        "            count = ''\n",
        "            while stack and stack[-1].isdigit():\n",
        "                count = stack.pop() + count\n",
        "\n",
        "            stack.append(substr * int(count))\n",
        "        else:\n",
        "            stack.append(char)\n",
        "\n",
        "    return ''.join(stack)\n",
        "\n",
        "### Driver code\n",
        "s = \"3[a]2[bc]\"\n",
        "decoded_string = decodeString(s)\n",
        "print(decoded_string)"
      ],
      "metadata": {
        "colab": {
          "base_uri": "https://localhost:8080/"
        },
        "id": "HOtt0yY8YOOc",
        "outputId": "ca4ce2b3-ca45-4c97-9d5d-5b992a0241f3"
      },
      "execution_count": 19,
      "outputs": [
        {
          "output_type": "stream",
          "name": "stdout",
          "text": [
            "aaabcbc\n"
          ]
        }
      ]
    },
    {
      "cell_type": "markdown",
      "source": [
        "<aside>\n",
        "💡 **Question 8**\n",
        "\n",
        "Given two strings s and goal, return true *if you can swap two letters in* s *so the result is equal to* goal*, otherwise, return* false*.*\n",
        "\n",
        "Swapping letters is defined as taking two indices i and j (0-indexed) such that i != j and swapping the characters at s[i] and s[j].\n",
        "\n",
        "- For example, swapping at indices 0 and 2 in \"abcd\" results in \"cbad\".\n",
        "\n",
        "**Example 1:**\n",
        "\n",
        "**Input:** s = \"ab\", goal = \"ba\"\n",
        "\n",
        "**Output:** true\n",
        "\n",
        "**Explanation:** You can swap s[0] = 'a' and s[1] = 'b' to get \"ba\", which is equal to goal.\n",
        "\n",
        "</aside>"
      ],
      "metadata": {
        "id": "AeH16uMsYgd9"
      }
    },
    {
      "cell_type": "code",
      "source": [
        "def buddyStrings(s, goal):\n",
        "    if len(s) != len(goal):\n",
        "        return False\n",
        "\n",
        "    if s == goal:\n",
        "        seen = set()\n",
        "        for char in s:\n",
        "            if char in seen:\n",
        "                return True\n",
        "            seen.add(char)\n",
        "        return False\n",
        "\n",
        "    mismatched = []\n",
        "    for i in range(len(s)):\n",
        "        if s[i] != goal[i]:\n",
        "            mismatched.append(i)\n",
        "\n",
        "    if len(mismatched) == 2:\n",
        "        i, j = mismatched\n",
        "        if s[i] == goal[j] and s[j] == goal[i]:\n",
        "            return True\n",
        "\n",
        "    return False\n",
        "\n",
        "###Driver  code\n",
        "s = \"ab\"\n",
        "goal = \"ba\"\n",
        "result = buddyStrings(s, goal)\n",
        "print(result)"
      ],
      "metadata": {
        "colab": {
          "base_uri": "https://localhost:8080/"
        },
        "id": "d3hLor4DYaLX",
        "outputId": "c3bf0129-ba08-4175-a79e-8acb336973e8"
      },
      "execution_count": 20,
      "outputs": [
        {
          "output_type": "stream",
          "name": "stdout",
          "text": [
            "True\n"
          ]
        }
      ]
    },
    {
      "cell_type": "code",
      "source": [],
      "metadata": {
        "id": "XoHi0RQGYkb3"
      },
      "execution_count": null,
      "outputs": []
    }
  ]
}